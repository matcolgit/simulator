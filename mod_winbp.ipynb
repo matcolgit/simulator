{
 "cells": [
  {
   "cell_type": "markdown",
   "id": "iraqi-faculty",
   "metadata": {},
   "source": [
    "The implementation used at the moment is\n",
    "\n",
    "    def rank(self, t_day, daily_contacts, daily_obs)\n",
    "\n",
    "instead of the original\n",
    "\n",
    "    def rank(self, t_day, daily_contacts, daily_obs, data)"
   ]
  },
  {
   "cell_type": "code",
   "execution_count": null,
   "id": "bound-alexander",
   "metadata": {},
   "outputs": [],
   "source": []
  }
 ],
 "metadata": {
  "kernelspec": {
   "display_name": "Python 3",
   "language": "python",
   "name": "python3"
  },
  "language_info": {
   "codemirror_mode": {
    "name": "ipython",
    "version": 3
   },
   "file_extension": ".py",
   "mimetype": "text/x-python",
   "name": "python",
   "nbconvert_exporter": "python",
   "pygments_lexer": "ipython3",
   "version": "3.7.9"
  }
 },
 "nbformat": 4,
 "nbformat_minor": 5
}
