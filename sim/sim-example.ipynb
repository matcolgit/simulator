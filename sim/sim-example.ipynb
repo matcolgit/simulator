{
 "cells": [
  {
   "cell_type": "markdown",
   "metadata": {},
   "source": [
    "# Contact tracing simulation"
   ]
  },
  {
   "cell_type": "markdown",
   "metadata": {},
   "source": [
    "**Import libs**"
   ]
  },
  {
   "cell_type": "code",
   "execution_count": 1,
   "metadata": {},
   "outputs": [],
   "source": [
    "%load_ext autoreload\n",
    "%autoreload 2\n",
    "import sys, os\n",
    "if '..' not in sys.path:\n",
    "    sys.path.append('..')\n",
    "sys.path.insert(0, '../../sib/')\n",
    "sys.path.insert(0, '../../../sib/')"
   ]
  },
  {
   "cell_type": "code",
   "execution_count": 2,
   "metadata": {},
   "outputs": [
    {
     "name": "stderr",
     "output_type": "stream",
     "text": [
      "\n",
      "Bad key \"text.kerning_factor\" on line 4 in\n",
      "/opt/anaconda3/envs/bigdatalab_cpu_202101/lib/python3.7/site-packages/matplotlib/mpl-data/stylelib/_classic_test_patch.mplstyle.\n",
      "You probably need to get an updated matplotlibrc file from\n",
      "https://github.com/matplotlib/matplotlib/blob/v3.1.2/matplotlibrc.template\n",
      "or from the matplotlib source distribution\n"
     ]
    }
   ],
   "source": [
    "import numpy as np\n",
    "import random as rd\n",
    "import pandas as pd\n",
    "import pickle\n",
    "import multiprocessing\n",
    "import argparse\n",
    "from lib.measures import *\n",
    "from lib.experiment import Experiment, options_to_str, process_command_line\n",
    "from lib.calibrationSettings import calibration_lockdown_dates, calibration_mob_paths, calibration_states, calibration_lockdown_beta_multipliers\n",
    "from lib.calibrationFunctions import get_calibrated_params\n",
    "\n",
    "from ranker import winbp_prob0_rank\n",
    "\n",
    "import sib\n",
    "\n",
    "import matplotlib.pyplot as plt\n",
    "from lib.plot import Plotter\n",
    "%matplotlib inline\n",
    "\n",
    "# converting days to hours\n",
    "TO_HOURS = 24.0"
   ]
  },
  {
   "cell_type": "markdown",
   "metadata": {},
   "source": [
    "## 1. Define the experiment parameters"
   ]
  },
  {
   "cell_type": "markdown",
   "metadata": {},
   "source": [
    "Some model parameters are in `calibrationSettings.py`, as the testing parameters (also for contact tracing), the lockdown dates, the path to the .pk file and the beta multipliers for a lockdown.\n",
    "\n",
    "In `calibration_testing_params`, `'test_queue_policy'` can be set to either `'fifo'` (first in first out) or `'exposure-risk'` (priority based), `'smart_tracing_actions'` can be any of `'isolate'` and `'test'`, while `'smart_tracing_policy_isolate'` and `smart_tracing_policy_test` are both set to `'sib'` in order to use the sib contact tracing. These values are set in the list `settings`:"
   ]
  },
  {
   "cell_type": "code",
   "execution_count": 3,
   "metadata": {},
   "outputs": [],
   "source": [
    "name = 'rescale-seedcomp-1repeats-50days-10downsampling-0.55beta-0000'\n",
    "\n",
    "country = 'GER'\n",
    "area = 'TU'\n",
    "start_date = '2020-07-01'\n",
    "#end_date = '2020-07-31'\n",
    "end_date = '2020-07-08'\n",
    "\n",
    "random_repeats = 1 # recommended to set to at least 48  \n",
    "full_scale = False\n",
    "\n",
    "# Load mob settings        \n",
    "mob_settings_file = calibration_mob_paths[country][area][1 if full_scale else 0]\n",
    "with open(mob_settings_file, 'rb') as fp:\n",
    "    mob_settings = pickle.load(fp)\n",
    "\n",
    "N = int(mob_settings['num_people_unscaled'] / mob_settings['downsample'])\n",
    "\n",
    "\n",
    "# list of contact tracing experiments parameters\n",
    "# (test_queue_policy, smart_tracing_actions, tests_per_batch, test_delay, smart_tracing_contacts, test_isolation_policy)\n",
    "settings = [\n",
    "    #('fifo', [], 0, 48.0, 0, None),\n",
    "    #('fifo', ['isolate', 'test'], 5000, 48.0, 5000, 'sib'),\n",
    "    #('fifo', ['isolate', 'test'], 5000, 48.0, 5000, 'basic')\n",
    "    ('fifo', [], 0, 48.0, 0, None),\n",
    "    ('fifo', ['isolate', 'test'], 500, 48.0, 500, 'sib'),\n",
    "#     ('fifo', ['isolate', 'test'], 1000, 48.0, 1000, 'sib'),\n",
    "#     ('fifo', ['isolate', 'test'], 1500, 48.0, 1500, 'sib'),\n",
    "]\n",
    "\n",
    "#names = ['no_testing', 'sib_tracing', 'article_tracing']\n",
    "names = ['no_testing', 'sib_tracing500', 'sib_tracing1000', 'sib_tracing1500']\n",
    "\n",
    "# seed\n",
    "c = 0\n",
    "np.random.seed(c)\n",
    "rd.seed(c)"
   ]
  },
  {
   "cell_type": "markdown",
   "metadata": {},
   "source": [
    "The parameter `full_scale` is used to select between the data with downsapling and the data without: for example in case of `area = 'TU'` (Tübingen), in `calibrationSettings.py` there is:\n",
    "\n",
    "    # mobs settings path;\n",
    "    calibration_mob_paths = {\n",
    "        'GER': {\n",
    "            'TU': ['lib/mobility/Tubingen_settings_10.pk', 'lib/mobility/Tubingen_settings_1.pk'],\n",
    "            #'TU': ['lib/mobility/Tubingen_settings_10_beacon.pk', 'lib/mobility/Tubingen_settings_1_beacon.pk'],\n",
    "            'KL': ['lib/mobility/Kaiserslautern_settings_10.pk', 'lib/mobility/Kaiserslautern_settings_1.pk'],\n",
    "            'RH': ['lib/mobility/Ruedesheim_settings_10.pk', 'lib/mobility/Ruedesheim_settings_1.pk'],\n",
    "            'TR': ['lib/mobility/Tirschenreuth_settings_5.pk', 'lib/mobility/Tirschenreuth_settings_1.pk'],\n",
    "        }\n",
    "        ### OTHER LINES ###\n",
    "    }\n",
    "\n",
    "and so `full_scale = False` selects `Tubingen_settings_10.pk`, while `full_scale = True` selects `Tubingen_settings_1.pk`."
   ]
  },
  {
   "cell_type": "markdown",
   "metadata": {},
   "source": [
    "The model parameters should be calibrated using Bayesian optimization. \n",
    "Run `python calibrate.py --help` to see how to use the calibration script. Also, refer to `calibrationSettings.py` for detailed settings and automatic loading of results."
   ]
  },
  {
   "cell_type": "markdown",
   "metadata": {},
   "source": [
    "#### Add ranker"
   ]
  },
  {
   "cell_type": "code",
   "execution_count": 4,
   "metadata": {},
   "outputs": [],
   "source": [
    "mu = 1/12\n",
    "prob_seed = 1/N\n",
    "prob_sus = 0.5\n",
    "pautoinf = 1e-10\n",
    "pseed = prob_seed / (2 - prob_seed)\n",
    "psus = prob_sus * (1 - pseed)\n",
    "pautoinf = 1e-6\n",
    "fp_rate = 0.0\n",
    "fn_rate = 0.0\n",
    "\n",
    "ranker = winbp_prob0_rank.WinBPProb0Ranker(\n",
    "                 params = sib.Params(\n",
    "                                 prob_i = sib.Uniform(1.0), \n",
    "                                prob_r = sib.Exponential(0.1), \n",
    "                                 pseed = pseed,\n",
    "                                 psus = psus,\n",
    "                                 fp_rate = fp_rate,\n",
    "                                 fn_rate = fn_rate,\n",
    "                                 pautoinf = pautoinf),\n",
    "                 maxit0 = 20,\n",
    "                 maxit1 = 20,\n",
    "                 tol = 1e-3,\n",
    "                 memory_decay = 1e-5,\n",
    "                 window_length = 21,\n",
    "                 tau=0\n",
    ")"
   ]
  },
  {
   "cell_type": "markdown",
   "metadata": {},
   "source": [
    "#### Model parameters"
   ]
  },
  {
   "cell_type": "code",
   "execution_count": 5,
   "metadata": {},
   "outputs": [],
   "source": [
    "arbitrary_model_params = {\n",
    "    'beta_site' :  0.55,      # risk of exposure at sites\n",
    "    'beta_household' : 0.55,  # risk of exposure at home\n",
    "    'p_stay_home' : 1.00,     # probability of not attending a given visit to a site due to social distancing\n",
    "}\n",
    "\n",
    "seed_counts = {\n",
    "        'expo': 3,\n",
    "#         'isym_posi': int(np.round(isym).item()),\n",
    "#         'iasy': int(np.round(iasy).item()),\n",
    "    }"
   ]
  },
  {
   "cell_type": "markdown",
   "metadata": {},
   "source": [
    "#### Define Experiment object"
   ]
  },
  {
   "cell_type": "code",
   "execution_count": 6,
   "metadata": {},
   "outputs": [],
   "source": [
    "experiment_info = f'{name}-{country}-{area}'\n",
    "experiment = Experiment(\n",
    "    experiment_info=experiment_info,\n",
    "    start_date=start_date,\n",
    "    end_date=end_date,\n",
    "    random_repeats=random_repeats,\n",
    "    full_scale=full_scale,\n",
    "    verbose=True,\n",
    "    ranker=ranker\n",
    ")"
   ]
  },
  {
   "cell_type": "markdown",
   "metadata": {},
   "source": [
    "#### Loop over all simulations\n",
    "\n",
    "The measures to take place during simulation are also defined here, and the simulation is added to the experiment.\n",
    "\n",
    "For example to add a lockdown starting from day 14:\n",
    "\n",
    "    lockdown_at_day = 14\n",
    "\n",
    "    sim_days = (pd.to_datetime(end_date) - pd.to_datetime(start_date)).days\n",
    "    max_time = TO_HOURS * sim_days # in hours\n",
    "\n",
    "    example_measures = [\n",
    "\n",
    "        # education, social sites, and offices partially closed/reduced infection after 1 week\n",
    "        BetaMultiplierMeasureByType(\n",
    "            t_window=Interval(lockdown_at_day * TO_HOURS, max_time), \n",
    "            beta_multiplier={ \n",
    "                'education': 0.5, \n",
    "                'social': 0.5, \n",
    "                'bus_stop': 1.0, \n",
    "                'office': 0.5, \n",
    "                'supermarket': 1.0\n",
    "            }),\n",
    "\n",
    "        # less activities of all due to contact constraints after 14 days\n",
    "        SocialDistancingForAllMeasure(\n",
    "         t_window=Interval(lockdown_at_day * TO_HOURS, max_time), \n",
    "            p_stay_home=arbitrary_model_params['p_stay_home'])\n",
    "    ]\n",
    "\n",
    "and the elements of `example_measures` must be added to `m`."
   ]
  },
  {
   "cell_type": "code",
   "execution_count": 7,
   "metadata": {},
   "outputs": [
    {
     "name": "stdout",
     "output_type": "stream",
     "text": [
      "[Added Sim] rescale-seedcomp-1repeats-50days-10downsampling-0.55beta-0000-GER-TU/rescale-seedcomp-1repeats-50days-10downsampling-0.55beta-0000-GER-TU-descr=no_testing\n",
      "rescale-seedcomp-1repeats-50days-10downsampling-0.55beta-0000-GER-TU configuration done.\n",
      "[Added Sim] rescale-seedcomp-1repeats-50days-10downsampling-0.55beta-0000-GER-TU/rescale-seedcomp-1repeats-50days-10downsampling-0.55beta-0000-GER-TU-descr=sib_tracing500\n",
      "rescale-seedcomp-1repeats-50days-10downsampling-0.55beta-0000-GER-TU configuration done.\n"
     ]
    }
   ],
   "source": [
    "count = 0\n",
    "\n",
    "for (test_queue_policy,\n",
    "     smart_tracing_actions,\n",
    "     tests_per_batch,\n",
    "     test_delay,\n",
    "     smart_tracing_contacts,\n",
    "     test_isolation_policy) in settings:\n",
    "    \n",
    "    # set testing params via update function of standard testing parameters\n",
    "    def test_update(d):\n",
    "        d['test_queue_policy'] = test_queue_policy\n",
    "        d['smart_tracing_actions'] = smart_tracing_actions\n",
    "        d['test_reporting_lag'] = test_delay\n",
    "        d['tests_per_batch'] = tests_per_batch\n",
    "\n",
    "        # isolation\n",
    "        d['smart_tracing_policy_isolate'] = test_isolation_policy\n",
    "        d['smart_tracing_isolated_contacts'] = smart_tracing_contacts\n",
    "        d['smart_tracing_isolation_duration'] = 14 * TO_HOURS\n",
    "\n",
    "        # testing\n",
    "        d['smart_tracing_policy_test'] = test_isolation_policy\n",
    "        d['smart_tracing_tested_contacts'] = smart_tracing_contacts\n",
    "\n",
    "        return d\n",
    "    \n",
    "    # measures\n",
    "    max_days = (pd.to_datetime(end_date) - pd.to_datetime(start_date)).days\n",
    "    \n",
    "    m = [\n",
    "            SocialDistancingForSmartTracing(\n",
    "                t_window=Interval(0.0, TO_HOURS * max_days), \n",
    "                p_stay_home=1.0, \n",
    "                smart_tracing_isolation_duration=TO_HOURS * 14.0),\n",
    "            SocialDistancingForSmartTracingHousehold(\n",
    "                t_window=Interval(0.0, TO_HOURS * max_days),\n",
    "                p_isolate=1.0,\n",
    "                smart_tracing_isolation_duration=TO_HOURS * 14.0),\n",
    "            SocialDistancingSymptomaticAfterSmartTracing(\n",
    "                t_window=Interval(0.0, TO_HOURS * max_days),\n",
    "                p_stay_home=1.0,\n",
    "                smart_tracing_isolation_duration=TO_HOURS * 14.0),\n",
    "            SocialDistancingSymptomaticAfterSmartTracingHousehold(\n",
    "                t_window=Interval(0.0, TO_HOURS * max_days),\n",
    "                p_isolate=1.0,\n",
    "                smart_tracing_isolation_duration=TO_HOURS * 14.0),\n",
    "            ]\n",
    "    \n",
    "    simulation_info = options_to_str(\n",
    "        descr=names[count],\n",
    "    )\n",
    "    \n",
    "    count += 1\n",
    "\n",
    "    experiment.add(\n",
    "        simulation_info=simulation_info,\n",
    "        country=country,\n",
    "        area=area,\n",
    "        measure_list=m,\n",
    "        lockdown_measures_active = False,\n",
    "        set_calibrated_params_to=arbitrary_model_params,\n",
    "        full_scale=full_scale,\n",
    "        test_update=test_update,\n",
    "        seed_summary_path=None,\n",
    "        set_initial_seeds_to=seed_counts)\n",
    "\n",
    "    print(f'{experiment_info} configuration done.')"
   ]
  },
  {
   "cell_type": "markdown",
   "metadata": {},
   "source": [
    "In `experiment.add()` there is also the possibility to specify other parameters of the simulation, such as `expected_daily_base_expo_per100k`, which is by default set to 0, while setting a nonzero value has the following effect:\n",
    "\n",
    "    if expected_daily_base_expo_per100k > 0.0:\n",
    "\n",
    "        # Scale expectation to simulation size\n",
    "        num_people = len(mob_settings['home_loc'])\n",
    "        lambda_base_expo_population = expected_daily_base_expo_per100k * (num_people / 100000)\n",
    "\n",
    "        # Convert to individual base rate by dividing by population size; priority queue handles superposition\n",
    "        lambda_base_expo_indiv = lambda_base_expo_population / num_people\n",
    "\n",
    "        # Poisson process with rate lambda: interarrival times are Exponential r.v. with mean = 1 / lambda\n",
    "        # Hence set rate of Expo r.v.s to 1 / (1 / lambda) = lambda\n",
    "        distributions.lambda_0 = lambda_base_expo_indiv\n",
    "\n",
    "Another parameter that can be specified is `beacon_config`, which can be `None` (digital tracing is P2P) or `beacon_config['mode']` can be `'all'` (all sites have a beacon), `'random'` (some sites have a beacon) or `'visit_freq'` (sites with higher priority have a beacon, where the priority is based on integrated visit time scaled with site specific beta). By default `beacon_config` is `None`."
   ]
  },
  {
   "cell_type": "markdown",
   "metadata": {},
   "source": [
    "## 2. Run the simulations"
   ]
  },
  {
   "cell_type": "markdown",
   "metadata": {},
   "source": [
    "Run the experiment using the parameters defined above and simulate in the future, with additional measures of varying duration.\n",
    "\n",
    "**WARNING: this cell might take a long time to run depending of the parameters defined above**"
   ]
  },
  {
   "cell_type": "code",
   "execution_count": 8,
   "metadata": {
    "scrolled": true
   },
   "outputs": [
    {
     "name": "stdout",
     "output_type": "stream",
     "text": [
      "Warning: debug mode in parallel.py\n",
      "Starting launch_parallel_simulations\n",
      "Starting pp_launch\n",
      "cpu_count: 1\n",
      "repeat_ids: [0]\n",
      "Inside pp_launch\n",
      "Simulating mobility\n",
      "Min duration with delta: 0.36541861300374556\n",
      "Max duration with delta: 20.587981448563976\n",
      "Mobility simulation ended\n",
      "Using delta: 0.3654120904376099\n",
      "Launching epidemic\n",
      "Initializing inference algorithm\n",
      "Main loop starting, population of 9054\n",
      "\n",
      "Testing event at time 24.0\n",
      "Tested 0 individuals\n",
      "\n",
      "Testing event at time 48.0\n",
      "Tested 0 individuals\n",
      "\n",
      "Testing event at time 72.0\n",
      "Tested 0 individuals\n",
      "\n",
      "Testing event at time 96.0\n",
      "Tested 0 individuals\n",
      "\n",
      "Testing event at time 120.0\n",
      "Tested 0 individuals\n",
      "\n",
      "Testing event at time 144.0\n",
      "Tested 0 individuals\n",
      "End main loop\n",
      "Total number of infections: 84\n",
      "Infections from contacts 57\n",
      "Infections from indirect contacts 3\n",
      "Infections from pure indirect contacts 0\n",
      "[Finished Sim] rescale-seedcomp-1repeats-50days-10downsampling-0.55beta-0000-GER-TU/rescale-seedcomp-1repeats-50days-10downsampling-0.55beta-0000-GER-TU-descr=no_testing\n",
      "Starting launch_parallel_simulations\n",
      "Starting pp_launch\n",
      "cpu_count: 1\n",
      "repeat_ids: [0]\n",
      "Inside pp_launch\n",
      "Simulating mobility\n",
      "Min duration with delta: 0.3654249399488947\n",
      "Max duration with delta: 22.608131649226756\n",
      "Mobility simulation ended\n",
      "Using delta: 0.3654120904376099\n",
      "Launching epidemic\n",
      "Initializing inference algorithm\n",
      "Main loop starting, population of 9054\n",
      "\n",
      "Testing event at time 24.0\n",
      "Tested 0 individuals\n",
      "\n",
      "Testing event at time 48.0\n",
      "Tested 0 individuals\n",
      "\n",
      "Testing event at time 72.0\n",
      "Tested 0 individuals\n",
      "\n",
      "Testing event at time 96.0\n",
      "Tested 0 individuals\n",
      "\n",
      "Testing event at time 120.0\n",
      "Tested 0 individuals\n",
      "sib tracing event\n",
      "t, t_day: 132.0 5\n",
      "t_start: 0\n",
      "t_end: 132.0\n",
      "len(contacts_raw): 614758\n",
      "len(valid_contacts): 614758\n",
      "Remove assertions if everything works\n",
      "min t_day contacts 0\n",
      "max t_day contacts 4\n",
      "len(contacts_df) before households 614580\n",
      "len(contacts_df) after households 682970\n",
      "Adding fake obs and old contacts for first sib tracing event\n",
      "Isolating 500 individuals/20 3.185e-15/0.001    \n",
      "Adding to testing queue 500 individuals\n",
      "\n",
      "Testing event at time 144.0\n",
      "Tested 500 individuals\n",
      "sib tracing event\n",
      "t, t_day: 156.0 6\n",
      "t_start: 132.0\n",
      "t_end: 156.0\n",
      "len(contacts_raw): 114680\n",
      "len(valid_contacts): 102902\n",
      "Remove assertions if everything works\n",
      "min t_day contacts 5\n",
      "max t_day contacts 5\n",
      "len(contacts_df) before households 101020\n",
      "len(contacts_df) after households 112230\n",
      "Isolating 500 individuals/20 1.737e-05/0.001    \n",
      "Adding to testing queue 500 individuals\n",
      "End main loop\n",
      "Total number of infections: 135\n",
      "Infections from contacts 112\n",
      "Infections from indirect contacts 3\n",
      "Infections from pure indirect contacts 0\n",
      "[Finished Sim] rescale-seedcomp-1repeats-50days-10downsampling-0.55beta-0000-GER-TU/rescale-seedcomp-1repeats-50days-10downsampling-0.55beta-0000-GER-TU-descr=sib_tracing500\n"
     ]
    }
   ],
   "source": [
    "print('Warning: debug mode in parallel.py')\n",
    "experiment.run_all() "
   ]
  },
  {
   "cell_type": "markdown",
   "metadata": {},
   "source": [
    "## 3. Plot the results"
   ]
  },
  {
   "cell_type": "markdown",
   "metadata": {},
   "source": [
    "Refer to `sim-plot.ipynb` for plotting. The results of the above experiment are stored inside the `sim/summaries/` folder of the repository."
   ]
  },
  {
   "cell_type": "markdown",
   "metadata": {},
   "source": [
    "# TO CHECK\n",
    "\n",
    "* why is `calibration_states` imported?\n",
    "* ranker needs `prob_seed = 1/N`; atm N is `'num_people_unscaled'`, should it be the scaled number of people?"
   ]
  }
 ],
 "metadata": {
  "kernelspec": {
   "display_name": "Python 3",
   "language": "python",
   "name": "python3"
  },
  "language_info": {
   "codemirror_mode": {
    "name": "ipython",
    "version": 3
   },
   "file_extension": ".py",
   "mimetype": "text/x-python",
   "name": "python",
   "nbconvert_exporter": "python",
   "pygments_lexer": "ipython3",
   "version": "3.7.9"
  }
 },
 "nbformat": 4,
 "nbformat_minor": 4
}
