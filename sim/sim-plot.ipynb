{
 "cells": [
  {
   "cell_type": "markdown",
   "metadata": {},
   "source": [
    "# Experiment plotting\n",
    "\n",
    "This notebook contains the code for plotting results for the different experiments.\n",
    "When run for the first time for a town, condensed summary files are being created which strongly speed up subsequent generations of plots from the same summaries. It is possible to create the plots only from the condensed summaries located in 'summaries/condensed_summaries'.\n",
    "Note that this works for all experiments but the Rt plots, which still require the full summary file.\n"
   ]
  },
  {
   "cell_type": "code",
   "execution_count": 1,
   "metadata": {},
   "outputs": [],
   "source": [
    "%load_ext autoreload\n",
    "%autoreload 2"
   ]
  },
  {
   "cell_type": "code",
   "execution_count": 2,
   "metadata": {},
   "outputs": [
    {
     "name": "stderr",
     "output_type": "stream",
     "text": [
      "\n",
      "Bad key \"text.kerning_factor\" on line 4 in\n",
      "/opt/anaconda3/envs/bigdatalab_cpu_202101/lib/python3.7/site-packages/matplotlib/mpl-data/stylelib/_classic_test_patch.mplstyle.\n",
      "You probably need to get an updated matplotlibrc file from\n",
      "https://github.com/matplotlib/matplotlib/blob/v3.1.2/matplotlibrc.template\n",
      "or from the matplotlib source distribution\n"
     ]
    }
   ],
   "source": [
    "import os\n",
    "import pandas as pd\n",
    "import pickle\n",
    "from lib.measures import *\n",
    "from lib.experiment import Experiment, Plot, Result, get_properties, load_summary_list, load_summary\n",
    "from lib.data import collect_data_from_df\n",
    "from lib.calibrationSettings import calibration_lockdown_dates, calibration_start_dates, calibration_mob_paths\n",
    "from lib.calibrationFunctions import get_calibrated_params, downsample_cases\n",
    "import lib.plot as lib_plot\n",
    "from lib.plot import Plotter\n",
    "#from lib.plot import extract_data_from_summary, load_extracted_data"
   ]
  },
  {
   "cell_type": "code",
   "execution_count": 3,
   "metadata": {},
   "outputs": [],
   "source": [
    "places = [('GER', 'TU'), ('GER', 'RH'), ('GER', 'KL'), ('CH', 'TI'), ('CH', 'BE'), ('CH', 'JU')]\n",
    "\n",
    "places = [('GER', 'TU')]\n",
    "\n",
    "ymax_interventions = {'CH' : {'TI': 1000, 'BE': 2000, 'JU': 3000},\n",
    "                      'GER': {'TU': 2000, 'RH': 800, 'KL': 500}}\n",
    "\n",
    "ymax_tracing =  {'CH' : {'TI' : 50, 'JU': 200, 'BE': 300},\n",
    "                 'GER' : {'TU' : 350, 'RH': 150, 'KL': 100}}\n",
    "\n",
    "ymax_modelfit = {'GER': {'TU': 1200, 'KL': 500, 'RH': 749, 'TR': 2000,},\n",
    "                 'CH': {'VD': 2000, 'BE': 590, 'TI': 500, 'JU': 500,}}"
   ]
  },
  {
   "cell_type": "markdown",
   "metadata": {},
   "source": [
    "## Model fit"
   ]
  },
  {
   "cell_type": "code",
   "execution_count": 4,
   "metadata": {},
   "outputs": [
    {
     "data": {
      "text/plain": [
       "<bound method Plotter.plot_positives_vs_target of <lib.plot.Plotter object at 0x7fa600208990>>"
      ]
     },
     "execution_count": 4,
     "metadata": {},
     "output_type": "execute_result"
    }
   ],
   "source": [
    "plotter = Plotter()\n",
    "plotter.plot_positives_vs_target"
   ]
  },
  {
   "cell_type": "code",
   "execution_count": 5,
   "metadata": {},
   "outputs": [],
   "source": [
    "def plot_prova(country, area, ymax, xtick_interval, plot_rt=False):\n",
    "    # Format: {`filename for plot` : `list of `Plot` objects`}\n",
    "    plots = {\n",
    "        f'prova-{country}-{area}' : [\n",
    "            Plot(label='article tracing',\n",
    "                path=(f'8repeats-40days-10downsampling-{country}-{area}/'\n",
    "                      f'8repeats-40days-10downsampling-{country}-{area}-descr=article_tracing.pk')),\n",
    "            Plot(label='no testing',\n",
    "                path=(f'8repeats-40days-10downsampling-{country}-{area}/'\n",
    "                      f'8repeats-40days-10downsampling-{country}-{area}-descr=no_testing.pk')),\n",
    "            Plot(label='sib tracing',\n",
    "                path=(f'8repeats-40days-10downsampling-{country}-{area}/'\n",
    "                      f'8repeats-40days-10downsampling-{country}-{area}-descr=sib_tracing.pk')),\n",
    "        ],\n",
    "    }\n",
    "    \n",
    "#     plots = {\n",
    "#         f'realistic-scenario-{country}-{area}' : [\n",
    "#             Plot(label=r'Realistic ``lockdown\" scenario', \n",
    "#                 path=(f'continued-lockdown-{country}-{area}/'\n",
    "#                       f'continued-lockdown-{country}-{area}-extended_lockdown_weeks=100.pk')),\n",
    "#         ],\n",
    "#     }\n",
    "\n",
    "\n",
    "    for plot_filename, plots in plots.items():\n",
    "\n",
    "        # extract plot info\n",
    "        labels = get_properties(plots, 'label')\n",
    "        paths = get_properties(plots, 'path')\n",
    "\n",
    "        # plots\n",
    "        plotter = Plotter()\n",
    "\n",
    "        start_date = calibration_start_dates[country][area]\n",
    "        start_date_lockdown = calibration_lockdown_dates[country]['start']\n",
    "        end_date = calibration_lockdown_dates[country]['end']\n",
    "\n",
    "        days_until_lockdown = (pd.to_datetime(start_date_lockdown) - pd.to_datetime(start_date)).days\n",
    "\n",
    "        plotter.compare_total_infections(\n",
    "            paths, \n",
    "            titles=labels, \n",
    "            filename=plot_filename, \n",
    "            start_date=start_date,\n",
    "#             figsize=lib_plot.FIG_SIZE_NEURIPS_DOUBLE_TALL, \n",
    "            figsize=lib_plot.FIG_SIZE_FULL_PAGE_TRIPLE_ARXIV, \n",
    "            figformat='neurips-double',\n",
    "            legend_is_left=False,\n",
    "            lockdown_label='Interventions',\n",
    "            lockdown_at=days_until_lockdown,\n",
    "            lockdown_xshift=0.0,\n",
    "            lockdown_label_y=0.25,\n",
    "            ymax=ymax[country][area],\n",
    "            xtick_interval=xtick_interval[country][area],\n",
    "            errorevery=14\n",
    "        )"
   ]
  },
  {
   "cell_type": "code",
   "execution_count": 6,
   "metadata": {},
   "outputs": [
    {
     "name": "stdout",
     "output_type": "stream",
     "text": [
      "GER TU\n",
      "Loaded previously extracted data.\n",
      "Loaded previously extracted data.\n"
     ]
    },
    {
     "name": "stderr",
     "output_type": "stream",
     "text": [
      "/opt/anaconda3/envs/bigdatalab_cpu_202101/lib/python3.7/site-packages/matplotlib/cbook/__init__.py:1402: FutureWarning: Support for multi-dimensional indexing (e.g. `obj[:, None]`) is deprecated and will be removed in a future version.  Convert to a numpy array before indexing instead.\n",
      "  ndim = x[:, None].ndim\n",
      "/opt/anaconda3/envs/bigdatalab_cpu_202101/lib/python3.7/site-packages/matplotlib/axes/_base.py:276: FutureWarning: Support for multi-dimensional indexing (e.g. `obj[:, None]`) is deprecated and will be removed in a future version.  Convert to a numpy array before indexing instead.\n",
      "  x = x[:, np.newaxis]\n"
     ]
    },
    {
     "name": "stdout",
     "output_type": "stream",
     "text": [
      "Loaded previously extracted data.\n",
      "crop_pdfs.sh: line 2: pdfcrop: command not found\n"
     ]
    },
    {
     "data": {
      "image/png": "[encoded data removed]",
      "text/plain": [
       "<Figure size 318.182x204.167 with 1 Axes>"
      ]
     },
     "metadata": {
      "needs_background": "light"
     },
     "output_type": "display_data"
    }
   ],
   "source": [
    "ymax = {'CH' : {'TI': 5000, 'BE': 40000, 'JU': 25000},\n",
    "       'GER': {'TU': 10000, 'RH': 2000, 'KL': 750}}\n",
    "\n",
    "xtick_interval = {\n",
    "    'GER': {'RH': 2, 'TU': 2, 'KL': 3},\n",
    "    'CH': {'BE': 4, 'JU': 4, 'TI': 4},\n",
    "}\n",
    "\n",
    "for country, area in places:\n",
    "#     if area not in ['BE', 'RH']:\n",
    "#         continue\n",
    "    print(country, area)\n",
    "    plot_prova(country, area, ymax, xtick_interval, plot_rt=False)\n",
    "    \n",
    "# Crop pdf margins\n",
    "!bash crop_pdfs.sh plots/continued-lockdown-*.pdf\n",
    "# !bash crop_pdfs.sh plots/realistic-scenario-*.pdf"
   ]
  },
  {
   "cell_type": "code",
   "execution_count": 7,
   "metadata": {},
   "outputs": [],
   "source": [
    "def plot_prova3(country, area, ymax, xtick_interval, plot_rt=False):\n",
    "    # Format: {`filename for plot` : `list of `Plot` objects`}\n",
    "    plots = {\n",
    "        f'prova-{country}-{area}' : [\n",
    "            Plot(label='article tracing',\n",
    "                path=(f'1repeats-40days-10downsampling-{country}-{area}/'\n",
    "                      f'1repeats-40days-10downsampling-{country}-{area}-descr=article_tracing.pk')),\n",
    "            Plot(label='no testing',\n",
    "                path=(f'1repeats-40days-10downsampling-{country}-{area}/'\n",
    "                      f'1repeats-40days-10downsampling-{country}-{area}-descr=no_testing.pk')),\n",
    "            Plot(label='sib tracing',\n",
    "                path=(f'1repeats-40days-10downsampling-{country}-{area}/'\n",
    "                      f'1repeats-40days-10downsampling-{country}-{area}-descr=sib_tracing.pk')),\n",
    "        ],\n",
    "    }\n",
    "    \n",
    "#     plots = {\n",
    "#         f'realistic-scenario-{country}-{area}' : [\n",
    "#             Plot(label=r'Realistic ``lockdown\" scenario', \n",
    "#                 path=(f'continued-lockdown-{country}-{area}/'\n",
    "#                       f'continued-lockdown-{country}-{area}-extended_lockdown_weeks=100.pk')),\n",
    "#         ],\n",
    "#     }\n",
    "\n",
    "\n",
    "    for plot_filename, plots in plots.items():\n",
    "\n",
    "        # extract plot info\n",
    "        labels = get_properties(plots, 'label')\n",
    "        paths = get_properties(plots, 'path')\n",
    "\n",
    "        # plots\n",
    "        plotter = Plotter()\n",
    "\n",
    "        start_date = calibration_start_dates[country][area]\n",
    "        start_date_lockdown = calibration_lockdown_dates[country]['start']\n",
    "        end_date = calibration_lockdown_dates[country]['end']\n",
    "\n",
    "        days_until_lockdown = (pd.to_datetime(start_date_lockdown) - pd.to_datetime(start_date)).days\n",
    "\n",
    "        plotter.compare_total_infections(\n",
    "            paths, \n",
    "            titles=labels, \n",
    "            filename=plot_filename, \n",
    "            start_date=start_date,\n",
    "#             figsize=lib_plot.FIG_SIZE_NEURIPS_DOUBLE_TALL, \n",
    "            figsize=lib_plot.FIG_SIZE_FULL_PAGE_TRIPLE_ARXIV, \n",
    "            figformat='neurips-double',\n",
    "            legend_is_left=False,\n",
    "            lockdown_label='Interventions',\n",
    "            lockdown_at=days_until_lockdown,\n",
    "            lockdown_xshift=0.0,\n",
    "            lockdown_label_y=0.25,\n",
    "            ymax=ymax[country][area],\n",
    "            xtick_interval=xtick_interval[country][area],\n",
    "            errorevery=14\n",
    "        )"
   ]
  },
  {
   "cell_type": "code",
   "execution_count": 8,
   "metadata": {},
   "outputs": [
    {
     "name": "stdout",
     "output_type": "stream",
     "text": [
      "GER TU\n",
      "Loaded previously extracted data.\n",
      "Loaded previously extracted data.\n",
      "Loaded previously extracted data.\n"
     ]
    },
    {
     "name": "stderr",
     "output_type": "stream",
     "text": [
      "/opt/anaconda3/envs/bigdatalab_cpu_202101/lib/python3.7/site-packages/matplotlib/cbook/__init__.py:1402: FutureWarning: Support for multi-dimensional indexing (e.g. `obj[:, None]`) is deprecated and will be removed in a future version.  Convert to a numpy array before indexing instead.\n",
      "  ndim = x[:, None].ndim\n",
      "/opt/anaconda3/envs/bigdatalab_cpu_202101/lib/python3.7/site-packages/matplotlib/axes/_base.py:276: FutureWarning: Support for multi-dimensional indexing (e.g. `obj[:, None]`) is deprecated and will be removed in a future version.  Convert to a numpy array before indexing instead.\n",
      "  x = x[:, np.newaxis]\n"
     ]
    },
    {
     "name": "stdout",
     "output_type": "stream",
     "text": [
      "crop_pdfs.sh: line 2: pdfcrop: command not found\n"
     ]
    },
    {
     "data": {
      "image/png": "[encoded data removed]",
      "text/plain": [
       "<Figure size 318.182x204.167 with 1 Axes>"
      ]
     },
     "metadata": {
      "needs_background": "light"
     },
     "output_type": "display_data"
    }
   ],
   "source": [
    "ymax = {'CH' : {'TI': 5000, 'BE': 40000, 'JU': 25000},\n",
    "       'GER': {'TU': 10000, 'RH': 2000, 'KL': 750}}\n",
    "\n",
    "xtick_interval = {\n",
    "    'GER': {'RH': 2, 'TU': 2, 'KL': 3},\n",
    "    'CH': {'BE': 4, 'JU': 4, 'TI': 4},\n",
    "}\n",
    "\n",
    "for country, area in places:\n",
    "#     if area not in ['BE', 'RH']:\n",
    "#         continue\n",
    "    print(country, area)\n",
    "    plot_prova3(country, area, ymax, xtick_interval, plot_rt=False)\n",
    "    \n",
    "# Crop pdf margins\n",
    "!bash crop_pdfs.sh plots/continued-lockdown-*.pdf\n",
    "# !bash crop_pdfs.sh plots/realistic-scenario-*.pdf"
   ]
  },
  {
   "cell_type": "code",
   "execution_count": 9,
   "metadata": {},
   "outputs": [],
   "source": [
    "def plot_prova4(country, area, ymax, xtick_interval, plot_rt=False):\n",
    "    # Format: {`filename for plot` : `list of `Plot` objects`}\n",
    "    plots = {\n",
    "        f'prova-{country}-{area}' : [\n",
    "            Plot(label='article tracing',\n",
    "                path=(f'1repeats-50days-10downsampling-0.55beta-{country}-{area}/'\n",
    "                      f'1repeats-50days-10downsampling-0.55beta-{country}-{area}-descr=article_tracing.pk')),\n",
    "            Plot(label='no testing',\n",
    "                path=(f'1repeats-50days-10downsampling-0.55beta-{country}-{area}/'\n",
    "                      f'1repeats-50days-10downsampling-0.55beta-{country}-{area}-descr=no_testing.pk')),\n",
    "            Plot(label='sib tracing',\n",
    "                path=(f'1repeats-50days-10downsampling-0.55beta-{country}-{area}/'\n",
    "                      f'1repeats-50days-10downsampling-0.55beta-{country}-{area}-descr=sib_tracing.pk')),\n",
    "        ],\n",
    "    }\n",
    "    \n",
    "#     plots = {\n",
    "#         f'realistic-scenario-{country}-{area}' : [\n",
    "#             Plot(label=r'Realistic ``lockdown\" scenario', \n",
    "#                 path=(f'continued-lockdown-{country}-{area}/'\n",
    "#                       f'continued-lockdown-{country}-{area}-extended_lockdown_weeks=100.pk')),\n",
    "#         ],\n",
    "#     }\n",
    "\n",
    "\n",
    "    for plot_filename, plots in plots.items():\n",
    "\n",
    "        # extract plot info\n",
    "        labels = get_properties(plots, 'label')\n",
    "        paths = get_properties(plots, 'path')\n",
    "\n",
    "        # plots\n",
    "        plotter = Plotter()\n",
    "\n",
    "        start_date = calibration_start_dates[country][area]\n",
    "        start_date_lockdown = calibration_lockdown_dates[country]['start']\n",
    "        end_date = calibration_lockdown_dates[country]['end']\n",
    "\n",
    "        days_until_lockdown = (pd.to_datetime(start_date_lockdown) - pd.to_datetime(start_date)).days\n",
    "\n",
    "        plotter.compare_total_infections(\n",
    "            paths, \n",
    "            titles=labels, \n",
    "            filename=plot_filename, \n",
    "            start_date=start_date,\n",
    "#             figsize=lib_plot.FIG_SIZE_NEURIPS_DOUBLE_TALL, \n",
    "            figsize=lib_plot.FIG_SIZE_FULL_PAGE_TRIPLE_ARXIV, \n",
    "            figformat='neurips-double',\n",
    "            legend_is_left=False,\n",
    "            lockdown_label='Interventions',\n",
    "            lockdown_at=days_until_lockdown,\n",
    "            lockdown_xshift=0.0,\n",
    "            lockdown_label_y=0.25,\n",
    "            ymax=ymax[country][area],\n",
    "            xtick_interval=xtick_interval[country][area],\n",
    "            errorevery=14\n",
    "        )"
   ]
  },
  {
   "cell_type": "code",
   "execution_count": 10,
   "metadata": {},
   "outputs": [
    {
     "name": "stdout",
     "output_type": "stream",
     "text": [
      "GER TU\n",
      "Loaded previously extracted data.\n",
      "Loaded previously extracted data.\n",
      "Loaded previously extracted data.\n"
     ]
    },
    {
     "name": "stderr",
     "output_type": "stream",
     "text": [
      "/opt/anaconda3/envs/bigdatalab_cpu_202101/lib/python3.7/site-packages/matplotlib/cbook/__init__.py:1402: FutureWarning: Support for multi-dimensional indexing (e.g. `obj[:, None]`) is deprecated and will be removed in a future version.  Convert to a numpy array before indexing instead.\n",
      "  ndim = x[:, None].ndim\n",
      "/opt/anaconda3/envs/bigdatalab_cpu_202101/lib/python3.7/site-packages/matplotlib/axes/_base.py:276: FutureWarning: Support for multi-dimensional indexing (e.g. `obj[:, None]`) is deprecated and will be removed in a future version.  Convert to a numpy array before indexing instead.\n",
      "  x = x[:, np.newaxis]\n"
     ]
    },
    {
     "name": "stdout",
     "output_type": "stream",
     "text": [
      "crop_pdfs.sh: line 2: pdfcrop: command not found\n"
     ]
    },
    {
     "data": {
      "image/png": "[encoded data removed]",
      "text/plain": [
       "<Figure size 318.182x204.167 with 1 Axes>"
      ]
     },
     "metadata": {
      "needs_background": "light"
     },
     "output_type": "display_data"
    }
   ],
   "source": [
    "ymax = {'CH' : {'TI': 5000, 'BE': 40000, 'JU': 25000},\n",
    "       'GER': {'TU': 10000, 'RH': 2000, 'KL': 750}}\n",
    "\n",
    "xtick_interval = {\n",
    "    'GER': {'RH': 2, 'TU': 2, 'KL': 3},\n",
    "    'CH': {'BE': 4, 'JU': 4, 'TI': 4},\n",
    "}\n",
    "\n",
    "for country, area in places:\n",
    "#     if area not in ['BE', 'RH']:\n",
    "#         continue\n",
    "    print(country, area)\n",
    "    plot_prova4(country, area, ymax, xtick_interval, plot_rt=False)\n",
    "    \n",
    "# Crop pdf margins\n",
    "!bash crop_pdfs.sh plots/continued-lockdown-*.pdf\n",
    "# !bash crop_pdfs.sh plots/realistic-scenario-*.pdf"
   ]
  },
  {
   "cell_type": "code",
   "execution_count": 11,
   "metadata": {},
   "outputs": [],
   "source": [
    "def plot_prova5(country, area, ymax, xtick_interval, plot_rt=False):\n",
    "    # Format: {`filename for plot` : `list of `Plot` objects`}\n",
    "    plots = {\n",
    "        f'prova-{country}-{area}' : [\n",
    "            Plot(label='article tracing',\n",
    "                path=(f'1repeats-50days-1downsampling-0.55beta-{country}-{area}/'\n",
    "                      f'1repeats-50days-1downsampling-0.55beta-{country}-{area}-descr=article_tracing.pk')),\n",
    "            Plot(label='no testing',\n",
    "                path=(f'1repeats-50days-1downsampling-0.55beta-{country}-{area}/'\n",
    "                      f'1repeats-50days-1downsampling-0.55beta-{country}-{area}-descr=no_testing.pk')),\n",
    "            Plot(label='sib tracing',\n",
    "                path=(f'1repeats-50days-1downsampling-0.55beta-{country}-{area}/'\n",
    "                      f'1repeats-50days-1downsampling-0.55beta-{country}-{area}-descr=sib_tracing.pk')),\n",
    "        ],\n",
    "    }\n",
    "    \n",
    "#     plots = {\n",
    "#         f'realistic-scenario-{country}-{area}' : [\n",
    "#             Plot(label=r'Realistic ``lockdown\" scenario', \n",
    "#                 path=(f'continued-lockdown-{country}-{area}/'\n",
    "#                       f'continued-lockdown-{country}-{area}-extended_lockdown_weeks=100.pk')),\n",
    "#         ],\n",
    "#     }\n",
    "\n",
    "\n",
    "    for plot_filename, plots in plots.items():\n",
    "\n",
    "        # extract plot info\n",
    "        labels = get_properties(plots, 'label')\n",
    "        paths = get_properties(plots, 'path')\n",
    "\n",
    "        # plots\n",
    "        plotter = Plotter()\n",
    "\n",
    "        start_date = calibration_start_dates[country][area]\n",
    "        start_date_lockdown = calibration_lockdown_dates[country]['start']\n",
    "        end_date = calibration_lockdown_dates[country]['end']\n",
    "\n",
    "        days_until_lockdown = (pd.to_datetime(start_date_lockdown) - pd.to_datetime(start_date)).days\n",
    "\n",
    "        plotter.compare_total_infections(\n",
    "            paths, \n",
    "            titles=labels, \n",
    "            filename=plot_filename, \n",
    "            start_date=start_date,\n",
    "#             figsize=lib_plot.FIG_SIZE_NEURIPS_DOUBLE_TALL, \n",
    "            figsize=lib_plot.FIG_SIZE_FULL_PAGE_TRIPLE_ARXIV, \n",
    "            figformat='neurips-double',\n",
    "            legend_is_left=False,\n",
    "            lockdown_label='Interventions',\n",
    "            lockdown_at=days_until_lockdown,\n",
    "            lockdown_xshift=0.0,\n",
    "            lockdown_label_y=0.25,\n",
    "            ymax=ymax[country][area],\n",
    "            xtick_interval=xtick_interval[country][area],\n",
    "            errorevery=14\n",
    "        )"
   ]
  },
  {
   "cell_type": "code",
   "execution_count": 12,
   "metadata": {},
   "outputs": [
    {
     "name": "stdout",
     "output_type": "stream",
     "text": [
      "GER TU\n",
      "Loaded previously extracted data.\n"
     ]
    },
    {
     "name": "stderr",
     "output_type": "stream",
     "text": [
      "/opt/anaconda3/envs/bigdatalab_cpu_202101/lib/python3.7/site-packages/matplotlib/cbook/__init__.py:1402: FutureWarning: Support for multi-dimensional indexing (e.g. `obj[:, None]`) is deprecated and will be removed in a future version.  Convert to a numpy array before indexing instead.\n",
      "  ndim = x[:, None].ndim\n",
      "/opt/anaconda3/envs/bigdatalab_cpu_202101/lib/python3.7/site-packages/matplotlib/axes/_base.py:276: FutureWarning: Support for multi-dimensional indexing (e.g. `obj[:, None]`) is deprecated and will be removed in a future version.  Convert to a numpy array before indexing instead.\n",
      "  x = x[:, np.newaxis]\n"
     ]
    },
    {
     "name": "stdout",
     "output_type": "stream",
     "text": [
      "Loaded previously extracted data.\n",
      "Loaded previously extracted data.\n",
      "crop_pdfs.sh: line 2: pdfcrop: command not found\n",
      "\n",
      "5000 tests\n"
     ]
    },
    {
     "data": {
      "image/png": "[encoded data removed]",
      "text/plain": [
       "<Figure size 318.182x204.167 with 1 Axes>"
      ]
     },
     "metadata": {
      "needs_background": "light"
     },
     "output_type": "display_data"
    }
   ],
   "source": [
    "ymax = {'CH' : {'TI': 5000, 'BE': 40000, 'JU': 25000},\n",
    "       'GER': {'TU': 100000, 'RH': 2000, 'KL': 750}}\n",
    "\n",
    "xtick_interval = {\n",
    "    'GER': {'RH': 2, 'TU': 2, 'KL': 3},\n",
    "    'CH': {'BE': 4, 'JU': 4, 'TI': 4},\n",
    "}\n",
    "\n",
    "for country, area in places:\n",
    "#     if area not in ['BE', 'RH']:\n",
    "#         continue\n",
    "    print(country, area)\n",
    "    plot_prova5(country, area, ymax, xtick_interval, plot_rt=False)\n",
    "    \n",
    "# Crop pdf margins\n",
    "!bash crop_pdfs.sh plots/continued-lockdown-*.pdf\n",
    "# !bash crop_pdfs.sh plots/realistic-scenario-*.pdf\n",
    "\n",
    "print('\\n5000 tests')"
   ]
  },
  {
   "cell_type": "code",
   "execution_count": 13,
   "metadata": {},
   "outputs": [],
   "source": [
    "def plot_prova7(country, area, ymax, xtick_interval, plot_rt=False):\n",
    "    # Format: {`filename for plot` : `list of `Plot` objects`}\n",
    "    plots = {\n",
    "        f'prova-{country}-{area}' : [\n",
    "            Plot(label='article tracing',\n",
    "                path=(f'nosib-6repeats-50days-1downsampling-0.55beta-{country}-{area}/'\n",
    "                      f'nosib-6repeats-50days-1downsampling-0.55beta-{country}-{area}-descr=article_tracing.pk')),\n",
    "            Plot(label='no testing',\n",
    "                path=(f'nosib-6repeats-50days-1downsampling-0.55beta-{country}-{area}/'\n",
    "                      f'nosib-6repeats-50days-1downsampling-0.55beta-{country}-{area}-descr=no_testing.pk')),\n",
    "        ],\n",
    "    }\n",
    "    \n",
    "#     plots = {\n",
    "#         f'realistic-scenario-{country}-{area}' : [\n",
    "#             Plot(label=r'Realistic ``lockdown\" scenario', \n",
    "#                 path=(f'continued-lockdown-{country}-{area}/'\n",
    "#                       f'continued-lockdown-{country}-{area}-extended_lockdown_weeks=100.pk')),\n",
    "#         ],\n",
    "#     }\n",
    "\n",
    "\n",
    "    for plot_filename, plots in plots.items():\n",
    "\n",
    "        # extract plot info\n",
    "        labels = get_properties(plots, 'label')\n",
    "        paths = get_properties(plots, 'path')\n",
    "\n",
    "        # plots\n",
    "        plotter = Plotter()\n",
    "\n",
    "        start_date = calibration_start_dates[country][area]\n",
    "        start_date_lockdown = calibration_lockdown_dates[country]['start']\n",
    "        end_date = calibration_lockdown_dates[country]['end']\n",
    "\n",
    "        days_until_lockdown = (pd.to_datetime(start_date_lockdown) - pd.to_datetime(start_date)).days\n",
    "\n",
    "        plotter.compare_total_infections(\n",
    "            paths, \n",
    "            titles=labels, \n",
    "            filename=plot_filename, \n",
    "            start_date=start_date,\n",
    "#             figsize=lib_plot.FIG_SIZE_NEURIPS_DOUBLE_TALL, \n",
    "            figsize=lib_plot.FIG_SIZE_FULL_PAGE_TRIPLE_ARXIV, \n",
    "            figformat='neurips-double',\n",
    "            legend_is_left=False,\n",
    "            lockdown_label='Interventions',\n",
    "            lockdown_at=days_until_lockdown,\n",
    "            lockdown_xshift=0.0,\n",
    "            lockdown_label_y=0.25,\n",
    "            ymax=ymax[country][area],\n",
    "            xtick_interval=xtick_interval[country][area],\n",
    "            errorevery=14\n",
    "        )"
   ]
  },
  {
   "cell_type": "code",
   "execution_count": 14,
   "metadata": {},
   "outputs": [
    {
     "name": "stdout",
     "output_type": "stream",
     "text": [
      "GER TU\n",
      "Loaded previously extracted data.\n"
     ]
    },
    {
     "name": "stderr",
     "output_type": "stream",
     "text": [
      "/opt/anaconda3/envs/bigdatalab_cpu_202101/lib/python3.7/site-packages/matplotlib/cbook/__init__.py:1402: FutureWarning: Support for multi-dimensional indexing (e.g. `obj[:, None]`) is deprecated and will be removed in a future version.  Convert to a numpy array before indexing instead.\n",
      "  ndim = x[:, None].ndim\n",
      "/opt/anaconda3/envs/bigdatalab_cpu_202101/lib/python3.7/site-packages/matplotlib/axes/_base.py:276: FutureWarning: Support for multi-dimensional indexing (e.g. `obj[:, None]`) is deprecated and will be removed in a future version.  Convert to a numpy array before indexing instead.\n",
      "  x = x[:, np.newaxis]\n"
     ]
    },
    {
     "name": "stdout",
     "output_type": "stream",
     "text": [
      "Loaded previously extracted data.\n",
      "crop_pdfs.sh: line 2: pdfcrop: command not found\n"
     ]
    },
    {
     "data": {
      "image/png": "[encoded data removed]",
      "text/plain": [
       "<Figure size 318.182x204.167 with 1 Axes>"
      ]
     },
     "metadata": {
      "needs_background": "light"
     },
     "output_type": "display_data"
    }
   ],
   "source": [
    "ymax = {'CH' : {'TI': 5000, 'BE': 40000, 'JU': 25000},\n",
    "       'GER': {'TU': 100000, 'RH': 2000, 'KL': 750}}\n",
    "\n",
    "xtick_interval = {\n",
    "    'GER': {'RH': 2, 'TU': 2, 'KL': 3},\n",
    "    'CH': {'BE': 4, 'JU': 4, 'TI': 4},\n",
    "}\n",
    "\n",
    "for country, area in places:\n",
    "#     if area not in ['BE', 'RH']:\n",
    "#         continue\n",
    "    print(country, area)\n",
    "    plot_prova7(country, area, ymax, xtick_interval, plot_rt=False)\n",
    "    \n",
    "# Crop pdf margins\n",
    "!bash crop_pdfs.sh plots/continued-lockdown-*.pdf\n",
    "# !bash crop_pdfs.sh plots/realistic-scenario-*.pdf"
   ]
  },
  {
   "cell_type": "code",
   "execution_count": 15,
   "metadata": {},
   "outputs": [],
   "source": [
    "def plot_prova8(country, area, ymax, xtick_interval, plot_rt=False):\n",
    "    # Format: {`filename for plot` : `list of `Plot` objects`}\n",
    "    plots = {\n",
    "        f'prova-{country}-{area}' : [\n",
    "            Plot(label='no testing',\n",
    "                path=(f'seedcomp-1repeats-50days-10downsampling-0.55beta-{country}-{area}/'\n",
    "                      f'seedcomp-1repeats-50days-10downsampling-0.55beta-{country}-{area}-descr=no_testing.pk')),\n",
    "            Plot(label='500',\n",
    "                path=(f'seedcomp-1repeats-50days-10downsampling-0.55beta-{country}-{area}/'\n",
    "                      f'seedcomp-1repeats-50days-10downsampling-0.55beta-{country}-{area}-descr=sib_tracing500.pk')),\n",
    "            Plot(label='1000',\n",
    "                path=(f'seedcomp-1repeats-50days-10downsampling-0.55beta-{country}-{area}/'\n",
    "                      f'seedcomp-1repeats-50days-10downsampling-0.55beta-{country}-{area}-descr=sib_tracing1000.pk')),\n",
    "            Plot(label='1500',\n",
    "                path=(f'seedcomp-1repeats-50days-10downsampling-0.55beta-{country}-{area}/'\n",
    "                      f'seedcomp-1repeats-50days-10downsampling-0.55beta-{country}-{area}-descr=sib_tracing1500.pk')),\n",
    "        ],\n",
    "    }\n",
    "    \n",
    "#     plots = {\n",
    "#         f'realistic-scenario-{country}-{area}' : [\n",
    "#             Plot(label=r'Realistic ``lockdown\" scenario', \n",
    "#                 path=(f'continued-lockdown-{country}-{area}/'\n",
    "#                       f'continued-lockdown-{country}-{area}-extended_lockdown_weeks=100.pk')),\n",
    "#         ],\n",
    "#     }\n",
    "\n",
    "\n",
    "    for plot_filename, plots in plots.items():\n",
    "\n",
    "        # extract plot info\n",
    "        labels = get_properties(plots, 'label')\n",
    "        paths = get_properties(plots, 'path')\n",
    "\n",
    "        # plots\n",
    "        plotter = Plotter()\n",
    "\n",
    "        start_date = calibration_start_dates[country][area]\n",
    "        start_date_lockdown = calibration_lockdown_dates[country]['start']\n",
    "        end_date = calibration_lockdown_dates[country]['end']\n",
    "\n",
    "        days_until_lockdown = (pd.to_datetime(start_date_lockdown) - pd.to_datetime(start_date)).days\n",
    "\n",
    "        plotter.compare_total_infections(\n",
    "            paths, \n",
    "            titles=labels, \n",
    "            filename=plot_filename, \n",
    "            start_date=start_date,\n",
    "#             figsize=lib_plot.FIG_SIZE_NEURIPS_DOUBLE_TALL, \n",
    "            figsize=lib_plot.FIG_SIZE_FULL_PAGE_TRIPLE_ARXIV, \n",
    "            figformat='neurips-double',\n",
    "            legend_is_left=False,\n",
    "            lockdown_label='Interventions',\n",
    "            lockdown_at=days_until_lockdown,\n",
    "            lockdown_xshift=0.0,\n",
    "            lockdown_label_y=0.25,\n",
    "            ymax=ymax[country][area],\n",
    "            xtick_interval=xtick_interval[country][area],\n",
    "            errorevery=14\n",
    "        )"
   ]
  },
  {
   "cell_type": "code",
   "execution_count": 16,
   "metadata": {},
   "outputs": [
    {
     "name": "stdout",
     "output_type": "stream",
     "text": [
      "GER TU\n",
      "Loaded previously extracted data.\n",
      "Loaded previously extracted data.\n",
      "Loaded previously extracted data.\n",
      "Loaded previously extracted data.\n"
     ]
    },
    {
     "name": "stderr",
     "output_type": "stream",
     "text": [
      "/opt/anaconda3/envs/bigdatalab_cpu_202101/lib/python3.7/site-packages/matplotlib/cbook/__init__.py:1402: FutureWarning: Support for multi-dimensional indexing (e.g. `obj[:, None]`) is deprecated and will be removed in a future version.  Convert to a numpy array before indexing instead.\n",
      "  ndim = x[:, None].ndim\n",
      "/opt/anaconda3/envs/bigdatalab_cpu_202101/lib/python3.7/site-packages/matplotlib/axes/_base.py:276: FutureWarning: Support for multi-dimensional indexing (e.g. `obj[:, None]`) is deprecated and will be removed in a future version.  Convert to a numpy array before indexing instead.\n",
      "  x = x[:, np.newaxis]\n"
     ]
    },
    {
     "name": "stdout",
     "output_type": "stream",
     "text": [
      "crop_pdfs.sh: line 2: pdfcrop: command not found\n"
     ]
    },
    {
     "data": {
      "image/png": "[encoded data removed]",
      "text/plain": [
       "<Figure size 318.182x204.167 with 1 Axes>"
      ]
     },
     "metadata": {
      "needs_background": "light"
     },
     "output_type": "display_data"
    }
   ],
   "source": [
    "ymax = {'CH' : {'TI': 5000, 'BE': 40000, 'JU': 25000},\n",
    "       'GER': {'TU': 10000, 'RH': 2000, 'KL': 750}}\n",
    "\n",
    "xtick_interval = {\n",
    "    'GER': {'RH': 2, 'TU': 2, 'KL': 3},\n",
    "    'CH': {'BE': 4, 'JU': 4, 'TI': 4},\n",
    "}\n",
    "\n",
    "for country, area in places:\n",
    "#     if area not in ['BE', 'RH']:\n",
    "#         continue\n",
    "    print(country, area)\n",
    "    plot_prova8(country, area, ymax, xtick_interval, plot_rt=False)\n",
    "    \n",
    "# Crop pdf margins\n",
    "!bash crop_pdfs.sh plots/continued-lockdown-*.pdf\n",
    "# !bash crop_pdfs.sh plots/realistic-scenario-*.pdf"
   ]
  },
  {
   "cell_type": "code",
   "execution_count": 17,
   "metadata": {},
   "outputs": [],
   "source": [
    "def plot_prova9(country, area, ymax, xtick_interval, plot_rt=False):\n",
    "    # Format: {`filename for plot` : `list of `Plot` objects`}\n",
    "    plots = {\n",
    "        f'prova-{country}-{area}' : [\n",
    "            Plot(label='no testing',\n",
    "                path=(f'rescale-seedcomp-1repeats-50days-10downsampling-0.55beta-{country}-{area}/'\n",
    "                      f'rescale-seedcomp-1repeats-50days-10downsampling-0.55beta-{country}-{area}-descr=no_testing.pk')),\n",
    "            Plot(label='500',\n",
    "                path=(f'rescale-seedcomp-1repeats-50days-10downsampling-0.55beta-{country}-{area}/'\n",
    "                      f'rescale-seedcomp-1repeats-50days-10downsampling-0.55beta-{country}-{area}-descr=sib_tracing500.pk')),\n",
    "            Plot(label='1000',\n",
    "                path=(f'rescale-seedcomp-1repeats-50days-10downsampling-0.55beta-{country}-{area}/'\n",
    "                      f'rescale-seedcomp-1repeats-50days-10downsampling-0.55beta-{country}-{area}-descr=sib_tracing1000.pk')),\n",
    "            Plot(label='1500',\n",
    "                path=(f'rescale-seedcomp-1repeats-50days-10downsampling-0.55beta-{country}-{area}/'\n",
    "                      f'rescale-seedcomp-1repeats-50days-10downsampling-0.55beta-{country}-{area}-descr=sib_tracing1500.pk')),\n",
    "        ],\n",
    "    }\n",
    "    \n",
    "#     plots = {\n",
    "#         f'realistic-scenario-{country}-{area}' : [\n",
    "#             Plot(label=r'Realistic ``lockdown\" scenario', \n",
    "#                 path=(f'continued-lockdown-{country}-{area}/'\n",
    "#                       f'continued-lockdown-{country}-{area}-extended_lockdown_weeks=100.pk')),\n",
    "#         ],\n",
    "#     }\n",
    "\n",
    "\n",
    "    for plot_filename, plots in plots.items():\n",
    "\n",
    "        # extract plot info\n",
    "        labels = get_properties(plots, 'label')\n",
    "        paths = get_properties(plots, 'path')\n",
    "\n",
    "        # plots\n",
    "        plotter = Plotter()\n",
    "\n",
    "        start_date = calibration_start_dates[country][area]\n",
    "        start_date_lockdown = calibration_lockdown_dates[country]['start']\n",
    "        end_date = calibration_lockdown_dates[country]['end']\n",
    "\n",
    "        days_until_lockdown = (pd.to_datetime(start_date_lockdown) - pd.to_datetime(start_date)).days\n",
    "\n",
    "        plotter.compare_total_infections(\n",
    "            paths, \n",
    "            titles=labels, \n",
    "            filename=plot_filename, \n",
    "            start_date=start_date,\n",
    "#             figsize=lib_plot.FIG_SIZE_NEURIPS_DOUBLE_TALL, \n",
    "            figsize=lib_plot.FIG_SIZE_FULL_PAGE_TRIPLE_ARXIV, \n",
    "            figformat='neurips-double',\n",
    "            legend_is_left=False,\n",
    "            lockdown_label='Interventions',\n",
    "            lockdown_at=days_until_lockdown,\n",
    "            lockdown_xshift=0.0,\n",
    "            lockdown_label_y=0.25,\n",
    "            ymax=ymax[country][area],\n",
    "            xtick_interval=xtick_interval[country][area],\n",
    "            errorevery=14\n",
    "        )"
   ]
  },
  {
   "cell_type": "code",
   "execution_count": 18,
   "metadata": {},
   "outputs": [
    {
     "name": "stdout",
     "output_type": "stream",
     "text": [
      "GER TU\n",
      "Loaded previously extracted data.\n",
      "Loaded previously extracted data.\n",
      "Loaded previously extracted data.\n",
      "Loaded previously extracted data.\n"
     ]
    },
    {
     "name": "stderr",
     "output_type": "stream",
     "text": [
      "/opt/anaconda3/envs/bigdatalab_cpu_202101/lib/python3.7/site-packages/matplotlib/cbook/__init__.py:1402: FutureWarning: Support for multi-dimensional indexing (e.g. `obj[:, None]`) is deprecated and will be removed in a future version.  Convert to a numpy array before indexing instead.\n",
      "  ndim = x[:, None].ndim\n",
      "/opt/anaconda3/envs/bigdatalab_cpu_202101/lib/python3.7/site-packages/matplotlib/axes/_base.py:276: FutureWarning: Support for multi-dimensional indexing (e.g. `obj[:, None]`) is deprecated and will be removed in a future version.  Convert to a numpy array before indexing instead.\n",
      "  x = x[:, np.newaxis]\n"
     ]
    },
    {
     "name": "stdout",
     "output_type": "stream",
     "text": [
      "crop_pdfs.sh: line 2: pdfcrop: command not found\n"
     ]
    },
    {
     "data": {
      "image/png": "[encoded data removed]",
      "text/plain": [
       "<Figure size 318.182x204.167 with 1 Axes>"
      ]
     },
     "metadata": {
      "needs_background": "light"
     },
     "output_type": "display_data"
    }
   ],
   "source": [
    "ymax = {'CH' : {'TI': 5000, 'BE': 40000, 'JU': 25000},\n",
    "       'GER': {'TU': 10000, 'RH': 2000, 'KL': 750}}\n",
    "\n",
    "xtick_interval = {\n",
    "    'GER': {'RH': 2, 'TU': 2, 'KL': 3},\n",
    "    'CH': {'BE': 4, 'JU': 4, 'TI': 4},\n",
    "}\n",
    "\n",
    "for country, area in places:\n",
    "#     if area not in ['BE', 'RH']:\n",
    "#         continue\n",
    "    print(country, area)\n",
    "    plot_prova9(country, area, ymax, xtick_interval, plot_rt=False)\n",
    "    \n",
    "# Crop pdf margins\n",
    "!bash crop_pdfs.sh plots/continued-lockdown-*.pdf\n",
    "# !bash crop_pdfs.sh plots/realistic-scenario-*.pdf"
   ]
  },
  {
   "cell_type": "code",
   "execution_count": 19,
   "metadata": {},
   "outputs": [],
   "source": [
    "def plot_prova10(country, area, ymax, xtick_interval, plot_rt=False):\n",
    "    # Format: {`filename for plot` : `list of `Plot` objects`}\n",
    "    plots = {\n",
    "        f'prova-{country}-{area}' : [\n",
    "            Plot(label='no testing',\n",
    "                path=(f'sib-comp-6repeats-50days-10downsampling-0.55beta-1500-{country}-{area}/'\n",
    "                      f'sib-comp-6repeats-50days-10downsampling-0.55beta-1500-{country}-{area}-descr=no_test.pk')),\n",
    "            Plot(label='1500 sib',\n",
    "                path=(f'sib-comp-6repeats-50days-10downsampling-0.55beta-1500-{country}-{area}/'\n",
    "                      f'sib-comp-6repeats-50days-10downsampling-0.55beta-1500-{country}-{area}-descr=sib.pk')),\n",
    "        ],\n",
    "    }\n",
    "    \n",
    "#     plots = {\n",
    "#         f'realistic-scenario-{country}-{area}' : [\n",
    "#             Plot(label=r'Realistic ``lockdown\" scenario', \n",
    "#                 path=(f'continued-lockdown-{country}-{area}/'\n",
    "#                       f'continued-lockdown-{country}-{area}-extended_lockdown_weeks=100.pk')),\n",
    "#         ],\n",
    "#     }\n",
    "\n",
    "\n",
    "    for plot_filename, plots in plots.items():\n",
    "\n",
    "        # extract plot info\n",
    "        labels = get_properties(plots, 'label')\n",
    "        paths = get_properties(plots, 'path')\n",
    "\n",
    "        # plots\n",
    "        plotter = Plotter()\n",
    "\n",
    "        start_date = calibration_start_dates[country][area]\n",
    "        start_date_lockdown = calibration_lockdown_dates[country]['start']\n",
    "        end_date = calibration_lockdown_dates[country]['end']\n",
    "        \n",
    "        start_date = '2020-07-01'\n",
    "        start_date_lockdown = '2020-07-06'\n",
    "        \n",
    "\n",
    "        days_until_lockdown = (pd.to_datetime(start_date_lockdown) - pd.to_datetime(start_date)).days\n",
    "\n",
    "        plotter.compare_total_infections(\n",
    "            paths, \n",
    "            titles=labels, \n",
    "            filename=plot_filename, \n",
    "            start_date=start_date,\n",
    "#             figsize=lib_plot.FIG_SIZE_NEURIPS_DOUBLE_TALL, \n",
    "            figsize=lib_plot.FIG_SIZE_FULL_PAGE_TRIPLE_ARXIV, \n",
    "            figformat='neurips-double',\n",
    "            legend_is_left=False,\n",
    "            lockdown_label='Interventions',\n",
    "            lockdown_at=days_until_lockdown,\n",
    "            lockdown_xshift=0.0,\n",
    "            lockdown_label_y=0.25,\n",
    "            ymax=ymax[country][area],\n",
    "            xtick_interval=xtick_interval[country][area],\n",
    "            errorevery=14\n",
    "        )"
   ]
  },
  {
   "cell_type": "code",
   "execution_count": 20,
   "metadata": {},
   "outputs": [
    {
     "name": "stdout",
     "output_type": "stream",
     "text": [
      "GER TU\n",
      "Loaded previously extracted data.\n",
      "Loaded previously extracted data.\n"
     ]
    },
    {
     "name": "stderr",
     "output_type": "stream",
     "text": [
      "/opt/anaconda3/envs/bigdatalab_cpu_202101/lib/python3.7/site-packages/matplotlib/cbook/__init__.py:1402: FutureWarning: Support for multi-dimensional indexing (e.g. `obj[:, None]`) is deprecated and will be removed in a future version.  Convert to a numpy array before indexing instead.\n",
      "  ndim = x[:, None].ndim\n",
      "/opt/anaconda3/envs/bigdatalab_cpu_202101/lib/python3.7/site-packages/matplotlib/axes/_base.py:276: FutureWarning: Support for multi-dimensional indexing (e.g. `obj[:, None]`) is deprecated and will be removed in a future version.  Convert to a numpy array before indexing instead.\n",
      "  x = x[:, np.newaxis]\n"
     ]
    },
    {
     "name": "stdout",
     "output_type": "stream",
     "text": [
      "crop_pdfs.sh: line 2: pdfcrop: command not found\n"
     ]
    },
    {
     "data": {
      "image/png": "[encoded data removed]",
      "text/plain": [
       "<Figure size 318.182x204.167 with 1 Axes>"
      ]
     },
     "metadata": {
      "needs_background": "light"
     },
     "output_type": "display_data"
    }
   ],
   "source": [
    "ymax = {'CH' : {'TI': 5000, 'BE': 40000, 'JU': 25000},\n",
    "       'GER': {'TU': 10000, 'RH': 2000, 'KL': 750}}\n",
    "\n",
    "xtick_interval = {\n",
    "    'GER': {'RH': 2, 'TU': 2, 'KL': 3},\n",
    "    'CH': {'BE': 4, 'JU': 4, 'TI': 4},\n",
    "}\n",
    "\n",
    "for country, area in places:\n",
    "#     if area not in ['BE', 'RH']:\n",
    "#         continue\n",
    "    print(country, area)\n",
    "    plot_prova10(country, area, ymax, xtick_interval, plot_rt=False)\n",
    "    \n",
    "# Crop pdf margins\n",
    "!bash crop_pdfs.sh plots/continued-lockdown-*.pdf\n",
    "# !bash crop_pdfs.sh plots/realistic-scenario-*.pdf"
   ]
  },
  {
   "cell_type": "code",
   "execution_count": 21,
   "metadata": {},
   "outputs": [],
   "source": [
    "def plot_prova11(country, area, ymax, xtick_interval, plot_rt=False):\n",
    "    # Format: {`filename for plot` : `list of `Plot` objects`}\n",
    "    plots = {\n",
    "        f'prova-{country}-{area}' : [\n",
    "            Plot(label='no testing',\n",
    "                path=(f'dotd-comp-6repeats-50days-10downsampling-0.55beta-1500-{country}-{area}/'\n",
    "                      f'dotd-comp-6repeats-50days-10downsampling-0.55beta-1500-{country}-{area}-descr=no_test.pk')),\n",
    "            Plot(label='1500 dotd',\n",
    "                path=(f'dotd-comp-6repeats-50days-10downsampling-0.55beta-1500-{country}-{area}/'\n",
    "                      f'dotd-comp-6repeats-50days-10downsampling-0.55beta-1500-{country}-{area}-descr=dotd.pk')),\n",
    "        ],\n",
    "    }\n",
    "    \n",
    "#     plots = {\n",
    "#         f'realistic-scenario-{country}-{area}' : [\n",
    "#             Plot(label=r'Realistic ``lockdown\" scenario', \n",
    "#                 path=(f'continued-lockdown-{country}-{area}/'\n",
    "#                       f'continued-lockdown-{country}-{area}-extended_lockdown_weeks=100.pk')),\n",
    "#         ],\n",
    "#     }\n",
    "\n",
    "\n",
    "    for plot_filename, plots in plots.items():\n",
    "\n",
    "        # extract plot info\n",
    "        labels = get_properties(plots, 'label')\n",
    "        paths = get_properties(plots, 'path')\n",
    "\n",
    "        # plots\n",
    "        plotter = Plotter()\n",
    "\n",
    "        start_date = calibration_start_dates[country][area]\n",
    "        start_date_lockdown = calibration_lockdown_dates[country]['start']\n",
    "        end_date = calibration_lockdown_dates[country]['end']\n",
    "        \n",
    "        start_date = '2020-07-01'\n",
    "        start_date_lockdown = '2020-07-06'\n",
    "\n",
    "        days_until_lockdown = (pd.to_datetime(start_date_lockdown) - pd.to_datetime(start_date)).days\n",
    "\n",
    "        plotter.compare_total_infections(\n",
    "            paths, \n",
    "            titles=labels, \n",
    "            filename=plot_filename, \n",
    "            start_date=start_date,\n",
    "#             figsize=lib_plot.FIG_SIZE_NEURIPS_DOUBLE_TALL, \n",
    "            figsize=lib_plot.FIG_SIZE_FULL_PAGE_TRIPLE_ARXIV, \n",
    "            figformat='neurips-double',\n",
    "            legend_is_left=False,\n",
    "            lockdown_label='Interventions',\n",
    "            lockdown_at=days_until_lockdown,\n",
    "            lockdown_xshift=0.0,\n",
    "            lockdown_label_y=0.25,\n",
    "            ymax=ymax[country][area],\n",
    "            xtick_interval=xtick_interval[country][area],\n",
    "            errorevery=14\n",
    "        )"
   ]
  },
  {
   "cell_type": "code",
   "execution_count": 22,
   "metadata": {},
   "outputs": [
    {
     "name": "stdout",
     "output_type": "stream",
     "text": [
      "GER TU\n",
      "Loaded previously extracted data.\n",
      "Loaded previously extracted data.\n"
     ]
    },
    {
     "name": "stderr",
     "output_type": "stream",
     "text": [
      "/opt/anaconda3/envs/bigdatalab_cpu_202101/lib/python3.7/site-packages/matplotlib/cbook/__init__.py:1402: FutureWarning: Support for multi-dimensional indexing (e.g. `obj[:, None]`) is deprecated and will be removed in a future version.  Convert to a numpy array before indexing instead.\n",
      "  ndim = x[:, None].ndim\n",
      "/opt/anaconda3/envs/bigdatalab_cpu_202101/lib/python3.7/site-packages/matplotlib/axes/_base.py:276: FutureWarning: Support for multi-dimensional indexing (e.g. `obj[:, None]`) is deprecated and will be removed in a future version.  Convert to a numpy array before indexing instead.\n",
      "  x = x[:, np.newaxis]\n"
     ]
    },
    {
     "name": "stdout",
     "output_type": "stream",
     "text": [
      "crop_pdfs.sh: line 2: pdfcrop: command not found\n"
     ]
    },
    {
     "data": {
      "image/png": "[encoded data removed]",
      "text/plain": [
       "<Figure size 318.182x204.167 with 1 Axes>"
      ]
     },
     "metadata": {
      "needs_background": "light"
     },
     "output_type": "display_data"
    }
   ],
   "source": [
    "ymax = {'CH' : {'TI': 5000, 'BE': 40000, 'JU': 25000},\n",
    "       'GER': {'TU': 10000, 'RH': 2000, 'KL': 750}}\n",
    "\n",
    "xtick_interval = {\n",
    "    'GER': {'RH': 2, 'TU': 2, 'KL': 3},\n",
    "    'CH': {'BE': 4, 'JU': 4, 'TI': 4},\n",
    "}\n",
    "\n",
    "for country, area in places:\n",
    "#     if area not in ['BE', 'RH']:\n",
    "#         continue\n",
    "    print(country, area)\n",
    "    plot_prova11(country, area, ymax, xtick_interval, plot_rt=False)\n",
    "    \n",
    "# Crop pdf margins\n",
    "!bash crop_pdfs.sh plots/continued-lockdown-*.pdf\n",
    "# !bash crop_pdfs.sh plots/realistic-scenario-*.pdf"
   ]
  },
  {
   "cell_type": "code",
   "execution_count": 23,
   "metadata": {},
   "outputs": [],
   "source": [
    "def plot_prova12(country, area, ymax, xtick_interval, plot_rt=False):\n",
    "    # Format: {`filename for plot` : `list of `Plot` objects`}\n",
    "    plots = {\n",
    "        f'prova-{country}-{area}' : [\n",
    "            Plot(label='no testing',\n",
    "                path=(f'greedy-comp-6repeats-50days-10downsampling-0.55beta-1500-{country}-{area}/'\n",
    "                      f'greedy-comp-6repeats-50days-10downsampling-0.55beta-1500-{country}-{area}-descr=no_test.pk')),\n",
    "            Plot(label='1500 greedy',\n",
    "                path=(f'greedy-comp-6repeats-50days-10downsampling-0.55beta-1500-{country}-{area}/'\n",
    "                      f'greedy-comp-6repeats-50days-10downsampling-0.55beta-1500-{country}-{area}-descr=greedy.pk')),\n",
    "        ],\n",
    "    }\n",
    "    \n",
    "#     plots = {\n",
    "#         f'realistic-scenario-{country}-{area}' : [\n",
    "#             Plot(label=r'Realistic ``lockdown\" scenario', \n",
    "#                 path=(f'continued-lockdown-{country}-{area}/'\n",
    "#                       f'continued-lockdown-{country}-{area}-extended_lockdown_weeks=100.pk')),\n",
    "#         ],\n",
    "#     }\n",
    "\n",
    "\n",
    "    for plot_filename, plots in plots.items():\n",
    "\n",
    "        # extract plot info\n",
    "        labels = get_properties(plots, 'label')\n",
    "        paths = get_properties(plots, 'path')\n",
    "\n",
    "        # plots\n",
    "        plotter = Plotter()\n",
    "\n",
    "        start_date = calibration_start_dates[country][area]\n",
    "        start_date_lockdown = calibration_lockdown_dates[country]['start']\n",
    "        end_date = calibration_lockdown_dates[country]['end']\n",
    "        \n",
    "        start_date = '2020-07-01'\n",
    "        start_date_lockdown = '2020-07-06'\n",
    "\n",
    "        days_until_lockdown = (pd.to_datetime(start_date_lockdown) - pd.to_datetime(start_date)).days\n",
    "\n",
    "        plotter.compare_total_infections(\n",
    "            paths, \n",
    "            titles=labels, \n",
    "            filename=plot_filename, \n",
    "            start_date=start_date,\n",
    "#             figsize=lib_plot.FIG_SIZE_NEURIPS_DOUBLE_TALL, \n",
    "            figsize=lib_plot.FIG_SIZE_FULL_PAGE_TRIPLE_ARXIV, \n",
    "            figformat='neurips-double',\n",
    "            legend_is_left=False,\n",
    "            lockdown_label='Interventions',\n",
    "            lockdown_at=days_until_lockdown,\n",
    "            lockdown_xshift=0.0,\n",
    "            lockdown_label_y=0.25,\n",
    "            ymax=ymax[country][area],\n",
    "            xtick_interval=xtick_interval[country][area],\n",
    "            errorevery=14\n",
    "        )"
   ]
  },
  {
   "cell_type": "code",
   "execution_count": 24,
   "metadata": {},
   "outputs": [
    {
     "name": "stdout",
     "output_type": "stream",
     "text": [
      "GER TU\n",
      "Loaded previously extracted data.\n",
      "Loaded previously extracted data.\n"
     ]
    },
    {
     "name": "stderr",
     "output_type": "stream",
     "text": [
      "/opt/anaconda3/envs/bigdatalab_cpu_202101/lib/python3.7/site-packages/matplotlib/cbook/__init__.py:1402: FutureWarning: Support for multi-dimensional indexing (e.g. `obj[:, None]`) is deprecated and will be removed in a future version.  Convert to a numpy array before indexing instead.\n",
      "  ndim = x[:, None].ndim\n",
      "/opt/anaconda3/envs/bigdatalab_cpu_202101/lib/python3.7/site-packages/matplotlib/axes/_base.py:276: FutureWarning: Support for multi-dimensional indexing (e.g. `obj[:, None]`) is deprecated and will be removed in a future version.  Convert to a numpy array before indexing instead.\n",
      "  x = x[:, np.newaxis]\n"
     ]
    },
    {
     "name": "stdout",
     "output_type": "stream",
     "text": [
      "crop_pdfs.sh: line 2: pdfcrop: command not found\n"
     ]
    },
    {
     "data": {
      "image/png": "[encoded data removed]",
      "text/plain": [
       "<Figure size 318.182x204.167 with 1 Axes>"
      ]
     },
     "metadata": {
      "needs_background": "light"
     },
     "output_type": "display_data"
    }
   ],
   "source": [
    "ymax = {'CH' : {'TI': 5000, 'BE': 40000, 'JU': 25000},\n",
    "       'GER': {'TU': 10000, 'RH': 2000, 'KL': 750}}\n",
    "\n",
    "xtick_interval = {\n",
    "    'GER': {'RH': 2, 'TU': 2, 'KL': 3},\n",
    "    'CH': {'BE': 4, 'JU': 4, 'TI': 4},\n",
    "}\n",
    "\n",
    "for country, area in places:\n",
    "#     if area not in ['BE', 'RH']:\n",
    "#         continue\n",
    "    print(country, area)\n",
    "    plot_prova12(country, area, ymax, xtick_interval, plot_rt=False)\n",
    "    \n",
    "# Crop pdf margins\n",
    "!bash crop_pdfs.sh plots/continued-lockdown-*.pdf\n",
    "# !bash crop_pdfs.sh plots/realistic-scenario-*.pdf"
   ]
  },
  {
   "cell_type": "code",
   "execution_count": 25,
   "metadata": {},
   "outputs": [],
   "source": [
    "def plot_prova13(country, area, ymax, xtick_interval, plot_rt=False):\n",
    "    # Format: {`filename for plot` : `list of `Plot` objects`}\n",
    "    plots = {\n",
    "        f'prova-{country}-{area}' : [\n",
    "            Plot(label='no testing',\n",
    "                path=(f'corrN-sib-comp-3repeats-50days-10downsampling-0.55beta-1500-{country}-{area}/'\n",
    "                      f'corrN-sib-comp-3repeats-50days-10downsampling-0.55beta-1500-{country}-{area}-descr=no_test.pk')),\n",
    "            Plot(label='1500 sib corrN',\n",
    "                path=(f'corrN-sib-comp-3repeats-50days-10downsampling-0.55beta-1500-{country}-{area}/'\n",
    "                      f'corrN-sib-comp-3repeats-50days-10downsampling-0.55beta-1500-{country}-{area}-descr=sib.pk')),\n",
    "        ],\n",
    "    }\n",
    "    \n",
    "#     plots = {\n",
    "#         f'realistic-scenario-{country}-{area}' : [\n",
    "#             Plot(label=r'Realistic ``lockdown\" scenario', \n",
    "#                 path=(f'continued-lockdown-{country}-{area}/'\n",
    "#                       f'continued-lockdown-{country}-{area}-extended_lockdown_weeks=100.pk')),\n",
    "#         ],\n",
    "#     }\n",
    "\n",
    "\n",
    "    for plot_filename, plots in plots.items():\n",
    "\n",
    "        # extract plot info\n",
    "        labels = get_properties(plots, 'label')\n",
    "        paths = get_properties(plots, 'path')\n",
    "\n",
    "        # plots\n",
    "        plotter = Plotter()\n",
    "\n",
    "        start_date = calibration_start_dates[country][area]\n",
    "        start_date_lockdown = calibration_lockdown_dates[country]['start']\n",
    "        end_date = calibration_lockdown_dates[country]['end']\n",
    "        \n",
    "        start_date = '2020-07-01'\n",
    "        start_date_lockdown = '2020-07-06'\n",
    "\n",
    "        days_until_lockdown = (pd.to_datetime(start_date_lockdown) - pd.to_datetime(start_date)).days\n",
    "\n",
    "        plotter.compare_total_infections(\n",
    "            paths, \n",
    "            titles=labels, \n",
    "            filename=plot_filename, \n",
    "            start_date=start_date,\n",
    "#             figsize=lib_plot.FIG_SIZE_NEURIPS_DOUBLE_TALL, \n",
    "            figsize=lib_plot.FIG_SIZE_FULL_PAGE_TRIPLE_ARXIV, \n",
    "            figformat='neurips-double',\n",
    "            legend_is_left=False,\n",
    "            lockdown_label='Interventions',\n",
    "            lockdown_at=days_until_lockdown,\n",
    "            lockdown_xshift=0.0,\n",
    "            lockdown_label_y=0.25,\n",
    "            ymax=ymax[country][area],\n",
    "            xtick_interval=xtick_interval[country][area],\n",
    "            errorevery=14\n",
    "        )"
   ]
  },
  {
   "cell_type": "code",
   "execution_count": 26,
   "metadata": {},
   "outputs": [
    {
     "name": "stdout",
     "output_type": "stream",
     "text": [
      "GER TU\n",
      "Loaded previously extracted data.\n",
      "Loaded previously extracted data.\n"
     ]
    },
    {
     "name": "stderr",
     "output_type": "stream",
     "text": [
      "/opt/anaconda3/envs/bigdatalab_cpu_202101/lib/python3.7/site-packages/matplotlib/cbook/__init__.py:1402: FutureWarning: Support for multi-dimensional indexing (e.g. `obj[:, None]`) is deprecated and will be removed in a future version.  Convert to a numpy array before indexing instead.\n",
      "  ndim = x[:, None].ndim\n",
      "/opt/anaconda3/envs/bigdatalab_cpu_202101/lib/python3.7/site-packages/matplotlib/axes/_base.py:276: FutureWarning: Support for multi-dimensional indexing (e.g. `obj[:, None]`) is deprecated and will be removed in a future version.  Convert to a numpy array before indexing instead.\n",
      "  x = x[:, np.newaxis]\n"
     ]
    },
    {
     "name": "stdout",
     "output_type": "stream",
     "text": [
      "crop_pdfs.sh: line 2: pdfcrop: command not found\n"
     ]
    },
    {
     "data": {
      "image/png": "[encoded data removed]",
      "text/plain": [
       "<Figure size 318.182x204.167 with 1 Axes>"
      ]
     },
     "metadata": {
      "needs_background": "light"
     },
     "output_type": "display_data"
    }
   ],
   "source": [
    "ymax = {'CH' : {'TI': 5000, 'BE': 40000, 'JU': 25000},\n",
    "       'GER': {'TU': 10000, 'RH': 2000, 'KL': 750}}\n",
    "\n",
    "xtick_interval = {\n",
    "    'GER': {'RH': 2, 'TU': 2, 'KL': 3},\n",
    "    'CH': {'BE': 4, 'JU': 4, 'TI': 4},\n",
    "}\n",
    "\n",
    "for country, area in places:\n",
    "#     if area not in ['BE', 'RH']:\n",
    "#         continue\n",
    "    print(country, area)\n",
    "    plot_prova13(country, area, ymax, xtick_interval, plot_rt=False)\n",
    "    \n",
    "# Crop pdf margins\n",
    "!bash crop_pdfs.sh plots/continued-lockdown-*.pdf\n",
    "# !bash crop_pdfs.sh plots/realistic-scenario-*.pdf"
   ]
  },
  {
   "cell_type": "code",
   "execution_count": 27,
   "metadata": {},
   "outputs": [
    {
     "name": "stdout",
     "output_type": "stream",
     "text": [
      "GER TU\n",
      "Loaded previously extracted data.\n",
      "Loaded previously extracted data.\n"
     ]
    },
    {
     "name": "stderr",
     "output_type": "stream",
     "text": [
      "/opt/anaconda3/envs/bigdatalab_cpu_202101/lib/python3.7/site-packages/matplotlib/cbook/__init__.py:1402: FutureWarning: Support for multi-dimensional indexing (e.g. `obj[:, None]`) is deprecated and will be removed in a future version.  Convert to a numpy array before indexing instead.\n",
      "  ndim = x[:, None].ndim\n",
      "/opt/anaconda3/envs/bigdatalab_cpu_202101/lib/python3.7/site-packages/matplotlib/axes/_base.py:276: FutureWarning: Support for multi-dimensional indexing (e.g. `obj[:, None]`) is deprecated and will be removed in a future version.  Convert to a numpy array before indexing instead.\n",
      "  x = x[:, np.newaxis]\n"
     ]
    },
    {
     "name": "stdout",
     "output_type": "stream",
     "text": [
      "Loaded previously extracted data.\n",
      "Loaded previously extracted data.\n"
     ]
    },
    {
     "name": "stderr",
     "output_type": "stream",
     "text": [
      "/opt/anaconda3/envs/bigdatalab_cpu_202101/lib/python3.7/site-packages/matplotlib/cbook/__init__.py:1402: FutureWarning: Support for multi-dimensional indexing (e.g. `obj[:, None]`) is deprecated and will be removed in a future version.  Convert to a numpy array before indexing instead.\n",
      "  ndim = x[:, None].ndim\n",
      "/opt/anaconda3/envs/bigdatalab_cpu_202101/lib/python3.7/site-packages/matplotlib/axes/_base.py:276: FutureWarning: Support for multi-dimensional indexing (e.g. `obj[:, None]`) is deprecated and will be removed in a future version.  Convert to a numpy array before indexing instead.\n",
      "  x = x[:, np.newaxis]\n"
     ]
    },
    {
     "name": "stdout",
     "output_type": "stream",
     "text": [
      "Loaded previously extracted data.\n",
      "Loaded previously extracted data.\n"
     ]
    },
    {
     "name": "stderr",
     "output_type": "stream",
     "text": [
      "/opt/anaconda3/envs/bigdatalab_cpu_202101/lib/python3.7/site-packages/matplotlib/cbook/__init__.py:1402: FutureWarning: Support for multi-dimensional indexing (e.g. `obj[:, None]`) is deprecated and will be removed in a future version.  Convert to a numpy array before indexing instead.\n",
      "  ndim = x[:, None].ndim\n",
      "/opt/anaconda3/envs/bigdatalab_cpu_202101/lib/python3.7/site-packages/matplotlib/axes/_base.py:276: FutureWarning: Support for multi-dimensional indexing (e.g. `obj[:, None]`) is deprecated and will be removed in a future version.  Convert to a numpy array before indexing instead.\n",
      "  x = x[:, np.newaxis]\n"
     ]
    },
    {
     "name": "stdout",
     "output_type": "stream",
     "text": [
      "Loaded previously extracted data.\n",
      "Loaded previously extracted data.\n"
     ]
    },
    {
     "name": "stderr",
     "output_type": "stream",
     "text": [
      "/opt/anaconda3/envs/bigdatalab_cpu_202101/lib/python3.7/site-packages/matplotlib/cbook/__init__.py:1402: FutureWarning: Support for multi-dimensional indexing (e.g. `obj[:, None]`) is deprecated and will be removed in a future version.  Convert to a numpy array before indexing instead.\n",
      "  ndim = x[:, None].ndim\n",
      "/opt/anaconda3/envs/bigdatalab_cpu_202101/lib/python3.7/site-packages/matplotlib/axes/_base.py:276: FutureWarning: Support for multi-dimensional indexing (e.g. `obj[:, None]`) is deprecated and will be removed in a future version.  Convert to a numpy array before indexing instead.\n",
      "  x = x[:, np.newaxis]\n"
     ]
    },
    {
     "data": {
      "image/png": "[encoded data removed]",
      "text/plain": [
       "<Figure size 318.182x204.167 with 1 Axes>"
      ]
     },
     "metadata": {
      "needs_background": "light"
     },
     "output_type": "display_data"
    },
    {
     "data": {
      "image/png": "[encoded data removed]",
      "text/plain": [
       "<Figure size 318.182x204.167 with 1 Axes>"
      ]
     },
     "metadata": {
      "needs_background": "light"
     },
     "output_type": "display_data"
    },
    {
     "data": {
      "image/png": "[encoded data removed]",
      "text/plain": [
       "<Figure size 318.182x204.167 with 1 Axes>"
      ]
     },
     "metadata": {
      "needs_background": "light"
     },
     "output_type": "display_data"
    },
    {
     "data": {
      "image/png": "[encoded data removed]",
      "text/plain": [
       "<Figure size 318.182x204.167 with 1 Axes>"
      ]
     },
     "metadata": {
      "needs_background": "light"
     },
     "output_type": "display_data"
    }
   ],
   "source": [
    "ymax = {'CH' : {'TI': 5000, 'BE': 40000, 'JU': 25000},\n",
    "       'GER': {'TU': 10000, 'RH': 2000, 'KL': 750}}\n",
    "\n",
    "xtick_interval = {\n",
    "    'GER': {'RH': 2, 'TU': 2, 'KL': 3},\n",
    "    'CH': {'BE': 4, 'JU': 4, 'TI': 4},\n",
    "}\n",
    "\n",
    "for country, area in places:\n",
    "#     if area not in ['BE', 'RH']:\n",
    "#         continue\n",
    "    print(country, area)\n",
    "    plot_prova11(country, area, ymax, xtick_interval, plot_rt=False)\n",
    "    plot_prova12(country, area, ymax, xtick_interval, plot_rt=False)\n",
    "    plot_prova10(country, area, ymax, xtick_interval, plot_rt=False)\n",
    "    plot_prova13(country, area, ymax, xtick_interval, plot_rt=False)"
   ]
  },
  {
   "cell_type": "code",
   "execution_count": null,
   "metadata": {},
   "outputs": [],
   "source": []
  },
  {
   "cell_type": "code",
   "execution_count": null,
   "metadata": {},
   "outputs": [],
   "source": []
  },
  {
   "cell_type": "code",
   "execution_count": null,
   "metadata": {},
   "outputs": [],
   "source": []
  },
  {
   "cell_type": "code",
   "execution_count": null,
   "metadata": {},
   "outputs": [],
   "source": []
  },
  {
   "cell_type": "code",
   "execution_count": null,
   "metadata": {},
   "outputs": [],
   "source": []
  },
  {
   "cell_type": "code",
   "execution_count": null,
   "metadata": {},
   "outputs": [],
   "source": []
  },
  {
   "cell_type": "code",
   "execution_count": 28,
   "metadata": {},
   "outputs": [
    {
     "name": "stdout",
     "output_type": "stream",
     "text": [
      "It's broken, they have not finished to implement the functions.\n"
     ]
    }
   ],
   "source": [
    "print(\"It's broken, they have not finished to implement the functions.\")\n",
    "\n",
    "def plot_home(country, area, ymax, xtick_interval, plot_rt=False):\n",
    "    \n",
    "    path = f'1repeats-40days-10downsampling-{country}-{area}/'\\\n",
    "           f'1repeats-40days-10downsampling-{country}-{area}-descr=no_testing.pk'\n",
    "    summary = load_summary(path)\n",
    "    summary = summary[1]\n",
    "    \n",
    "    plotter = Plotter()\n",
    "    \n",
    "    start_date = calibration_start_dates[country][area]\n",
    "    start_date_lockdown = calibration_lockdown_dates[country]['start']\n",
    "    end_date = calibration_lockdown_dates[country]['end']\n",
    "    \n",
    "    days_until_lockdown = (pd.to_datetime(start_date_lockdown) - pd.to_datetime(start_date)).days\n",
    "    \n",
    "    plotter.plot_daily_at_home(summary, title='Example')"
   ]
  },
  {
   "cell_type": "code",
   "execution_count": 29,
   "metadata": {},
   "outputs": [
    {
     "name": "stdout",
     "output_type": "stream",
     "text": [
      "GER TU\n"
     ]
    },
    {
     "ename": "TypeError",
     "evalue": "comp_contained_over_time() takes 2 positional arguments but 3 were given",
     "output_type": "error",
     "traceback": [
      "\u001b[0;31m---------------------------------------------------------------------------\u001b[0m",
      "\u001b[0;31mTypeError\u001b[0m                                 Traceback (most recent call last)",
      "\u001b[0;32m<ipython-input-29-63f566597e23>\u001b[0m in \u001b[0;36m<module>\u001b[0;34m\u001b[0m\n\u001b[1;32m     11\u001b[0m \u001b[0;31m#         continue\u001b[0m\u001b[0;34m\u001b[0m\u001b[0;34m\u001b[0m\u001b[0;34m\u001b[0m\u001b[0m\n\u001b[1;32m     12\u001b[0m     \u001b[0mprint\u001b[0m\u001b[0;34m(\u001b[0m\u001b[0mcountry\u001b[0m\u001b[0;34m,\u001b[0m \u001b[0marea\u001b[0m\u001b[0;34m)\u001b[0m\u001b[0;34m\u001b[0m\u001b[0;34m\u001b[0m\u001b[0m\n\u001b[0;32m---> 13\u001b[0;31m     \u001b[0mplot_home\u001b[0m\u001b[0;34m(\u001b[0m\u001b[0mcountry\u001b[0m\u001b[0;34m,\u001b[0m \u001b[0marea\u001b[0m\u001b[0;34m,\u001b[0m \u001b[0mymax\u001b[0m\u001b[0;34m,\u001b[0m \u001b[0mxtick_interval\u001b[0m\u001b[0;34m,\u001b[0m \u001b[0mplot_rt\u001b[0m\u001b[0;34m=\u001b[0m\u001b[0;32mFalse\u001b[0m\u001b[0;34m)\u001b[0m\u001b[0;34m\u001b[0m\u001b[0;34m\u001b[0m\u001b[0m\n\u001b[0m\u001b[1;32m     14\u001b[0m \u001b[0;34m\u001b[0m\u001b[0m\n\u001b[1;32m     15\u001b[0m \u001b[0;31m# Crop pdf margins\u001b[0m\u001b[0;34m\u001b[0m\u001b[0;34m\u001b[0m\u001b[0;34m\u001b[0m\u001b[0m\n",
      "\u001b[0;32m<ipython-input-28-6158945ea3e4>\u001b[0m in \u001b[0;36mplot_home\u001b[0;34m(country, area, ymax, xtick_interval, plot_rt)\u001b[0m\n\u001b[1;32m     16\u001b[0m     \u001b[0mdays_until_lockdown\u001b[0m \u001b[0;34m=\u001b[0m \u001b[0;34m(\u001b[0m\u001b[0mpd\u001b[0m\u001b[0;34m.\u001b[0m\u001b[0mto_datetime\u001b[0m\u001b[0;34m(\u001b[0m\u001b[0mstart_date_lockdown\u001b[0m\u001b[0;34m)\u001b[0m \u001b[0;34m-\u001b[0m \u001b[0mpd\u001b[0m\u001b[0;34m.\u001b[0m\u001b[0mto_datetime\u001b[0m\u001b[0;34m(\u001b[0m\u001b[0mstart_date\u001b[0m\u001b[0;34m)\u001b[0m\u001b[0;34m)\u001b[0m\u001b[0;34m.\u001b[0m\u001b[0mdays\u001b[0m\u001b[0;34m\u001b[0m\u001b[0;34m\u001b[0m\u001b[0m\n\u001b[1;32m     17\u001b[0m \u001b[0;34m\u001b[0m\u001b[0m\n\u001b[0;32m---> 18\u001b[0;31m     \u001b[0mplotter\u001b[0m\u001b[0;34m.\u001b[0m\u001b[0mplot_daily_at_home\u001b[0m\u001b[0;34m(\u001b[0m\u001b[0msummary\u001b[0m\u001b[0;34m,\u001b[0m \u001b[0mtitle\u001b[0m\u001b[0;34m=\u001b[0m\u001b[0;34m'Example'\u001b[0m\u001b[0;34m)\u001b[0m\u001b[0;34m\u001b[0m\u001b[0;34m\u001b[0m\u001b[0m\n\u001b[0m",
      "\u001b[0;32m~/contact_tracing_sib/sim/lib/plot.py\u001b[0m in \u001b[0;36mplot_daily_at_home\u001b[0;34m(self, sim, title, filename, figsize, errorevery, acc, ymax)\u001b[0m\n\u001b[1;32m    648\u001b[0m         \u001b[0max\u001b[0m \u001b[0;34m=\u001b[0m \u001b[0mfig\u001b[0m\u001b[0;34m.\u001b[0m\u001b[0madd_subplot\u001b[0m\u001b[0;34m(\u001b[0m\u001b[0;36m111\u001b[0m\u001b[0;34m)\u001b[0m\u001b[0;34m\u001b[0m\u001b[0;34m\u001b[0m\u001b[0m\n\u001b[1;32m    649\u001b[0m \u001b[0;34m\u001b[0m\u001b[0m\n\u001b[0;32m--> 650\u001b[0;31m         \u001b[0mts\u001b[0m\u001b[0;34m,\u001b[0m \u001b[0mall_mu\u001b[0m\u001b[0;34m,\u001b[0m \u001b[0mall_sig\u001b[0m \u001b[0;34m=\u001b[0m \u001b[0mcomp_contained_over_time\u001b[0m\u001b[0;34m(\u001b[0m\u001b[0msim\u001b[0m\u001b[0;34m,\u001b[0m \u001b[0;34m'SocialDistancingForAllMeasure'\u001b[0m\u001b[0;34m,\u001b[0m \u001b[0macc\u001b[0m\u001b[0;34m)\u001b[0m\u001b[0;34m\u001b[0m\u001b[0;34m\u001b[0m\u001b[0m\n\u001b[0m\u001b[1;32m    651\u001b[0m         \u001b[0m_\u001b[0m\u001b[0;34m,\u001b[0m  \u001b[0mpositive_mu\u001b[0m\u001b[0;34m,\u001b[0m \u001b[0mpositive_sig\u001b[0m \u001b[0;34m=\u001b[0m \u001b[0mcomp_contained_over_time\u001b[0m\u001b[0;34m(\u001b[0m\u001b[0msim\u001b[0m\u001b[0;34m,\u001b[0m \u001b[0;34m'SocialDistancingForPositiveMeasure'\u001b[0m\u001b[0;34m,\u001b[0m \u001b[0macc\u001b[0m\u001b[0;34m)\u001b[0m\u001b[0;34m\u001b[0m\u001b[0;34m\u001b[0m\u001b[0m\n\u001b[1;32m    652\u001b[0m         \u001b[0m_\u001b[0m\u001b[0;34m,\u001b[0m  \u001b[0mage_mu\u001b[0m\u001b[0;34m,\u001b[0m \u001b[0mage_sig\u001b[0m \u001b[0;34m=\u001b[0m \u001b[0mcomp_contained_over_time\u001b[0m\u001b[0;34m(\u001b[0m\u001b[0msim\u001b[0m\u001b[0;34m,\u001b[0m \u001b[0;34m'SocialDistancingByAgeMeasure'\u001b[0m\u001b[0;34m,\u001b[0m \u001b[0macc\u001b[0m\u001b[0;34m)\u001b[0m\u001b[0;34m\u001b[0m\u001b[0;34m\u001b[0m\u001b[0m\n",
      "\u001b[0;31mTypeError\u001b[0m: comp_contained_over_time() takes 2 positional arguments but 3 were given"
     ]
    },
    {
     "data": {
      "image/png": "[encoded data removed]",
      "text/plain": [
       "<Figure size 1500x1500 with 1 Axes>"
      ]
     },
     "metadata": {
      "needs_background": "light"
     },
     "output_type": "display_data"
    }
   ],
   "source": [
    "ymax = {'CH' : {'TI': 5000, 'BE': 40000, 'JU': 25000},\n",
    "       'GER': {'TU': 10000, 'RH': 2000, 'KL': 750}}\n",
    "\n",
    "xtick_interval = {\n",
    "    'GER': {'RH': 2, 'TU': 2, 'KL': 3},\n",
    "    'CH': {'BE': 4, 'JU': 4, 'TI': 4},\n",
    "}\n",
    "\n",
    "for country, area in places:\n",
    "#     if area not in ['BE', 'RH']:\n",
    "#         continue\n",
    "    print(country, area)\n",
    "    plot_home(country, area, ymax, xtick_interval, plot_rt=False)\n",
    "    \n",
    "# Crop pdf margins\n",
    "!bash crop_pdfs.sh plots/continued-lockdown-*.pdf\n",
    "# !bash crop_pdfs.sh plots/realistic-scenario-*.pdf"
   ]
  },
  {
   "cell_type": "code",
   "execution_count": null,
   "metadata": {},
   "outputs": [],
   "source": []
  },
  {
   "cell_type": "code",
   "execution_count": null,
   "metadata": {},
   "outputs": [],
   "source": []
  },
  {
   "cell_type": "code",
   "execution_count": null,
   "metadata": {},
   "outputs": [],
   "source": []
  },
  {
   "cell_type": "code",
   "execution_count": null,
   "metadata": {},
   "outputs": [],
   "source": []
  },
  {
   "cell_type": "code",
   "execution_count": null,
   "metadata": {},
   "outputs": [],
   "source": []
  },
  {
   "cell_type": "code",
   "execution_count": null,
   "metadata": {},
   "outputs": [],
   "source": [
    "def plot_prova2(country, area, ymax, xtick_interval, plot_rt=False):\n",
    "    # Format: {`filename for plot` : `list of `Plot` objects`}\n",
    "    plots = {\n",
    "        f'prova-{country}-{area}' : [\n",
    "            Plot(label='No testing',\n",
    "                path=(f'20seeds-40days-{country}-{area}/'\n",
    "                      f'20seeds-40days-{country}-{area}-descr=delta-simulation.pk')),\n",
    "            Plot(label='bp',\n",
    "                path=(f'sib-tracing-40days-sownsapling10-{country}-{area}/'\n",
    "                      f'sib-tracing-40days-sownsapling10-{country}-{area}-descr=example-simulation.pk')),\n",
    "        ],\n",
    "    }\n",
    "    \n",
    "#     plots = {\n",
    "#         f'realistic-scenario-{country}-{area}' : [\n",
    "#             Plot(label=r'Realistic ``lockdown\" scenario', \n",
    "#                 path=(f'continued-lockdown-{country}-{area}/'\n",
    "#                       f'continued-lockdown-{country}-{area}-extended_lockdown_weeks=100.pk')),\n",
    "#         ],\n",
    "#     }\n",
    "\n",
    "\n",
    "    for plot_filename, plots in plots.items():\n",
    "\n",
    "        # extract plot info\n",
    "        labels = get_properties(plots, 'label')\n",
    "        paths = get_properties(plots, 'path')\n",
    "\n",
    "        # plots\n",
    "        plotter = Plotter()\n",
    "\n",
    "        start_date = calibration_start_dates[country][area]\n",
    "        start_date_lockdown = calibration_lockdown_dates[country]['start']\n",
    "        end_date = calibration_lockdown_dates[country]['end']\n",
    "\n",
    "        days_until_lockdown = (pd.to_datetime(start_date_lockdown) - pd.to_datetime(start_date)).days\n",
    "\n",
    "        plotter.compare_total_infections(\n",
    "            paths, \n",
    "            titles=labels, \n",
    "            filename=plot_filename, \n",
    "            start_date=start_date,\n",
    "#             figsize=lib_plot.FIG_SIZE_NEURIPS_DOUBLE_TALL, \n",
    "            figsize=lib_plot.FIG_SIZE_FULL_PAGE_TRIPLE_ARXIV, \n",
    "            figformat='neurips-double',\n",
    "            legend_is_left=False,\n",
    "            lockdown_label='Interventions',\n",
    "            lockdown_at=days_until_lockdown,\n",
    "            lockdown_xshift=0.0,\n",
    "            lockdown_label_y=0.25,\n",
    "            ymax=ymax[country][area],\n",
    "            xtick_interval=xtick_interval[country][area],\n",
    "            errorevery=14\n",
    "        )"
   ]
  },
  {
   "cell_type": "code",
   "execution_count": null,
   "metadata": {},
   "outputs": [],
   "source": [
    "ymax = {'CH' : {'TI': 5000, 'BE': 40000, 'JU': 25000},\n",
    "       'GER': {'TU': 10000, 'RH': 2000, 'KL': 750}}\n",
    "\n",
    "xtick_interval = {\n",
    "    'GER': {'RH': 2, 'TU': 2, 'KL': 3},\n",
    "    'CH': {'BE': 4, 'JU': 4, 'TI': 4},\n",
    "}\n",
    "\n",
    "for country, area in places:\n",
    "#     if area not in ['BE', 'RH']:\n",
    "#         continue\n",
    "    print(country, area)\n",
    "    plot_prova2(country, area, ymax, xtick_interval, plot_rt=False)\n",
    "    \n",
    "# Crop pdf margins\n",
    "!bash crop_pdfs.sh plots/continued-lockdown-*.pdf\n",
    "# !bash crop_pdfs.sh plots/realistic-scenario-*.pdf"
   ]
  },
  {
   "cell_type": "code",
   "execution_count": null,
   "metadata": {
    "scrolled": true
   },
   "outputs": [],
   "source": [
    "def plot_model_fit(country, area, ymax, show_legend=True):\n",
    "    # Format: {`filename for plot` : `list of `Plot` objects`}\n",
    "    plots = {\n",
    "        f'model-fit-{country}-{area}' : [\n",
    "            Plot(label='Simulated cases', \n",
    "                path=(f'continued-lockdown-{country}-{area}/'\n",
    "                      f'continued-lockdown-{country}-{area}-extended_lockdown_weeks=100.pk')),\n",
    "        ],\n",
    "    }\n",
    "    \n",
    "    for plot_filename, plots in plots.items():\n",
    "\n",
    "        # extract plot info\n",
    "        labels = get_properties(plots, 'label')\n",
    "        paths = get_properties(plots, 'path')\n",
    "\n",
    "        # load simulations\n",
    "        results = load_summary_list(paths)\n",
    "        sims = get_properties(results, 'metadata')\n",
    "        summaries = get_properties(results, 'summary')\n",
    "\n",
    "        # plots\n",
    "        plotter = Plotter()\n",
    "\n",
    "        start_date = calibration_start_dates[country][area]\n",
    "        start_date_lockdown = calibration_lockdown_dates[country]['start']\n",
    "        end_date = calibration_lockdown_dates[country]['end']\n",
    "\n",
    "        days_until_lockdown = (pd.to_datetime(start_date_lockdown) - pd.to_datetime(start_date)).days        \n",
    "        \n",
    "        mob_settings_paths = calibration_mob_paths[country][area][1]\n",
    "        with open(mob_settings_paths, 'rb') as fp:\n",
    "            mob_settings = pickle.load(fp)\n",
    "\n",
    "        area_cases = collect_data_from_df(country=country,\n",
    "             area=area,\n",
    "             datatype='new',\n",
    "             start_date_string=start_date,\n",
    "             end_date_string=end_date)\n",
    "\n",
    "        sim_cases = downsample_cases(area_cases, mob_settings)      # only downscaling due LK data for cities\n",
    "        \n",
    "        ts, predicted = plotter.plot_positives_vs_target(\n",
    "            paths, \n",
    "            labels,\n",
    "            sim_cases.sum(axis=1),\n",
    "            title='Calibration period',\n",
    "            filename=plot_filename,\n",
    "            figsize=lib_plot.FIG_SIZE_NEURIPS_TRIPLE,\n",
    "            figformat='neurips-double',\n",
    "            start_date=start_date,\n",
    "            errorevery=1, acc=500,\n",
    "            lockdown_label='Interventions',\n",
    "            ymax=ymax[country][area],\n",
    "            lockdown_at=days_until_lockdown,\n",
    "            lockdown_label_y=ymax[country][area]/8,\n",
    "            small_figure=True,\n",
    "            show_legend=show_legend\n",
    "            #subplot_adjust={'bottom': 0.2, 'top': 2.0, 'left': 0.1, 'right': 1}\n",
    "        )\n",
    "        \n",
    "        def idx_closest_to(arr, val):\n",
    "            return (np.abs(arr - val)).argmin()\n",
    "        \n",
    "        # compute `relative mean absolute error averaged across days`\n",
    "        target = sim_cases.sum(axis=1)\n",
    "        errors = []\n",
    "        for day in range(target.shape[0] ): \n",
    "            approx_idx = idx_closest_to(ts, day)\n",
    "                        \n",
    "            # compute error on day `day`\n",
    "            errors.append(\n",
    "                # 100 * np.abs(predicted[approx_idx] - target[day]) / target[day] # relative MAE\n",
    "                np.abs(predicted[approx_idx] - target[day]) # MAE\n",
    "            )\n",
    "        error = np.mean(errors)\n",
    "        \n",
    "    return error\n",
    "        "
   ]
  },
  {
   "cell_type": "code",
   "execution_count": null,
   "metadata": {
    "scrolled": true
   },
   "outputs": [],
   "source": [
    "errors = []\n",
    "for country, area in places:\n",
    "    print(country, area)\n",
    "    err = plot_model_fit(country, area, ymax_modelfit, show_legend=True)\n",
    "    errors.append(err)\n",
    "\n",
    "print('Errors: ' + str(errors))\n",
    "\n",
    "# Crop pdf margins\n",
    "!bash crop_pdfs.sh plots/model-fit-*.pdf"
   ]
  },
  {
   "cell_type": "markdown",
   "metadata": {},
   "source": [
    "# Counterfactual analyses"
   ]
  },
  {
   "cell_type": "markdown",
   "metadata": {},
   "source": [
    "### Continued lockdown"
   ]
  },
  {
   "cell_type": "code",
   "execution_count": null,
   "metadata": {},
   "outputs": [],
   "source": [
    "def plot_continued_lockdown(country, area, ymax, xtick_interval, plot_rt=False):\n",
    "    # Format: {`filename for plot` : `list of `Plot` objects`}\n",
    "    plots = {\n",
    "        f'continued-lockdown-{country}-{area}' : [\n",
    "            Plot(label='No interventions',\n",
    "                path=(f'baseline-{country}-{area}/'\n",
    "                      f'baseline-{country}-{area}-baseline.pk')),\n",
    "            Plot(label='Lockdown', \n",
    "                path=(f'continued-lockdown-{country}-{area}/'\n",
    "                      f'continued-lockdown-{country}-{area}-extended_lockdown_weeks=100.pk')),\n",
    "            Plot(label='Open after 2 weeks', \n",
    "                path=(f'continued-lockdown-{country}-{area}/'\n",
    "                      f'continued-lockdown-{country}-{area}-extended_lockdown_weeks=2.pk')),\n",
    "            Plot(label='Open after 4 weeks',\n",
    "                path=(f'continued-lockdown-{country}-{area}/'\n",
    "                      f'continued-lockdown-{country}-{area}-extended_lockdown_weeks=4.pk')),\n",
    "        ],\n",
    "    }\n",
    "    \n",
    "#     plots = {\n",
    "#         f'realistic-scenario-{country}-{area}' : [\n",
    "#             Plot(label=r'Realistic ``lockdown\" scenario', \n",
    "#                 path=(f'continued-lockdown-{country}-{area}/'\n",
    "#                       f'continued-lockdown-{country}-{area}-extended_lockdown_weeks=100.pk')),\n",
    "#         ],\n",
    "#     }\n",
    "\n",
    "\n",
    "    for plot_filename, plots in plots.items():\n",
    "\n",
    "        # extract plot info\n",
    "        labels = get_properties(plots, 'label')\n",
    "        paths = get_properties(plots, 'path')\n",
    "\n",
    "        # plots\n",
    "        plotter = Plotter()\n",
    "\n",
    "        start_date = calibration_start_dates[country][area]\n",
    "        start_date_lockdown = calibration_lockdown_dates[country]['start']\n",
    "        end_date = calibration_lockdown_dates[country]['end']\n",
    "\n",
    "        days_until_lockdown = (pd.to_datetime(start_date_lockdown) - pd.to_datetime(start_date)).days\n",
    "\n",
    "        plotter.compare_total_infections(\n",
    "            paths, \n",
    "            titles=labels, \n",
    "            filename=plot_filename, \n",
    "            start_date=start_date,\n",
    "#             figsize=lib_plot.FIG_SIZE_NEURIPS_DOUBLE_TALL, \n",
    "            figsize=lib_plot.FIG_SIZE_FULL_PAGE_TRIPLE_ARXIV, \n",
    "            figformat='neurips-double',\n",
    "            legend_is_left=False,\n",
    "            lockdown_label='Interventions',\n",
    "            lockdown_at=days_until_lockdown,\n",
    "            lockdown_xshift=0.0,\n",
    "            lockdown_label_y=0.25,\n",
    "            ymax=ymax[country][area],\n",
    "            xtick_interval=xtick_interval[country][area],\n",
    "            errorevery=14)\n",
    "        \n",
    "        if plot_rt:\n",
    "            indices = [1, 3]    # Show Rt for the best working strategy only\n",
    "            \n",
    "            paths = [paths[i] for i in indices]\n",
    "            results = load_summary_list(paths)\n",
    "            sims = get_properties(results, 'metadata')\n",
    "            summaries = get_properties(results, 'summary')\n",
    "        \n",
    "            for summary, sim, path in zip(summaries, sims, paths):\n",
    "                #plot_name = sim.experiment_info\n",
    "                _, plot_name = os.path.split(path)\n",
    "                plot_name = plot_name[:-3]\n",
    "                plotter.plot_daily_rts(summary, \n",
    "                                       filename=plot_name+'-Rt', \n",
    "                                       start_date=start_date, \n",
    "                                       titles=None,\n",
    "                                       figsize=(6,4), \n",
    "                                       lockdown_label='Interventions',\n",
    "                                       lockdown_at=days_until_lockdown, \n",
    "                                       lockdown_label_y=10.0, \n",
    "                                       ymax=None, \n",
    "                                       errorevery=1, \n",
    "                                       )"
   ]
  },
  {
   "cell_type": "code",
   "execution_count": null,
   "metadata": {},
   "outputs": [],
   "source": [
    "ymax = {'CH' : {'TI': 5000, 'BE': 40000, 'JU': 25000},\n",
    "       'GER': {'TU': 4000, 'RH': 2000, 'KL': 750}}\n",
    "\n",
    "xtick_interval = {\n",
    "    'GER': {'RH': 2, 'TU': 2, 'KL': 3},\n",
    "    'CH': {'BE': 4, 'JU': 4, 'TI': 4},\n",
    "}\n",
    "\n",
    "for country, area in places:\n",
    "#     if area not in ['BE', 'RH']:\n",
    "#         continue\n",
    "    print(country, area)\n",
    "    plot_continued_lockdown(country, area, ymax_interventions, xtick_interval, plot_rt=False)\n",
    "    \n",
    "# Crop pdf margins\n",
    "!bash crop_pdfs.sh plots/continued-lockdown-*.pdf\n",
    "# !bash crop_pdfs.sh plots/realistic-scenario-*.pdf"
   ]
  },
  {
   "cell_type": "markdown",
   "metadata": {},
   "source": [
    "### K groups"
   ]
  },
  {
   "cell_type": "code",
   "execution_count": null,
   "metadata": {},
   "outputs": [],
   "source": [
    "def plot_k_groups(country, area, ymax, xtick_interval, plot_rt=False):\n",
    "    # Format: {`filename for plot` : `list of `Plot` objects`}\n",
    "    plots = {\n",
    "        f'k-groups-{country}-{area}' : [\n",
    "            Plot(label='No interventions',\n",
    "                path=(f'baseline-{country}-{area}/'\n",
    "                      f'baseline-{country}-{area}-baseline.pk')),\n",
    "            Plot(label='Lockdown', \n",
    "                path=(f'continued-lockdown-{country}-{area}/'\n",
    "                      f'continued-lockdown-{country}-{area}-extended_lockdown_weeks=100.pk')),\n",
    "            Plot(label='K = 2',\n",
    "                path=(f'k-groups-{country}-{area}/'\n",
    "                      f'k-groups-{country}-{area}-K_groups=2.pk')),\n",
    "            Plot(label='K = 3',\n",
    "                path=(f'k-groups-{country}-{area}/'\n",
    "                      f'k-groups-{country}-{area}-K_groups=3.pk')),\n",
    "            Plot(label='K = 4', \n",
    "                path=(f'k-groups-{country}-{area}/'\n",
    "                      f'k-groups-{country}-{area}-K_groups=4.pk')),\n",
    "        ],\n",
    "\n",
    "    }\n",
    "\n",
    "    for plot_filename, plots in plots.items():\n",
    "\n",
    "        # extract plot info\n",
    "        labels = get_properties(plots, 'label')\n",
    "        paths = get_properties(plots, 'path')\n",
    "\n",
    "        # plots\n",
    "        plotter = Plotter()\n",
    "\n",
    "        start_date = calibration_start_dates[country][area]\n",
    "        start_date_lockdown = calibration_lockdown_dates[country]['start']\n",
    "        days_until_lockdown = (pd.to_datetime(start_date_lockdown) - pd.to_datetime(start_date)).days\n",
    "\n",
    "        plotter.compare_total_infections(\n",
    "            paths,\n",
    "            titles=labels, \n",
    "            filename=plot_filename, \n",
    "            start_date=start_date,\n",
    "#             figsize=lib_plot.FIG_SIZE_NEURIPS_DOUBLE_TALL, \n",
    "            figsize=lib_plot.FIG_SIZE_FULL_PAGE_TRIPLE_ARXIV, \n",
    "            figformat='neurips-double',\n",
    "            legend_is_left=False,\n",
    "            lockdown_label='Interventions',\n",
    "            lockdown_at=days_until_lockdown,\n",
    "            lockdown_xshift=0.0,\n",
    "            lockdown_label_y=0.25,\n",
    "            ymax=ymax[country][area], \n",
    "            xtick_interval=xtick_interval[country][area],\n",
    "            errorevery=14)\n",
    "        \n",
    "        \n",
    "        if plot_rt:\n",
    "            indices = [2]    # Show Rt for the best working strategy only\n",
    "            \n",
    "            paths = [paths[i] for i in indices]\n",
    "            results = load_summary_list(paths)\n",
    "            sims = get_properties(results, 'metadata')\n",
    "            summaries = get_properties(results, 'summary')\n",
    "        \n",
    "            for summary, sim in zip(summaries, sims):\n",
    "                plot_name = sim.experiment_info\n",
    "                plotter.plot_daily_rts(summary, \n",
    "                                       filename=plot_name+'-Rt', \n",
    "                                       start_date=start_date, \n",
    "                                       titles=None,\n",
    "                                       figsize=(6,4), \n",
    "                                       lockdown_label='Interventions',\n",
    "                                       lockdown_at=days_until_lockdown, \n",
    "                                       lockdown_label_y=3, \n",
    "                                       ymax=None, \n",
    "                                       errorevery=1, \n",
    "                                       )"
   ]
  },
  {
   "cell_type": "code",
   "execution_count": null,
   "metadata": {},
   "outputs": [],
   "source": [
    "#ymax = {'CH' : {'TI': 750, 'BE': 1000, 'JU': 2000},\n",
    "#        'GER': {'TU': 1200, 'RH': 500, 'KL': 250}}\n",
    "\n",
    "xtick_interval = {\n",
    "    'GER': {'RH': 2, 'TU': 2, 'KL': 3},\n",
    "    'CH': {'BE': 4, 'JU': 4, 'TI': 4},\n",
    "}\n",
    "\n",
    "for country, area in places:\n",
    "#     if area not in ['KL', 'JU']:\n",
    "#         continue\n",
    "    print(country, area)\n",
    "    plot_k_groups(country, area, ymax_interventions, xtick_interval, plot_rt=True)\n",
    "    \n",
    "# Crop pdf margins\n",
    "!bash crop_pdfs.sh plots/k-groups-*.pdf"
   ]
  },
  {
   "cell_type": "markdown",
   "metadata": {},
   "source": [
    "### Vulnerable Groups\n"
   ]
  },
  {
   "cell_type": "code",
   "execution_count": null,
   "metadata": {},
   "outputs": [],
   "source": [
    "def plot_vulnerable_groups(country, area, ymax, ymax_hosp, xtick_interval):\n",
    "    # Format: {`filename for plot` : `list of `Plot` objects`}\n",
    "    plots = {\n",
    "        f'vulnerable-groups-{country}-{area}' : [\n",
    "            Plot(label='No interventions',\n",
    "                path=(f'baseline-{country}-{area}/'\n",
    "                      f'baseline-{country}-{area}-baseline.pk')),\n",
    "            Plot(label='Lockdown', \n",
    "                path=(f'continued-lockdown-{country}-{area}/'\n",
    "                      f'continued-lockdown-{country}-{area}-extended_lockdown_weeks=100.pk')),\n",
    "            Plot(label='Vulnerable groups', \n",
    "                path=(f'vulnerable-groups-{country}-{area}/'\n",
    "                      f'vulnerable-groups-{country}-{area}-.pk')),\n",
    "        ],\n",
    "\n",
    "    }\n",
    "\n",
    "    for plot_filename, plots in plots.items():\n",
    "\n",
    "        # extract plot info\n",
    "        labels = get_properties(plots, 'label')\n",
    "        paths = get_properties(plots, 'path')\n",
    "\n",
    "        # plots\n",
    "        plotter = Plotter()\n",
    "\n",
    "        start_date = calibration_start_dates[country][area]\n",
    "        start_date_lockdown = calibration_lockdown_dates[country]['start']\n",
    "        days_until_lockdown = (pd.to_datetime(start_date_lockdown) - pd.to_datetime(start_date)).days\n",
    "\n",
    "        plotter.compare_total_infections(\n",
    "            paths,\n",
    "            titles=labels, \n",
    "            filename=plot_filename, \n",
    "            start_date=start_date,\n",
    "#             figsize=lib_plot.FIG_SIZE_FULL_PAGE_TRIPLE_ARXIV, \n",
    "            figsize=lib_plot.FIG_SIZE_FULL_PAGE_TRIPLE_ARXIV_SMALL, \n",
    "            figformat='neurips-double',\n",
    "            legend_is_left=False,\n",
    "            lockdown_label='Interventions',\n",
    "            lockdown_at=days_until_lockdown,\n",
    "            lockdown_xshift=0.0,\n",
    "            lockdown_label_y=0.25,\n",
    "            ymax=ymax[country][area], \n",
    "            xtick_interval=xtick_interval[country][area],\n",
    "            errorevery=14)\n",
    "\n",
    "        \n",
    "        \n",
    "        plotter.compare_total_fatalities_and_hospitalizations(\n",
    "            paths,\n",
    "            titles=labels, \n",
    "            mode='show_hosp_only',\n",
    "            filename=plot_filename+ '-hosp', \n",
    "            start_date=start_date,\n",
    "#             figsize=lib_plot.FIG_SIZE_FULL_PAGE_TRIPLE_ARXIV, \n",
    "            figsize=lib_plot.FIG_SIZE_FULL_PAGE_TRIPLE_ARXIV_SMALL, \n",
    "            figformat='neurips-double',\n",
    "            legend_is_left=False,\n",
    "            lockdown_xshift=0.0,\n",
    "            lockdown_at=days_until_lockdown,\n",
    "            lockdown_label='Interventions',\n",
    "            lockdown_label_y=0.25,\n",
    "            ymax=ymax_hosp[country][area], \n",
    "            xtick_interval=xtick_interval[country][area],\n",
    "            errorevery=14)\n",
    "        \n",
    "        plotter.compare_total_fatalities_and_hospitalizations(\n",
    "            paths,\n",
    "            titles=labels, \n",
    "            mode='show_dead_only',\n",
    "            filename=plot_filename+ '-dead', \n",
    "            start_date=start_date,\n",
    "#             figsize=lib_plot.FIG_SIZE_FULL_PAGE_TRIPLE_ARXIV, \n",
    "            figsize=lib_plot.FIG_SIZE_FULL_PAGE_TRIPLE_ARXIV_SMALL, \n",
    "            figformat='neurips-double',\n",
    "            legend_is_left=False,\n",
    "            lockdown_xshift=0.0,\n",
    "            lockdown_at=days_until_lockdown,\n",
    "            lockdown_label='Interventions',\n",
    "            lockdown_label_y=0.25,\n",
    "            ymax=ymax_hosp[country][area], \n",
    "            xtick_interval=xtick_interval[country][area],\n",
    "            errorevery=14)\n",
    "        \n",
    "    "
   ]
  },
  {
   "cell_type": "code",
   "execution_count": null,
   "metadata": {},
   "outputs": [],
   "source": [
    "#ymax = {'CH' : {'TI': 5000, 'BE': 35000, 'JU': 25000},\n",
    "#        'GER': {'TU': 4000, 'RH': 3000, 'KL': 1500}}\n",
    "\n",
    "ymax_hosp = {\n",
    "    'CH' : {'TI' : 120, 'BE': 800, 'JU': 500},\n",
    "    'GER': {'TU': 150, 'RH': 25, 'KL': 18}\n",
    "}\n",
    "\n",
    "xtick_interval = {\n",
    "    'GER': {'RH': 2, 'TU': 2, 'KL': 3},\n",
    "    'CH': {'BE': 4, 'JU': 4, 'TI': 4},\n",
    "}\n",
    "\n",
    "for country, area in places:\n",
    "    print(country, area)\n",
    "    plot_vulnerable_groups(country, area, ymax_interventions, ymax_hosp, xtick_interval)\n",
    "    \n",
    "# Crop pdf margins\n",
    "!bash crop_pdfs.sh plots/vulnerable-groups-*.pdf"
   ]
  },
  {
   "cell_type": "markdown",
   "metadata": {},
   "source": [
    "# Contact tracing"
   ]
  },
  {
   "cell_type": "markdown",
   "metadata": {},
   "source": [
    "### Contact tracing test delay and testing"
   ]
  },
  {
   "cell_type": "code",
   "execution_count": null,
   "metadata": {},
   "outputs": [],
   "source": [
    "def plot_contact_tracing_isolation(country, area, ymax, single_runs=False, plot_rt=False):\n",
    "    # Format: {`filename for plot` : `list of `Plot` objects`}\n",
    "    plots = {\n",
    "        f'tracing-{country}-{area}' : [\n",
    "            Plot(label='Isolate \\& test all, 48h delay',\n",
    "                path=(f'tracing-{country}-{area}/'\n",
    "                      f'tracing-{country}-{area}-tracing=isolate+test-delay=48.0-contacts_tested=100000-test_policy=basic.pk')),\n",
    "            Plot(label='Isolate only, 48h delay',\n",
    "                path=(f'tracing-{country}-{area}/'\n",
    "                      f'tracing-{country}-{area}-tracing=isolate-delay=48.0-contacts_tested=None-test_policy=None.pk')),\n",
    "            Plot(label='Isolate only, 3h delay',\n",
    "                path=(f'tracing-{country}-{area}/'\n",
    "                      f'tracing-{country}-{area}-tracing=isolate-delay=3.0-contacts_tested=None-test_policy=None.pk')),\n",
    "        ]\n",
    "    }\n",
    "\n",
    "    for plot_filename, plots in plots.items():\n",
    "\n",
    "        # extract plot info\n",
    "        labels = get_properties(plots, 'label')\n",
    "        paths = get_properties(plots, 'path')\n",
    "\n",
    "        # plots\n",
    "        plotter = Plotter()\n",
    "\n",
    "        plotter.compare_total_infections(\n",
    "            paths, \n",
    "            titles=labels, \n",
    "            filename=plot_filename, \n",
    "            show_single_runs=False,\n",
    "            figsize=lib_plot.FIG_SIZE_FULL_PAGE_TRIPLE_ARXIV, \n",
    "            figformat='neurips-double',\n",
    "            legend_is_left=True,\n",
    "            ymax=ymax[country][area],\n",
    "            x_axis_dates=False,\n",
    "            xtick_interval=3,\n",
    "            errorevery=14)\n",
    "\n",
    "        \n",
    "        if single_runs:\n",
    "            plotter.compare_total_infections(\n",
    "                paths, \n",
    "                titles=labels, \n",
    "                filename=plot_filename + '-single', \n",
    "                show_single_runs=3,\n",
    "                figsize=lib_plot.FIG_SIZE_FULL_PAGE_TRIPLE_ARXIV, \n",
    "                figformat='neurips-double',\n",
    "                legend_is_left=True,\n",
    "                ymax=ymax[country][area],\n",
    "                x_axis_dates=False,\n",
    "                xtick_interval=3,\n",
    "                errorevery=14)\n",
    "        "
   ]
  },
  {
   "cell_type": "code",
   "execution_count": null,
   "metadata": {},
   "outputs": [],
   "source": [
    "#ymax = {\n",
    "#    'CH' : {'TI' : 50, 'JU': 200, 'BE': 300},\n",
    "#    'GER' : {'TU' : 350, 'RH': 120, 'KL': 90},\n",
    "#}\n",
    "\n",
    "for country, area in places:\n",
    "#     if area != 'TU':\n",
    "#         continue\n",
    "    print(country, area)\n",
    "    plot_contact_tracing_isolation(country, area, ymax_tracing, plot_rt=False)\n",
    "    \n",
    "# Crop pdf margins\n",
    "!bash crop_pdfs.sh plots/tracing-*.pdf"
   ]
  },
  {
   "cell_type": "markdown",
   "metadata": {},
   "source": [
    "### Adoption levels of contact tracing with isolation and testing"
   ]
  },
  {
   "cell_type": "code",
   "execution_count": null,
   "metadata": {},
   "outputs": [],
   "source": [
    "def plot_tracing_isolation_compliance(country, area, ymax, single_runs=False):\n",
    "    # Format: {`filename for plot` : `list of `Plot` objects`}\n",
    "    plots = {\n",
    "        f'tracing-compliance-{country}-{area}' : [\n",
    "            Plot(label='No interventions', \n",
    "                path=(f'baseline-scenario-b-{country}-{area}/'\n",
    "                      f'baseline-scenario-b-{country}-{area}-baseline.pk')),\n",
    "            Plot(label='25\\% compliance',\n",
    "                path=(f'tracing-compliance-{country}-{area}/'\n",
    "                      f'tracing-compliance-{country}-{area}-p=0.25.pk')),\n",
    "            Plot(label='50\\% compliance',\n",
    "                path=(f'tracing-compliance-{country}-{area}/'\n",
    "                      f'tracing-compliance-{country}-{area}-p=0.5.pk')),\n",
    "            Plot(label='65\\% compliance',\n",
    "                path=(f'tracing-compliance-{country}-{area}/'\n",
    "                      f'tracing-compliance-{country}-{area}-p=0.65.pk')),\n",
    "            Plot(label='75\\% compiance',\n",
    "                path=(f'tracing-compliance-{country}-{area}/'\n",
    "                      f'tracing-compliance-{country}-{area}-p=0.75.pk')),\n",
    "            Plot(label='100\\% compliance',\n",
    "                path=(f'tracing-{country}-{area}/'\n",
    "                      f'tracing-{country}-{area}-tracing=isolate+test-delay=48.0-contacts_tested=100000-test_policy=basic.pk')),\n",
    "        ]\n",
    "    }\n",
    "\n",
    "    for plot_filename, plots in plots.items():\n",
    "\n",
    "        # extract plot info\n",
    "        labels = get_properties(plots, 'label')\n",
    "        paths = get_properties(plots, 'path')\n",
    "\n",
    "        # plots\n",
    "        plotter = Plotter()\n",
    "\n",
    "        plotter.compare_total_infections(\n",
    "            paths, \n",
    "            titles=labels, \n",
    "            filename=plot_filename, \n",
    "            show_single_runs=False,\n",
    "#             figsize=lib_plot.FIG_SIZE_FULL_PAGE_TRIPLE_ARXIV, \n",
    "            figsize=lib_plot.FIG_SIZE_FULL_PAGE_DOUBLE_ARXIV_TALL, \n",
    "            figformat='neurips-double',\n",
    "            legend_is_left=True,\n",
    "            lockdown_label_y=1000,\n",
    "            ymax=ymax[country][area],\n",
    "            x_axis_dates=False,\n",
    "            xtick_interval=3,\n",
    "            errorevery=14)\n",
    "        \n",
    "        if single_runs:\n",
    "            plotter.compare_total_infections(\n",
    "                paths, \n",
    "                titles=labels, \n",
    "                filename=plot_filename + '-single', \n",
    "                show_single_runs=5,\n",
    "#                 figsize=lib_plot.FIG_SIZE_FULL_PAGE_TRIPLE_ARXIV, \n",
    "                figsize=lib_plot.FIG_SIZE_FULL_PAGE_DOUBLE_ARXIV_TALL, \n",
    "                figformat='neurips-double',\n",
    "                legend_is_left=True,\n",
    "                lockdown_label_y=1000,\n",
    "                ymax=ymax[country][area] * 1.5,\n",
    "                xtick_interval=3,\n",
    "                errorevery=14)\n",
    "\n",
    "        "
   ]
  },
  {
   "cell_type": "code",
   "execution_count": null,
   "metadata": {},
   "outputs": [],
   "source": [
    "ymax = {'CH' : {'TI': 3500, 'BE': 40000, 'JU': 25000},\n",
    "        'GER': {'TU': 20000, 'KL': 2000, 'RH': 3500}}\n",
    "\n",
    "for country, area in places:\n",
    "#     if area != 'TU': \n",
    "#         continue\n",
    "    print(country, area)\n",
    "    try:\n",
    "        plot_tracing_isolation_compliance(country, area, ymax)\n",
    "    except FileNotFoundError:\n",
    "        print('Summaries not found.')\n",
    "        \n",
    "# Crop pdf margins\n",
    "!bash crop_pdfs.sh plots/tracing-compliance-*.pdf"
   ]
  },
  {
   "cell_type": "markdown",
   "metadata": {},
   "source": [
    "### Increased efficiency using the advanced testing policy"
   ]
  },
  {
   "cell_type": "code",
   "execution_count": null,
   "metadata": {},
   "outputs": [],
   "source": [
    "def plot_advanced_testing_policy(country, area, ymax, plot_daily_tested=False):\n",
    "    # Format: {`filename for plot` : `list of `Plot` objects`}\n",
    "    plots = {\n",
    "        f'tracing-test-efficiency-{country}-{area}' : [\n",
    "            Plot(label='Isolate \\& test all',\n",
    "                path=(f'tracing-{country}-{area}/'\n",
    "                      f'tracing-{country}-{area}-tracing=isolate+test-delay=48.0-contacts_tested=100000-test_policy=basic.pk')),\n",
    "            Plot(label='Isolate \\& test top 20 risk',\n",
    "                path=(f'tracing-{country}-{area}/'\n",
    "                      f'tracing-{country}-{area}-tracing=isolate+test-delay=48.0-contacts_tested=20-test_policy=advanced.pk')),\n",
    "        ]\n",
    "    }\n",
    "\n",
    "    for plot_filename, plots in plots.items():\n",
    "        # extract plot info\n",
    "        labels = get_properties(plots, 'label')\n",
    "        paths = get_properties(plots, 'path')\n",
    "\n",
    "        # plots\n",
    "        plotter = Plotter()\n",
    "\n",
    "        plotter.compare_total_infections(\n",
    "             paths, \n",
    "             titles=labels, \n",
    "             filename=plot_filename, \n",
    "             show_single_runs=False,\n",
    "             figsize=lib_plot.FIG_SIZE_FULL_PAGE_TRIPLE_ARXIV, \n",
    "             figformat='neurips-double',\n",
    "             legend_is_left=True,\n",
    "             ymax=ymax[country][area],\n",
    "             x_axis_dates=False,\n",
    "             errorevery=14)\n",
    "        \n",
    "        try:\n",
    "            positive_tests = dict()\n",
    "            negative_tests = dict()\n",
    "            total_tests = dict()\n",
    "            strategies =  ['standard', 'efficient']\n",
    "            for path, strategy in zip(paths, strategies):\n",
    "                data = load_extracted_data(path, acc=500)\n",
    "                positive_tests[strategy] = data['posi_mu'][-1]\n",
    "                negative_tests[strategy] = data['nega_mu'][-1]\n",
    "                total_tests[strategy] = positive_tests[strategy] + negative_tests[strategy]\n",
    "            relative_positive = positive_tests['efficient'] / positive_tests['standard']\n",
    "            relative_negative = negative_tests['efficient'] / negative_tests['standard']\n",
    "            print(f'Relative numbers of tests with efficient testing strategy: \\n'\n",
    "                  f'Positive: {relative_positive * 100}%, Negative: {relative_negative * 100}% \\n'\n",
    "                  f'Total tests standard: {np.round(total_tests[\"standard\"])}, total tests efficient: {np.round(total_tests[\"efficient\"])}\\n'\n",
    "                  f'Conducted tests reduced by {np.round( (1 - total_tests[\"efficient\"] / total_tests[\"standard\"]) * 100)}%')\n",
    "        except KeyError:\n",
    "            print(f'Condensed summary is missing required keys. Delete corresponding condensed summary and run again.')\n",
    "              \n",
    "        \n",
    "        if plot_daily_tested:\n",
    "            # load simulations\n",
    "            results = load_summary_list(paths)\n",
    "            sims = get_properties(results, 'metadata')\n",
    "            summaries = get_properties(results, 'summary')\n",
    "            \n",
    "            for summary, label in zip(summaries, labels):\n",
    "                plotter.plot_daily_tested(\n",
    "                    summary, \n",
    "                    title=label, \n",
    "                    filename=plot_filename + '-' + label, \n",
    "                    acc=500)\n",
    "            \n",
    "            "
   ]
  },
  {
   "cell_type": "code",
   "execution_count": null,
   "metadata": {},
   "outputs": [],
   "source": [
    "#ymax = {\n",
    "#    'CH' : {'TI' : 60, 'BE': 220, 'JU': 140},\n",
    "#    'GER' : {'TU' : 200, 'KL': 120, 'RH': 120},\n",
    "#}\n",
    "\n",
    "for country, area in places:\n",
    "    print(country, area)\n",
    "#     if area != 'TU':\n",
    "#         continue\n",
    "    plot_advanced_testing_policy(country, area, ymax_tracing)\n",
    "    \n",
    "# Crop pdf margins\n",
    "!bash crop_pdfs.sh plots/tracing-test-efficiency-*.pdf"
   ]
  },
  {
   "cell_type": "markdown",
   "metadata": {},
   "source": [
    "## Conditional Measures"
   ]
  },
  {
   "cell_type": "code",
   "execution_count": null,
   "metadata": {},
   "outputs": [],
   "source": [
    "def plot_conditional_measures(country, area, ymax, show_mean=False):\n",
    "    # Format: {`filename for plot` : `list of `Plot` objects`}\n",
    "    plots = {\n",
    "        f'conditional-measures-scenario-b-{country}-{area}' : [\n",
    "            Plot(label='No interventions', \n",
    "                 path=(f'baseline-scenario-b-{country}-{area}/'\n",
    "                       f'baseline-scenario-b-{country}-{area}-baseline.pk')),\n",
    "            Plot(label='Conditional measures',\n",
    "                path=(f'conditional-measures-scenario-b-{country}-{area}/'\n",
    "                      f'conditional-measures-scenario-b-{country}-{area}-max_pos_tests_per_week_per_100k=50-initially_active=False.pk')),\n",
    "        ]\n",
    "    }\n",
    "    \n",
    "    for plot_filename, plots in plots.items():\n",
    "\n",
    "        # extract plot info\n",
    "        labels = get_properties(plots, 'label')\n",
    "        paths = get_properties(plots, 'path')\n",
    "\n",
    "        # plots\n",
    "        plotter = Plotter()\n",
    "\n",
    "        if show_mean:\n",
    "            plotter.compare_total_infections(\n",
    "                paths, \n",
    "                titles=labels, \n",
    "                filename=plot_filename, \n",
    "                show_single_runs=False,\n",
    "                figsize=lib_plot.FIG_SIZE_FULL_PAGE_TRIPLE_ARXIV, \n",
    "                figformat='neurips-double',\n",
    "                legend_is_left=True,\n",
    "                conditional_measures=1,\n",
    "                ymax=ymax[country][area],\n",
    "                x_axis_dates=False,\n",
    "                errorevery=14)\n",
    "        \n",
    "        which_single_runs = [6, ]\n",
    "        \n",
    "        for which_single_run in which_single_runs:\n",
    "            plotter.compare_total_infections(\n",
    "                paths, \n",
    "                titles=labels, \n",
    "                filename=plot_filename + f'-single-run-{which_single_run}', \n",
    "                show_single_runs=1,\n",
    "                which_single_runs=which_single_run,\n",
    "                figsize=lib_plot.FIG_SIZE_FULL_PAGE_TRIPLE_ARXIV, \n",
    "                figformat='neurips-double',\n",
    "                legend_is_left=True,\n",
    "                conditional_measures=1,\n",
    "                ymax=ymax[country][area],\n",
    "                x_axis_dates=False,\n",
    "                errorevery=14)\n",
    "        \n",
    "        data = load_extracted_data(paths[1], acc=500)\n",
    "        try:\n",
    "            lockdown_time_proportion = data['mean_lockdown_time'] / data['max_time']\n",
    "            print(f'Lockdown was active for {lockdown_time_proportion * 100}% of the time.')\n",
    "        except KeyError:\n",
    "            print(f'Condensed summary is missing required keys. Delete corresponding condensed summary and run again.')"
   ]
  },
  {
   "cell_type": "code",
   "execution_count": null,
   "metadata": {},
   "outputs": [],
   "source": [
    "#ymax = {\n",
    "#    'CH' : {'TI' : 400, 'JU': 600, 'BE': 800},\n",
    "#    'GER' : {'TU' : 400, 'KL': 400, 'RH': 600},\n",
    "#}\n",
    "\n",
    "# BE is broken somehow, some simulations yielded enormously many cases\n",
    "\n",
    "xtick_interval = {\n",
    "    'GER': {'RH': 2, 'TU': 2, 'KL': 3},\n",
    "    'CH': {'BE': 4, 'JU': 4, 'TI': 4},\n",
    "}\n",
    "\n",
    "for country, area in places:\n",
    "#     if area not in ['BE', 'TU']:\n",
    "#         continue\n",
    "    print(country, area)\n",
    "    plot_conditional_measures(country, area, ymax_interventions)\n",
    "    \n",
    "# Crop pdf margins\n",
    "!bash crop_pdfs.sh plots/conditional-measures-scenario-b-*.pdf"
   ]
  },
  {
   "cell_type": "markdown",
   "metadata": {},
   "source": [
    "## Narrowcasting Plot"
   ]
  },
  {
   "cell_type": "code",
   "execution_count": null,
   "metadata": {},
   "outputs": [],
   "source": [
    "from lib.town_maps import MapIllustrator\n",
    "import importlib\n",
    "bboxes = dict()\n",
    "areas = {'TU': 'tubingen', 'KL': 'kaiserslautern', 'RH': 'ruedesheim', 'TI': 'locarno', 'BE': 'bern', 'JU': 'jura'}\n",
    "for area, name in areas.items():\n",
    "    globals()['bbox'] = importlib.import_module(f'lib.settings.town_settings_{name}')\n",
    "    bboxes[area] = bbox.bbox"
   ]
  },
  {
   "cell_type": "code",
   "execution_count": null,
   "metadata": {},
   "outputs": [],
   "source": [
    "def plot_narrowcasting(country, area):\n",
    "    TO_HOURS = 24.0\n",
    "    day_start = 7\n",
    "    day_duration = 14\n",
    "    # make sure to load a summary file that had `store_mob = True`\n",
    "    path = f'narrowcasting-{country}-{area}/narrowcasting-{country}-{area}-single.pk'\n",
    "    summary = load_summary(path)\n",
    "    summary = summary[1]\n",
    "    mob = summary.mob[0]\n",
    "\n",
    "    # plot\n",
    "    ill = MapIllustrator()\n",
    "    ill.marker_radius = 10.0\n",
    "    map_name = f'narrowcasting-plot-{country}-{area}-{day_start}-{day_duration}'\n",
    "\n",
    "    sitemap = ill.empirical_infection_probability_map(\n",
    "        bbox=bboxes[area],\n",
    "        site_loc=mob.site_loc, \n",
    "        site_type=mob.site_type, \n",
    "        site_dict=mob.site_dict, \n",
    "        map_name=map_name, \n",
    "        sim=summary, \n",
    "        t0=TO_HOURS * day_start, \n",
    "        t1=TO_HOURS * (day_start + day_duration), \n",
    "        scaling_markersize=0.3,\n",
    "        delta=0.0, \n",
    "        r=0)\n",
    "    return sitemap"
   ]
  },
  {
   "cell_type": "code",
   "execution_count": null,
   "metadata": {},
   "outputs": [],
   "source": [
    "country, area = 'CH', 'JU'\n",
    "sitemap = plot_narrowcasting(country, area)\n",
    "sitemap"
   ]
  },
  {
   "cell_type": "markdown",
   "metadata": {},
   "source": [
    "# Beacons\n"
   ]
  },
  {
   "cell_type": "code",
   "execution_count": null,
   "metadata": {},
   "outputs": [],
   "source": [
    "country, area = 'CH', 'TI'"
   ]
  },
  {
   "cell_type": "code",
   "execution_count": null,
   "metadata": {},
   "outputs": [],
   "source": [
    "def plot_adoption_levels(country, area, ymax):\n",
    "    # Format: {`filename for plot` : `list of `Plot` objects`}\n",
    "    plots = {\n",
    "        f'beacons-compliance-{country}-{area}' : [\n",
    "            Plot(label='P2P,   50\\% compliance',\n",
    "                path=(f'beacon-baseline-{country}-{area}/'\n",
    "                      f'beacon-baseline-{country}-{area}-p_adoption=0.5.pk')),\n",
    "             Plot(label='Beacon, 50\\% compliance',\n",
    "                path=(f'beacon-manual-tracing-{country}-{area}/'\n",
    "                      f'beacon-manual-tracing-{country}-{area}-p_adoption=0.5-p_recall=1.0-beacon_cache=0.pk')),\n",
    "            \n",
    "            Plot(label='P2P,    75\\% compiance',\n",
    "                path=(f'beacon-baseline-{country}-{area}/'\n",
    "                      f'beacon-baseline-{country}-{area}-p_adoption=0.75.pk')),\n",
    "            Plot(label='Beacon, 75\\% compliance',\n",
    "                path=(f'beacon-manual-tracing-{country}-{area}/'\n",
    "                      f'beacon-manual-tracing-{country}-{area}-p_adoption=0.75-p_recall=1.0-beacon_cache=0.pk')),\n",
    "            \n",
    "            Plot(label='P2P,    100\\% compliance',\n",
    "                path=(f'beacon-baseline-{country}-{area}/'\n",
    "                      f'beacon-baseline-{country}-{area}-p_adoption=1.0.pk')),\n",
    "            Plot(label='Beacon, 100\\% compliance',\n",
    "                path=(f'beacon-manual-tracing-{country}-{area}/'\n",
    "                      f'beacon-manual-tracing-{country}-{area}-p_adoption=1.0-p_recall=1.0-beacon_cache=0.pk')),\n",
    "            ]\n",
    "    }\n",
    "\n",
    "    for plot_filename, plots in plots.items():\n",
    "\n",
    "        # extract plot info\n",
    "        labels = get_properties(plots, 'label')\n",
    "        paths = get_properties(plots, 'path')\n",
    "\n",
    "        # plots\n",
    "        plotter = Plotter()\n",
    "\n",
    "        plotter.compare_total_infections(\n",
    "            paths, \n",
    "            titles=labels, \n",
    "            filename=plot_filename, \n",
    "            show_single_runs=False,\n",
    "#             figsize=lib_plot.FIG_SIZE_FULL_PAGE_TRIPLE_ARXIV, \n",
    "            figsize=lib_plot.FIG_SIZE_FULL_PAGE_DOUBLE_ARXIV_TALL, \n",
    "            figformat='neurips-double',\n",
    "            legend_is_left=True,\n",
    "            lockdown_label_y=1000,\n",
    "            ymax=ymax[country][area],\n",
    "            x_axis_dates=False,\n",
    "            xtick_interval=3,\n",
    "            errorevery=14)"
   ]
  },
  {
   "cell_type": "code",
   "execution_count": null,
   "metadata": {},
   "outputs": [],
   "source": [
    "ymax = {'CH' : {'TI': 500, 'BE': 40000, 'JU': 25000},\n",
    "        'GER': {'TU': 100, 'KL': 2000, 'RH': 3500}}\n",
    "\n",
    "\n",
    "plot_adoption_levels(country, area, ymax)"
   ]
  },
  {
   "cell_type": "code",
   "execution_count": null,
   "metadata": {},
   "outputs": [],
   "source": [
    "def plot_beacon_proportion(country, area, ymax):\n",
    "    # Format: {`filename for plot` : `list of `Plot` objects`}\n",
    "    plots = {\n",
    "        f'beacons-proportion-{country}-{area}' : [\n",
    "            Plot(label='P2P',\n",
    "                path=(f'beacon-baseline-{country}-{area}/'\n",
    "                      f'beacon-baseline-{country}-{area}-p_adoption=0.5.pk')),\n",
    "            \n",
    "            Plot(label='Beacon at all sites',\n",
    "                path=(f'beacon-sparse-locations-{country}-{area}/'\n",
    "                      f'beacon-sparse-locations-{country}-{area}-p_adoption=0.5-p_recall=1.0-beacon_cache=0.5-beacon_proportion=1.0.pk')),\n",
    "            Plot(label=r'Beacon at top 80\\% sites',\n",
    "                path=(f'beacon-sparse-locations-{country}-{area}/'\n",
    "                      f'beacon-sparse-locations-{country}-{area}-p_adoption=0.5-p_recall=1.0-beacon_cache=0.5-beacon_proportion=0.8.pk')),\n",
    "            Plot(label=r'Beacon at top 50\\% sites',\n",
    "                path=(f'beacon-sparse-locations-{country}-{area}/'\n",
    "                      f'beacon-sparse-locations-{country}-{area}-p_adoption=0.5-p_recall=1.0-beacon_cache=0.5-beacon_proportion=0.5.pk')),\n",
    "            Plot(label=r'Beacon at top 10\\% sites',\n",
    "                path=(f'beacon-sparse-locations-{country}-{area}/'\n",
    "                      f'beacon-sparse-locations-{country}-{area}-p_adoption=0.5-p_recall=1.0-beacon_cache=0.5-beacon_proportion=0.2.pk')),\n",
    "            ]\n",
    "    }\n",
    "\n",
    "    for plot_filename, plots in plots.items():\n",
    "\n",
    "        # extract plot info\n",
    "        labels = get_properties(plots, 'label')\n",
    "        paths = get_properties(plots, 'path')\n",
    "\n",
    "        # plots\n",
    "        plotter = Plotter()\n",
    "\n",
    "        plotter.compare_total_infections(\n",
    "            paths, \n",
    "            titles=labels, \n",
    "            filename=plot_filename, \n",
    "            show_single_runs=False,\n",
    "#             figsize=lib_plot.FIG_SIZE_FULL_PAGE_TRIPLE_ARXIV, \n",
    "            figsize=lib_plot.FIG_SIZE_FULL_PAGE_DOUBLE_ARXIV_TALL, \n",
    "            figformat='neurips-double',\n",
    "            legend_is_left=True,\n",
    "            lockdown_label_y=1000,\n",
    "            ymax=ymax[country][area],\n",
    "            x_axis_dates=False,\n",
    "            xtick_interval=3,\n",
    "            errorevery=14)"
   ]
  },
  {
   "cell_type": "code",
   "execution_count": null,
   "metadata": {},
   "outputs": [],
   "source": [
    "plot_beacon_proportion(country, area, ymax)"
   ]
  },
  {
   "cell_type": "code",
   "execution_count": null,
   "metadata": {},
   "outputs": [],
   "source": [
    "def plot_beacon_cache(country, area, ymax):\n",
    "    # Format: {`filename for plot` : `list of `Plot` objects`}\n",
    "    plots = {\n",
    "        f'beacon-cache-{country}-{area}' : [\n",
    "            Plot(label='P2P',\n",
    "                path=(f'beacon-baseline-{country}-{area}/'\n",
    "                      f'beacon-baseline-{country}-{area}-p_adoption=0.5.pk')),\n",
    "            \n",
    "            Plot(label='Beacon, cache 0h',\n",
    "                path=(f'beacon-cache-{country}-{area}/'\n",
    "                      f'beacon-cache-{country}-{area}-p_adoption=0.5-p_recall=1.0-beacon_cache=0.pk')),\n",
    "            Plot(label='Beacon, cache 0.5h',\n",
    "                path=(f'beacon-cache-{country}-{area}/'\n",
    "                      f'beacon-cache-{country}-{area}-p_adoption=0.5-p_recall=1.0-beacon_cache=0.5.pk')),\n",
    "            Plot(label='Beacon, cache 1h',\n",
    "                path=(f'beacon-cache-{country}-{area}/'\n",
    "                      f'beacon-cache-{country}-{area}-p_adoption=0.5-p_recall=1.0-beacon_cache=1.0.pk')),\n",
    "            ]\n",
    "    }\n",
    "\n",
    "    for plot_filename, plots in plots.items():\n",
    "\n",
    "        # extract plot info\n",
    "        labels = get_properties(plots, 'label')\n",
    "        paths = get_properties(plots, 'path')\n",
    "\n",
    "        # plots\n",
    "        plotter = Plotter()\n",
    "\n",
    "        plotter.compare_total_infections(\n",
    "            paths, \n",
    "            titles=labels, \n",
    "            filename=plot_filename, \n",
    "            show_single_runs=False,\n",
    "#             figsize=lib_plot.FIG_SIZE_FULL_PAGE_TRIPLE_ARXIV, \n",
    "            figsize=lib_plot.FIG_SIZE_FULL_PAGE_DOUBLE_ARXIV_TALL, \n",
    "            figformat='neurips-double',\n",
    "            legend_is_left=True,\n",
    "            lockdown_label_y=1000,\n",
    "            ymax=ymax[country][area],\n",
    "            x_axis_dates=False,\n",
    "            xtick_interval=3,\n",
    "            errorevery=14)"
   ]
  },
  {
   "cell_type": "code",
   "execution_count": null,
   "metadata": {},
   "outputs": [],
   "source": [
    "plot_beacon_cache(country, area, ymax)"
   ]
  },
  {
   "cell_type": "code",
   "execution_count": null,
   "metadata": {},
   "outputs": [],
   "source": []
  },
  {
   "cell_type": "code",
   "execution_count": null,
   "metadata": {},
   "outputs": [],
   "source": []
  },
  {
   "cell_type": "code",
   "execution_count": null,
   "metadata": {},
   "outputs": [],
   "source": []
  },
  {
   "cell_type": "code",
   "execution_count": null,
   "metadata": {},
   "outputs": [],
   "source": []
  }
 ],
 "metadata": {
  "kernelspec": {
   "display_name": "Python 3",
   "language": "python",
   "name": "python3"
  },
  "language_info": {
   "codemirror_mode": {
    "name": "ipython",
    "version": 3
   },
   "file_extension": ".py",
   "mimetype": "text/x-python",
   "name": "python",
   "nbconvert_exporter": "python",
   "pygments_lexer": "ipython3",
   "version": "3.7.9"
  }
 },
 "nbformat": 4,
 "nbformat_minor": 4
}
