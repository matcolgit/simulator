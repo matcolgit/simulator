{
 "cells": [
  {
   "cell_type": "code",
   "execution_count": null,
   "id": "exterior-genesis",
   "metadata": {},
   "outputs": [],
   "source": [
    "    def get_sim_path(self, sim):\n",
    "        #version_tag = get_version_tag()\n",
    "        version_tag = ''\n",
    "        return sim.experiment_info + version_tag + '/' + sim.experiment_info + '-' + sim.simulation_info"
   ]
  },
  {
   "cell_type": "markdown",
   "id": "adjacent-spank",
   "metadata": {},
   "source": [
    "because of an unimportant error using get_version_tag."
   ]
  },
  {
   "cell_type": "markdown",
   "id": "fantastic-strategy",
   "metadata": {},
   "source": [
    "Add ranker:"
   ]
  },
  {
   "cell_type": "code",
   "execution_count": null,
   "id": "integrated-somalia",
   "metadata": {},
   "outputs": [],
   "source": [
    "class Experiment(object):\n",
    "    \"\"\"\n",
    "    Class to organize a set of experiment simulations. One experiment objects\n",
    "    contains several simulations that are stored and can be analyzed collectively. \n",
    "    \"\"\"\n",
    "\n",
    "    def __init__(self, *, \n",
    "        experiment_info,\n",
    "        start_date,\n",
    "        end_date,\n",
    "        random_repeats,\n",
    "        full_scale,\n",
    "        verbose,\n",
    "        cpu_count=None,\n",
    "        multi_beta_calibration=False,\n",
    "        condensed_summary=False,\n",
    "        continued_run=False,\n",
    "        ranker=None):\n",
    "\n",
    "        ### LINES ###\n",
    "        \n",
    "        self.ranker = ranker\n",
    "\n",
    "        # list simulations of experiment\n",
    "        self.sims = []"
   ]
  },
  {
   "cell_type": "code",
   "execution_count": null,
   "id": "governing-spyware",
   "metadata": {},
   "outputs": [],
   "source": [
    "def run_all(self):\n",
    "\n",
    "        ### LINES ###\n",
    "        \n",
    "        # run all simulations\n",
    "        for sim in self.sims:\n",
    "\n",
    "            with open(sim.mob_settings_file, 'rb') as fp:\n",
    "                mob_settings = pickle.load(fp)\n",
    "        \n",
    "            summary = launch_parallel_simulations(\n",
    "                mob_settings=sim.mob_settings_file,\n",
    "                distributions=sim.distributions,\n",
    "                ranker=self.ranker,\n",
    "                random_repeats=sim.random_repeats,\n",
    "                cpu_count=self.cpu_count,\n",
    "                params=sim.model_params,\n",
    "                initial_seeds=sim.initial_seeds,\n",
    "                testing_params=sim.testing_params,\n",
    "                measure_list=sim.measure_list,\n",
    "                max_time=TO_HOURS * sim.sim_days,\n",
    "                home_loc=mob_settings['home_loc'],\n",
    "                num_people=len(mob_settings['home_loc']),\n",
    "                site_loc=mob_settings['site_loc'],\n",
    "                num_sites=len(mob_settings['site_loc']),\n",
    "                beacon_config=sim.beacon_config,\n",
    "                thresholds_roc=sim.thresholds_roc if sim.thresholds_roc is not None else [],  # convert to [] if None\n",
    "                store_mob=sim.store_mob,\n",
    "                store_measure_bernoullis=sim.store_mob,\n",
    "                verbose=False)"
   ]
  }
 ],
 "metadata": {
  "kernelspec": {
   "display_name": "Python 3",
   "language": "python",
   "name": "python3"
  },
  "language_info": {
   "codemirror_mode": {
    "name": "ipython",
    "version": 3
   },
   "file_extension": ".py",
   "mimetype": "text/x-python",
   "name": "python",
   "nbconvert_exporter": "python",
   "pygments_lexer": "ipython3",
   "version": "3.7.9"
  }
 },
 "nbformat": 4,
 "nbformat_minor": 5
}
