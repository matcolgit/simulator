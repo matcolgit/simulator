{
 "cells": [
  {
   "cell_type": "markdown",
   "id": "certified-finder",
   "metadata": {},
   "source": [
    "# Sib contact tracing integration"
   ]
  },
  {
   "cell_type": "markdown",
   "id": "brown-instruction",
   "metadata": {},
   "source": [
    "Before the main loop, the events `'sib_tracing'` are added to the event queue, in case `smart_tracing_policy_isolate` and/or `smart_tracing_policy_test` are set to `'sib'`."
   ]
  },
  {
   "cell_type": "code",
   "execution_count": null,
   "id": "altered-apache",
   "metadata": {},
   "outputs": [],
   "source": [
    "        # initialize contact tracing events: add 'update_test' event to queue\n",
    "        # !! VALUES STILL HARDCODED !!\n",
    "        if ('isolate' in self.smart_tracing_actions and self.smart_tracing_policy_isolate == 'sib') or \\\n",
    "               ('test' in self.smart_tracing_actions and self.smart_tracing_policy_test == 'sib'):\n",
    "            for h in range(5, math.floor(self.max_time / (1.0 * TO_HOURS))):\n",
    "                ht = h * 1.0 * TO_HOURS + 0.5 * TO_HOURS\n",
    "                self.queue.push((ht, 'sib_tracing', None, None, None, None), priority=ht)"
   ]
  },
  {
   "cell_type": "markdown",
   "id": "current-sweet",
   "metadata": {},
   "source": [
    "Now it's necessary to stop the other contact tracing measures if the policies are set to `'sib'`, so in `__process_testing_event`:"
   ]
  },
  {
   "cell_type": "code",
   "execution_count": null,
   "id": "defensive-pressing",
   "metadata": {},
   "outputs": [],
   "source": [
    "        # if sib contact tracing is active, isolate positive individuals here\n",
    "        if ('isolate' in self.smart_tracing_actions and self.smart_tracing_policy_isolate == 'sib'):\n",
    "            self.measure_list.start_containment(SocialDistancingForSmartTracing, t=t, j=i)\n",
    "            self.measure_list.start_containment(SocialDistancingForSmartTracingHousehold, t=t, j=i)\n",
    "            self.measure_list.start_containment(SocialDistancingSymptomaticAfterSmartTracing, t=t, j=i)\n",
    "            self.measure_list.start_containment(SocialDistancingSymptomaticAfterSmartTracingHousehold, t=t, j=i)\n",
    "        \n",
    "        # do not process contact tracing if sib contact tracing is active\n",
    "        sib_contact_tracing = ('isolate' in self.smart_tracing_actions and self.smart_tracing_policy_isolate == 'sib') or \\\n",
    "                              ('test' in self.smart_tracing_actions and self.smart_tracing_policy_test == 'sib')\n",
    "\n",
    "        # if the individual is tested positive, process contact tracing when active and intended\n",
    "        if self.state['posi'][i] and (self.smart_tracing_actions != []) and trigger_tracing_if_positive \\\n",
    "           and (not sib_contact_tracing):\n",
    "            self.__update_smart_tracing(t, i)\n",
    "            self.__update_smart_tracing_housholds(t, i)"
   ]
  },
  {
   "cell_type": "markdown",
   "id": "lesbian-evanescence",
   "metadata": {},
   "source": [
    "So if `smart_tracing_policy_isolate` or `smart_tracing_policy_test` are different than `'sib'` (`'basic'`, `'advanced'` etc.), the contact tracing is done with those policies."
   ]
  },
  {
   "cell_type": "markdown",
   "id": "addressed-radiation",
   "metadata": {},
   "source": [
    "The results of the tests are saved in the dictionary `all_obs` (a dictionary and not a list since many tests are done at the same time t), which elements are `{t_test: obs_list}`, where `t_test` is the time the results are available and `obs_list` is a list with elements `[i, s, trigger_tracing]` (`i` is the individual, `s` a boolean variable that indicates the result of the test, and `trigger_tracing` is a boolean variable that indicates whether the test should be used for contact tracing)."
   ]
  },
  {
   "cell_type": "markdown",
   "id": "forced-satellite",
   "metadata": {},
   "source": [
    "So in `DiseaseModel.__init_run`:"
   ]
  },
  {
   "cell_type": "code",
   "execution_count": null,
   "id": "ceramic-buffer",
   "metadata": {},
   "outputs": [],
   "source": [
    "        # record all test results\n",
    "        self.all_obs = {}"
   ]
  },
  {
   "cell_type": "markdown",
   "id": "specialized-liver",
   "metadata": {},
   "source": [
    "and in `__process_testing_event`:"
   ]
  },
  {
   "cell_type": "code",
   "execution_count": null,
   "id": "crude-tobacco",
   "metadata": {},
   "outputs": [],
   "source": [
    "        # record test result\n",
    "        if t in self.all_obs:\n",
    "            self.all_obs[t].append([i, is_positive_test, trigger_tracing_if_positive])\n",
    "        else:\n",
    "            self.all_obs[t] = [[i, is_positive_test, trigger_tracing_if_positive]]"
   ]
  },
  {
   "cell_type": "markdown",
   "id": "turkish-insight",
   "metadata": {},
   "source": [
    "where `t` here is the time the test result is available."
   ]
  },
  {
   "cell_type": "markdown",
   "id": "electronic-picture",
   "metadata": {},
   "source": [
    "Now the `'sib_tracing'` event must be processed, so in the main loop:"
   ]
  },
  {
   "cell_type": "code",
   "execution_count": null,
   "id": "pending-douglas",
   "metadata": {},
   "outputs": [],
   "source": [
    "            # check if sib tracing event            \n",
    "            if event == 'sib_tracing':\n",
    "                self.__process_sib_tracing_event(t)\n",
    "                continue"
   ]
  },
  {
   "cell_type": "markdown",
   "id": "motivated-procedure",
   "metadata": {},
   "source": [
    "and"
   ]
  },
  {
   "cell_type": "code",
   "execution_count": null,
   "id": "distinct-recovery",
   "metadata": {},
   "outputs": [],
   "source": [
    "    def __process_sib_tracing_event(self, t):\n",
    "        # day of the tracing event\n",
    "        t_day = int(t // TO_HOURS)\n",
    "        \n",
    "        # get the time to the last tracing event\n",
    "        # !! VALUES STILL HARDCODED !!\n",
    "        t_start = t - 1.0 * TO_HOURS\n",
    "        \n",
    "        # if it's the first event, set the last tracing event time to zero\n",
    "        # !! VALUES STILL HARDCODED !!\n",
    "        if t_day == 5:\n",
    "            t_start = 0\n",
    "        \n",
    "        # get the new test results\n",
    "        new_obs = []\n",
    "        \n",
    "        times = [th for th in self.all_obs if ((th >=t_start) and (th < t))]\n",
    "        \n",
    "        for th in times:\n",
    "            for test in self.all_obs[th]:\n",
    "                # use result only if trigger_tracing is True\n",
    "                if test[2]:\n",
    "                    # set the time to the test time, discretized\n",
    "                    # !! VALUES STILL HARDCODED !!\n",
    "                    test_time = th - self.test_reporting_lag\n",
    "                    day_temp = int((test_time - 0.5 * TO_HOURS) // TO_HOURS)\n",
    "                    \n",
    "                    # day 0 is potentially longer than the others\n",
    "                    if day_temp < 0:\n",
    "                        day_temp = 0\n",
    "                    \n",
    "                    new_obs.append((test[0], test[1], day_temp))"
   ]
  },
  {
   "cell_type": "markdown",
   "id": "secure-patient",
   "metadata": {},
   "source": [
    "where the interval `[t_start,t]` is the interval of the new information; `all_obs` saves the times of when the results of the tests are available, and not the times of the tests directly, in ordered to account for the possibility of multiple `test_reporting_lag` (which would have to be saved for each test)."
   ]
  },
  {
   "cell_type": "markdown",
   "id": "touched-transcript",
   "metadata": {},
   "source": [
    "The discretization of time (needed for the sib ranking) follows the scheme:"
   ]
  },
  {
   "attachments": {
    "332155fc-7ad0-460f-ac17-ad9acf56f451.png": {
     "image/png": "[encoded data removed]"
    }
   },
   "cell_type": "markdown",
   "id": "another-birthday",
   "metadata": {},
   "source": [
    "![image.png](attachment:332155fc-7ad0-460f-ac17-ad9acf56f451.png)"
   ]
  },
  {
   "cell_type": "markdown",
   "id": "current-season",
   "metadata": {},
   "source": [
    "where the x are the sib contact tracing events, and the new data are the new contacts in that period of time and the new test results. The implementation of manual contact tracing would \"reveal\" contacts that happened in a time window different than the ones reported here."
   ]
  },
  {
   "cell_type": "markdown",
   "id": "public-dressing",
   "metadata": {},
   "source": [
    "Continuing ` def __process_sib_tracing_event(self, t)`:"
   ]
  },
  {
   "cell_type": "code",
   "execution_count": null,
   "id": "ahead-south",
   "metadata": {},
   "outputs": [],
   "source": [
    "        # get new contacts of all the individuals\n",
    "        part_contacts = self.__get_valid_contacts_interval(t_start, t)\n",
    "        \n",
    "        contacts_df = pd.DataFrame(part_contacts, columns = ['i','j','t','deltat'])\n",
    "        \n",
    "        # add new household contacts\n",
    "        housedict = self.mob.households\n",
    "        \n",
    "        contacts_households = []\n",
    "   \n",
    "        for house in housedict.keys():\n",
    "            people_h = housedict[house]\n",
    "            for i in people_h:\n",
    "                for j in people_h:\n",
    "                    if i!=j:\n",
    "                        # if it's the first event, add all the contacts in the previous days\n",
    "                        # !! VALUES STILL HARDCODED !!\n",
    "                        if t_day == 5:\n",
    "                            contacts_households += [(i, j, t) for t in range(0, t_day)]\n",
    "                        else:\n",
    "                            contacts_households += [(i, j, t_day-1)]\n",
    "\n",
    "        contacts_households_df = pd.DataFrame(contacts_households,columns = ['i','j','t'])\n",
    "        # !! VALUES STILL HARDCODED !!\n",
    "        contacts_households_df['deltat'] = 3\n",
    "        \n",
    "        contacts_df = contacts_df.append(contacts_households_df)\n",
    "        contacts_df = contacts_df.sort_values(by=[\"t\",\"i\",\"j\"])\n",
    "        \n",
    "        # compute lambda\n",
    "        t_unit = int(1.0 * TO_HOURS)\n",
    "        beta = self.betas_weighted_mean\n",
    "        contacts_df['lambda'] = 1 - np.exp(-beta * contacts_df['deltat'].to_numpy() / t_unit)\n",
    "        \n",
    "        new_contacts = contacts_df[['i','j','t','lambda']].to_records(index = False)\n",
    "        \n",
    "        # if it's the first event, add fake observations\n",
    "        # !! VALUES STILL HARDCODED !!\n",
    "        if t_day == 5:\n",
    "            for day in range(5):\n",
    "                for i in range(self.inference_algo.N):\n",
    "                    self.inference_algo.f.append_observation(i, -1, day)\n",
    "\n",
    "        # rank all the individuals\n",
    "        rank = self.inference_algo.rank(t_day, new_contacts, new_obs)\n",
    "        \n",
    "        # sort from highest probability to lowest\n",
    "        rank = np.array(sorted(rank, key= lambda tup: tup[1], reverse=True))\n",
    "        \n",
    "        indv_rank = [int(tup[0]) for tup in rank]\n",
    "        \n",
    "        rank_isolate = indv_rank[:self.smart_tracing_isolated_contacts] \n",
    "        rank_test = indv_rank[:self.smart_tracing_tested_contacts] \n",
    "        \n",
    "        '''Execute contact tracing actions for selected contacts'''\n",
    "        if 'isolate' in self.smart_tracing_actions:\n",
    "            for j in rank_isolate:\n",
    "                self.measure_list.start_containment(SocialDistancingForSmartTracing, t=t, j=j)\n",
    "                self.measure_list.start_containment(SocialDistancingForSmartTracingHousehold, t=t, j=j)\n",
    "                self.measure_list.start_containment(SocialDistancingSymptomaticAfterSmartTracing, t=t, j=j)\n",
    "                self.measure_list.start_containment(SocialDistancingSymptomaticAfterSmartTracingHousehold, t=t, j=j)\n",
    "        \n",
    "        # priority = [(1.0 / tup[1]) for tup in rank]\n",
    "\n",
    "        if 'test' in self.smart_tracing_actions:\n",
    "            for j in rank_test:\n",
    "                if self.smart_tracing_policy_test == 'sib':\n",
    "                    self.__apply_for_testing(t=t, i=j, priority=1.0, \n",
    "                        trigger_tracing_if_positive=self.trigger_tracing_after_posi_trace_test)\n",
    "                #elif self.smart_tracing_policy_test == 'advanced_sib':\n",
    "                #    self.__apply_for_testing(t=t, i=j, priority=priority[j], \n",
    "                #        trigger_tracing_if_positive=self.trigger_tracing_after_posi_trace_test)\n",
    "                else:\n",
    "                    raise ValueError('Invalid smart tracing policy.')"
   ]
  },
  {
   "cell_type": "markdown",
   "id": "general-toronto",
   "metadata": {},
   "source": [
    "so a number `smart_tracing_isolated_contacts` and `smart_tracing_tested_contacts` of people are respectively isolated and/or tested. The arguments passed to `inference_algo.rank` are `t_day`, `new_contacts` (record array with elements `(i, j, t_day, lambda)`) and `new_obs` (list with elements `(i, state, t_day)`)."
   ]
  },
  {
   "cell_type": "markdown",
   "id": "verified-signature",
   "metadata": {},
   "source": [
    "The beta used is the `betas_weighted_mean`; the possibility of using the correct beta for each contact will have to be implemented."
   ]
  },
  {
   "cell_type": "markdown",
   "id": "level-transcript",
   "metadata": {},
   "source": [
    "To get the new contacts, the function `__get_valid_contacts_interval` is called:"
   ]
  },
  {
   "cell_type": "code",
   "execution_count": null,
   "id": "integrated-tattoo",
   "metadata": {},
   "outputs": [],
   "source": [
    "def __get_valid_contacts_interval(self, t_start, t_end):\n",
    "        # get all contacts that overlap with the interval [t_start, t_end]\n",
    "        contacts_raw = []\n",
    "        for i in range(self.mob.num_people):\n",
    "            contacts_raw += list(self.mob.find_contacts_of_indiv(i, tmin=t_start, tmax=t_end).find((t_start, t_end)))\n",
    "        \n",
    "        # get valid contacts\n",
    "        valid_contacts = []\n",
    "        for contact in contacts_raw:\n",
    "            if self.__is_sib_tracing_contact_valid(contact=contact):\n",
    "                valid_contacts.append(contact)"
   ]
  },
  {
   "cell_type": "markdown",
   "id": "dependent-arizona",
   "metadata": {},
   "source": [
    "So after getting all the contacts that overlap with the correct time window, the valid contacts are selected through `__is_sib_tracing_contact_valid`:"
   ]
  },
  {
   "cell_type": "code",
   "execution_count": null,
   "id": "round-prediction",
   "metadata": {},
   "outputs": [],
   "source": [
    "def __is_sib_tracing_contact_valid(self, *, contact):\n",
    "        \"\"\" \n",
    "        Compute whether a contact is valid\n",
    "        \"\"\"\n",
    "        \n",
    "        idxi = contact.indiv_i\n",
    "        idxj = contact.indiv_j\n",
    "        \n",
    "        start_contact = contact.t_from\n",
    "        end_contact = contact.t_to_direct\n",
    "        site_id = contact.site\n",
    "        i_visit_id, j_visit_id = contact.id_tup\n",
    "        \n",
    "        '''Check status of both individuals'''\n",
    "        i_has_valid_status = (\n",
    "            # not dead\n",
    "            (not (self.state['dead'][idxi] and self.state_started_at['dead'][idxi] <= start_contact)) and\n",
    "\n",
    "            # not hospitalized at time of contact\n",
    "            (not (self.state['hosp'][idxi] and self.state_started_at['hosp'][idxi] <= start_contact))\n",
    "        )\n",
    "\n",
    "        j_has_valid_status = (\n",
    "            # not dead\n",
    "            (not (self.state['dead'][idxj] and self.state_started_at['dead'][idxj] <= start_contact)) and\n",
    "\n",
    "            # not hospitalized at time of contact\n",
    "            (not (self.state['hosp'][idxj] and self.state_started_at['hosp'][idxj] <= start_contact))\n",
    "        )\n",
    "\n",
    "        if (not i_has_valid_status) or (not j_has_valid_status):\n",
    "            return False\n",
    "        \n",
    "        '''Check contact tracing channels'''\n",
    "        # check if i is compliant with digital tracing\n",
    "        is_i_compliant = self.measure_list.is_compliant(\n",
    "            ComplianceForAllMeasure, \n",
    "            # to be consistent with general `is_i_compliant` check outside, don't use `start_contact`\n",
    "            t=max(end_contact, 0.0), j=idxi)\n",
    "\n",
    "        # check if j is compliant with digital tracing\n",
    "        is_j_compliant = self.measure_list.is_compliant(\n",
    "            ComplianceForAllMeasure,\n",
    "            # to be consistent with `is_i_compliant` check, don't use `start_contact`\n",
    "            t=max(end_contact, 0.0), j=idxj)\n",
    "        \n",
    "        # Check if site at which contact happened has a beacon for beacon tracing\n",
    "        if self.mob.beacon_config is not None:\n",
    "            site_has_beacon = self.mob.site_has_beacon[site_id]\n",
    "        else:\n",
    "            site_has_beacon = False\n",
    "        \n",
    "        # Contacts can be identified if one of the following is true:\n",
    "        # 1) i and j are compliant with digital tracing (require P2P tracing or location-based tracing with beacon at site)\n",
    "        digital_tracable = is_i_compliant and is_j_compliant and ((self.mob.beacon_config is None) or site_has_beacon)\n",
    "        \n",
    "        contact_tracable = digital_tracable\n",
    "        \n",
    "        if not contact_tracable:\n",
    "            return False\n",
    "        \n",
    "        '''Check SocialDistancing measures'''\n",
    "        is_i_contained = self.is_person_home_from_visit_due_to_measure(\n",
    "            t=start_contact, i=idxi, visit_id=i_visit_id, \n",
    "            site_type=self.site_dict[self.site_type[site_id]])\n",
    "        is_j_contained = self.is_person_home_from_visit_due_to_measure(\n",
    "            t=start_contact, i=idxj, visit_id=j_visit_id, \n",
    "            site_type=self.site_dict[self.site_type[site_id]])\n",
    "\n",
    "        if is_i_contained or is_j_contained:\n",
    "            return False\n",
    "\n",
    "        # if all of the above checks passed, then contact is valid\n",
    "        return True"
   ]
  },
  {
   "cell_type": "markdown",
   "id": "coordinate-henry",
   "metadata": {},
   "source": [
    "So the contact is invalid if i or j are hospitalized or dead, if they don't have the tracing app or of they are isolated due to some measure."
   ]
  },
  {
   "cell_type": "markdown",
   "id": "informal-flavor",
   "metadata": {},
   "source": [
    "Continuing `__get_valid_contacts_interval`:"
   ]
  },
  {
   "cell_type": "code",
   "execution_count": null,
   "id": "third-elite",
   "metadata": {},
   "outputs": [],
   "source": [
    "        # check if contacts are symmetric\n",
    "        t_to_unique = dict()\n",
    "        t_from_unique = dict()\n",
    "        \n",
    "        for h in valid_contacts:\n",
    "            if h.indiv_i > h.indiv_j:\n",
    "                idxi = h.indiv_j\n",
    "                idxj = h.indiv_i\n",
    "            else:\n",
    "                idxi = h.indiv_i\n",
    "                idxj = h.indiv_j\n",
    "            link_from = (idxi, idxj, h.t_from, h.site) # check contacts with the same starting time\n",
    "            link_to = (idxi, idxj, h.t_to_direct, h.site) # check contacts with the same ending time\n",
    "            if link_from in t_to_unique:\n",
    "                if t_to_unique[link_from] != h.t_to_direct:\n",
    "                    print(idxi, idxj, h.t_from, \"but\", h.t_to_direct, \"!=\", t_to_unique[link_from])\n",
    "                t_to_unique[link_from] = max(t_to_unique[link_from], h.t_to_direct)\n",
    "            else:\n",
    "                t_to_unique[link_from] = h.t_to_direct\n",
    "            if link_to in t_from_unique:\n",
    "                if t_from_unique[link_to] != h.t_from:\n",
    "                    print(idxi, idxj, h.t_to_direct, \"but\", h.t_from, \"!=\", t_from_unique[link_to])\n",
    "                t_from_unique[link_to] = min(t_from_unique[link_to], h.t_from)\n",
    "            else:\n",
    "                t_from_unique[link_to] = h.t_from\n",
    "        \n",
    "        # collect contacts by site and match t_from and t_to\n",
    "        site_cont = dict()\n",
    "        for link in t_to_unique:\n",
    "            a = (link[0], link[1], link[3]) # (i,j,site)\n",
    "            if a in site_cont:\n",
    "                site_cont[a].append( (link[2], t_to_unique[link]) ) if (link[2], t_to_unique[link]) not in site_cont[a] \\\n",
    "                else site_cont[a] \n",
    "            else:\n",
    "                site_cont[a] = [(link[2], t_to_unique[link])] \n",
    "\n",
    "        for link in t_from_unique:\n",
    "            a = (link[0], link[1], link[3]) # (i,j,site)\n",
    "            if a in site_cont:\n",
    "                site_cont[a].append( (t_from_unique[link] ,link[2]) ) if (t_from_unique[link] ,link[2]) not in site_cont[a] \\\n",
    "                else site_cont[a]\n",
    "            else:\n",
    "                site_cont[a] = [(t_from_unique[link], link[2])]\n",
    "        \n",
    "        # drop all contacts with duration less than t_res independently on the day they occur (if flag True)\n",
    "        # !! STILL HARDCODED !!\n",
    "        first_filter = True\n",
    "        t_res = 0\n",
    "        \n",
    "        cont=[]\n",
    "        for link in site_cont:\n",
    "            all_times = site_cont[link]\n",
    "            for t in all_times:\n",
    "                if first_filter:\n",
    "                    if t[1]-t[0] > t_res:\n",
    "                        cont.append( (link[0], link[1], t[0], t[1], t[1]-t[0], link[2], self.mob.site_type[link[2]]) )  \n",
    "                else:\n",
    "                    cont.append( (link[0], link[1], t[0], t[1], t[1]-t[0], link[2], self.mob.site_type[link[2]]) )\n",
    "        \n",
    "        # build DataFrame\n",
    "        contact_raw = pd.DataFrame(data=cont, columns=['indiv_i', 'indiv_j', 't_from', 't_to', 'deltat','site','site_type'])\n",
    "        \n",
    "        # filter them by duration\n",
    "        n_contacts = len(contact_raw)\n",
    "        indiv_i = contact_raw.indiv_i.to_numpy()\n",
    "        indiv_j = contact_raw.indiv_j.to_numpy()\n",
    "        t_from = contact_raw.t_from.to_numpy()\n",
    "        t_to = contact_raw.t_to.to_numpy()\n",
    "        dt = contact_raw.deltat.to_numpy()\n",
    "        sites = contact_raw.site.to_numpy()\n",
    "\n",
    "        # duration of all contacts, unique (i,j)\n",
    "        dt_dict = {}\n",
    "\n",
    "        for i in range(n_contacts):\n",
    "            #if i % 500000 == 0 :\n",
    "            #    print(round(i / n_contacts * 100, 2), \"%\")\n",
    "            \n",
    "            # !! VALUES STILL HARDCODED !!\n",
    "            day_start = int((t_from[i] - 0.5 * TO_HOURS) // TO_HOURS)\n",
    "            day_end = int((t_to[i] - 0.5 * TO_HOURS) // TO_HOURS)\n",
    "            \n",
    "            t_unit = int(1.0 * TO_HOURS)\n",
    "            \n",
    "            # day 0 is potentially longer than the others\n",
    "            if day_start < 0:\n",
    "                day_start = 0\n",
    "            \n",
    "            if day_end < 0:\n",
    "                day_end = 0\n",
    "            \n",
    "            idxi = indiv_i[i]\n",
    "            idxj = indiv_j[i]\n",
    "            \n",
    "            assert(idxi < idxj)\n",
    "            \n",
    "            if day_start == day_end:\n",
    "                if (idxi, idxj, day_start) in dt_dict:\n",
    "                    dt_dict[(idxi, idxj, day_start)] += dt[i]\n",
    "                else:\n",
    "                    dt_dict[(idxi, idxj, day_start)] = dt[i]\n",
    "            else:\n",
    "                # !! VALUES STILL HARDCODED !!\n",
    "                dt_initial = (0.5 * t_unit + (day_start + 1) * t_unit) - t_from[i]\n",
    "                dt_final = t_to[i] - (0.5 * t_unit + day_end * t_unit)\n",
    "                \n",
    "                # debug\n",
    "                if (day_end == 0):\n",
    "                    raise ValueError('Contact ended on day 0 but starting day is not 0')               \n",
    "                if (dt_initial > t_unit and day_start != 0):\n",
    "                    raise ValueError('Contact time is more than one day while pooling')\n",
    "                if (dt_final > t_unit and day_start != 0):\n",
    "                    raise ValueError('Contact time is more than one day while pooling')\n",
    "                \n",
    "                if (idxi, idxj, day_start) in dt_dict:\n",
    "                    dt_dict[(idxi, idxj, day_start)] += dt_initial\n",
    "                else:\n",
    "                    dt_dict[(idxi, idxj, day_start)] = dt_initial\n",
    "                \n",
    "                if (idxi, idxj, day_end) in dt_dict:\n",
    "                    dt_dict[(idxi, idxj, day_end)] += dt_final\n",
    "                else:\n",
    "                    dt_dict[(idxi, idxj, day_end)] = dt_final\n",
    "                \n",
    "                if day_end - day_start > 1:\n",
    "                    for t in np.arange(day_start+1,day_end,1):\n",
    "                        if (idxi, idxj, t) in dt_dict:\n",
    "                            dt_dict[(idxi, idxj, t)] += t_unit\n",
    "                        else:\n",
    "                            dt_dict[(idxi, idxj, t)] = t_unit\n",
    "\n",
    "        # filter and double them\n",
    "        cont_sqzd_ls = []\n",
    "        for a in dt_dict:\n",
    "            if dt_dict[a] > t_res:\n",
    "                cont_sqzd_ls.append([a[1], a[0], a[2], dt_dict[a]])\n",
    "                cont_sqzd_ls.append([a[0], a[1], a[2], dt_dict[a]])\n",
    "\n",
    "        #print(\"Coarse-grained contacts\", int(len(cont_sqzd_ls)/2))\n",
    "        \n",
    "        return cont_sqzd_ls"
   ]
  },
  {
   "cell_type": "markdown",
   "id": "higher-piece",
   "metadata": {},
   "source": [
    "so after checking if the contacts are symmetric, all the contacts that happened between i and j in a single day (with the convention described before) are pooled together."
   ]
  },
  {
   "cell_type": "markdown",
   "id": "driven-rwanda",
   "metadata": {},
   "source": [
    "Regarding the household contacts, the check to see if the contact is valid is done in `__is_sib_tracing_contact_valid_households`:"
   ]
  },
  {
   "cell_type": "code",
   "execution_count": null,
   "id": "premier-glenn",
   "metadata": {},
   "outputs": [],
   "source": [
    "def __is_sib_tracing_contact_valid_households(self, i, j, house, t_day):\n",
    "        # start_contact is set to the start time of the day\n",
    "        # !! VALUES STILL HARDCODED !!\n",
    "        start_contact = t_day * TO_HOURS + 0.5 * TO_HOURS\n",
    "        \n",
    "        # day 0 is potentially longer\n",
    "        if t_day == 0:\n",
    "            start_contact = 0\n",
    "        \n",
    "        '''Check status of both individuals'''\n",
    "        i_has_valid_status = (\n",
    "            # not dead\n",
    "            (not (self.state['dead'][i] and self.state_started_at['dead'][i] <= start_contact)) and\n",
    "\n",
    "            # not hospitalized at time of contact\n",
    "            (not (self.state['hosp'][i] and self.state_started_at['hosp'][i] <= start_contact))\n",
    "        )\n",
    "\n",
    "        j_has_valid_status = (\n",
    "            # not dead\n",
    "            (not (self.state['dead'][j] and self.state_started_at['dead'][j] <= start_contact)) and\n",
    "\n",
    "            # not hospitalized at time of contact\n",
    "            (not (self.state['hosp'][j] and self.state_started_at['hosp'][j] <= start_contact))\n",
    "        )\n",
    "        \n",
    "        if (not i_has_valid_status) or (not j_has_valid_status):\n",
    "            return False\n",
    "        \n",
    "        '''Check SocialDistancing measures'''\n",
    "        is_i_home_isolated = (\n",
    "            self.measure_list.is_contained(\n",
    "                SocialDistancingForPositiveMeasureHousehold, t=start_contact, j=i,  \n",
    "                state_posi_started_at=self.state_started_at['posi'],\n",
    "                state_posi_ended_at=self.state_ended_at['posi'],\n",
    "                state_resi_started_at=self.state_started_at['resi'],\n",
    "                state_dead_started_at=self.state_started_at['dead']) or \n",
    "            self.measure_list.is_contained(\n",
    "                SocialDistancingForSmartTracingHousehold, t=start_contact, j=i,\n",
    "                state_nega_started_at=self.state_started_at['nega'],\n",
    "                state_nega_ended_at=self.state_ended_at['nega']) or\n",
    "            self.measure_list.is_contained(\n",
    "                SocialDistancingSymptomaticAfterSmartTracingHousehold, t=start_contact, j=i,\n",
    "                state_isym_started_at=self.state_started_at['isym'],\n",
    "                state_isym_ended_at=self.state_ended_at['isym'],\n",
    "                state_nega_started_at=self.state_started_at['nega'],\n",
    "                state_nega_ended_at=self.state_ended_at['nega'])\n",
    "        )\n",
    "        \n",
    "        is_j_home_isolated = (\n",
    "            self.measure_list.is_contained(\n",
    "                SocialDistancingForPositiveMeasureHousehold, t=start_contact, j=j,  \n",
    "                state_posi_started_at=self.state_started_at['posi'],\n",
    "                state_posi_ended_at=self.state_ended_at['posi'],\n",
    "                state_resi_started_at=self.state_started_at['resi'],\n",
    "                state_dead_started_at=self.state_started_at['dead']) or \n",
    "            self.measure_list.is_contained(\n",
    "                SocialDistancingForSmartTracingHousehold, t=start_contact, j=j,\n",
    "                state_nega_started_at=self.state_started_at['nega'],\n",
    "                state_nega_ended_at=self.state_ended_at['nega']) or\n",
    "            self.measure_list.is_contained(\n",
    "                SocialDistancingSymptomaticAfterSmartTracingHousehold, t=start_contact, j=j,\n",
    "                state_isym_started_at=self.state_started_at['isym'],\n",
    "                state_isym_ended_at=self.state_ended_at['isym'],\n",
    "                state_nega_started_at=self.state_started_at['nega'],\n",
    "                state_nega_ended_at=self.state_ended_at['nega'])\n",
    "        )\n",
    "        \n",
    "        if is_i_home_isolated or is_j_home_isolated:\n",
    "            return False\n",
    "        \n",
    "        # if all of the above checks passed, then contact is valid\n",
    "        return True"
   ]
  },
  {
   "cell_type": "markdown",
   "id": "handed-lighter",
   "metadata": {},
   "source": [
    "#### Excluded individuals\n",
    "\n",
    "After having ranked the individuals, the ones with higher probability of being infected are isolated and/or tested. The individuals excluded from this measure are:\n",
    "\n",
    "* hospitalized/dead individuals\n",
    "* individuals that have already tested positive\n",
    "* individuals already in isolation (from contact tracing)\n",
    "\n",
    "It's possible that using these rules, the contact traced isolated individuals (that tested negative) are immediately isolated and tested again immediately after the end of the isolation period; this should not happen since the probabilities of being infected depend maily on the most recent contacts."
   ]
  },
  {
   "cell_type": "markdown",
   "id": "experimental-electronics",
   "metadata": {},
   "source": [
    "## Inference algorithm"
   ]
  },
  {
   "cell_type": "markdown",
   "id": "unusual-genesis",
   "metadata": {},
   "source": [
    "The inference algorithm is passed in the function `__init__` of the class `DiseaseModel`:"
   ]
  },
  {
   "cell_type": "code",
   "execution_count": null,
   "id": "korean-token",
   "metadata": {},
   "outputs": [],
   "source": [
    "    def __init__(self, mob, distributions, inference_algo):\n",
    "        \"\"\"\n",
    "        Init simulation object with parameters\n",
    "\n",
    "        Arguments:\n",
    "        ---------\n",
    "        mob:\n",
    "            object of class MobilitySimulator providing mobility data\n",
    "\n",
    "        \"\"\" \n",
    "\n",
    "        # cache settings\n",
    "        self.mob = mob\n",
    "        self.d = distributions\n",
    "        assert(np.allclose(np.array(self.d.delta), np.array(self.mob.delta), atol=1e-3))\n",
    "        \n",
    "        # inference algorithm\n",
    "        self.inference_algo = inference_algo"
   ]
  },
  {
   "cell_type": "markdown",
   "id": "union-asian",
   "metadata": {},
   "source": [
    "and it is initialized in the function `__init_run`:"
   ]
  },
  {
   "cell_type": "code",
   "execution_count": null,
   "id": "cellular-summer",
   "metadata": {},
   "outputs": [],
   "source": [
    "        # initialize inference algorithm\n",
    "        self.inference_algo.init(self.n_people, int((self.max_time // TO_HOURS) + 1))"
   ]
  },
  {
   "cell_type": "markdown",
   "id": "collected-display",
   "metadata": {},
   "source": [
    "`inference_algo` is an object of the class `WinBPProb0Ranker` which is defined in `sim/ranker/mod_winbp_prob0_rank.py`, which is the same as the original implementation except for the variable `data`, that isn't used.\n",
    "So the implementation used at the moment is\n",
    "\n",
    "    def rank(self, t_day, daily_contacts, daily_obs)\n",
    "\n",
    "instead of the original\n",
    "\n",
    "    def rank(self, t_day, daily_contacts, daily_obs, data)"
   ]
  },
  {
   "cell_type": "markdown",
   "id": "stainless-meditation",
   "metadata": {},
   "source": [
    "# To do list\n",
    "\n",
    "### Main\n",
    "\n",
    "* implement `test_HH` and `quarantine_HH` (possibility of always testing and quarantining household members following a positive test)\n",
    "* hardcoded parameters\n",
    "* define a testing priority consistent with the others\n",
    "* contacts informations obtained with manual contact tracing could be implemented only for individuals who tested positive\n",
    "* different betas and beta multipliers, atm using `self.betas_weighted_mean`\n",
    "\n",
    "\n",
    "### Other\n",
    "\n",
    "* starting time of testing and intervention (also frequency in this case) is still hardcoded; the frequency and daily hour of intervention are also used in `__process_sib_tracing_event`\n",
    "* `contact_duration_households` still hardcoded, also something in `__is_sib_tracing_contact_valid_households`"
   ]
  },
  {
   "cell_type": "code",
   "execution_count": null,
   "id": "wired-bleeding",
   "metadata": {},
   "outputs": [],
   "source": []
  }
 ],
 "metadata": {
  "kernelspec": {
   "display_name": "Python 3",
   "language": "python",
   "name": "python3"
  },
  "language_info": {
   "codemirror_mode": {
    "name": "ipython",
    "version": 3
   },
   "file_extension": ".py",
   "mimetype": "text/x-python",
   "name": "python",
   "nbconvert_exporter": "python",
   "pygments_lexer": "ipython3",
   "version": "3.7.9"
  }
 },
 "nbformat": 4,
 "nbformat_minor": 5
}
