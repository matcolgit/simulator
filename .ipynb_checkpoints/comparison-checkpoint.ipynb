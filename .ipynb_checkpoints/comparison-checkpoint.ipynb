{
 "cells": [
  {
   "cell_type": "markdown",
   "id": "extended-championship",
   "metadata": {},
   "source": [
    "The article contact tracing starts immediately"
   ]
  },
  {
   "cell_type": "markdown",
   "id": "sophisticated-input",
   "metadata": {},
   "source": [
    "Also manual contact tracing"
   ]
  },
  {
   "cell_type": "markdown",
   "id": "serial-crash",
   "metadata": {},
   "source": [
    "Also a lot more isolated people, since it isolates the contacts of each positive individual:"
   ]
  }
 ],
 "metadata": {
  "kernelspec": {
   "display_name": "Python 3",
   "language": "python",
   "name": "python3"
  },
  "language_info": {
   "codemirror_mode": {
    "name": "ipython",
    "version": 3
   },
   "file_extension": ".py",
   "mimetype": "text/x-python",
   "name": "python",
   "nbconvert_exporter": "python",
   "pygments_lexer": "ipython3",
   "version": "3.7.9"
  }
 },
 "nbformat": 4,
 "nbformat_minor": 5
}
