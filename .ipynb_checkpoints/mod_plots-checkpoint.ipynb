{
 "cells": [
  {
   "cell_type": "markdown",
   "id": "excess-midnight",
   "metadata": {},
   "source": [
    "Commented lines that set the font to Times New Roman cause it caused an error."
   ]
  },
  {
   "cell_type": "code",
   "execution_count": null,
   "id": "induced-stability",
   "metadata": {},
   "outputs": [],
   "source": []
  }
 ],
 "metadata": {
  "kernelspec": {
   "display_name": "Python 3",
   "language": "python",
   "name": "python3"
  },
  "language_info": {
   "codemirror_mode": {
    "name": "ipython",
    "version": 3
   },
   "file_extension": ".py",
   "mimetype": "text/x-python",
   "name": "python",
   "nbconvert_exporter": "python",
   "pygments_lexer": "ipython3",
   "version": "3.7.9"
  }
 },
 "nbformat": 4,
 "nbformat_minor": 5
}
