{
 "cells": [
  {
   "cell_type": "markdown",
   "id": "precise-vietnamese",
   "metadata": {},
   "source": [
    "Added ranker"
   ]
  },
  {
   "cell_type": "code",
   "execution_count": null,
   "id": "warming-ceramic",
   "metadata": {},
   "outputs": [],
   "source": [
    "def launch_parallel_simulations(mob_settings, distributions, ranker, random_repeats, cpu_count, params, \n",
    "    initial_seeds, testing_params, measure_list, max_time, num_people, num_sites, site_loc, home_loc,\n",
    "    beacon_config=None, thresholds_roc=None, verbose=True, synthetic=False, summary_options=None,\n",
    "    store_mob=False, store_measure_bernoullis=False):\n",
    "    \n",
    "    ### LINES ###\n",
    "    \n",
    "    ranker_list = [ranker for _ in range(random_repeats)]\n",
    "    \n",
    "    ### LINES ###\n",
    "    \n",
    "    with ProcessPoolExecutor(cpu_count) as ex:\n",
    "        res = ex.map(pp_launch, repeat_ids, mob_setting_list, distributions_list, ranker_list, params_list,\n",
    "                     initial_seeds_list, testing_params_list, measure_list_list, max_time_list,\n",
    "                     thresholds_roc_list, store_mob_list, store_measure_bernoullis_list)"
   ]
  },
  {
   "cell_type": "code",
   "execution_count": null,
   "id": "listed-briefing",
   "metadata": {},
   "outputs": [],
   "source": [
    "def pp_launch(r, kwargs, distributions, ranker, params, initial_counts, testing_params, measure_list, max_time,\n",
    "              thresholds_roc, store_mob, store_measure_bernoullis):\n",
    "    \n",
    "    mob = MobilitySimulator(**kwargs)\n",
    "    mob.simulate(max_time=max_time)\n",
    "\n",
    "    sim = DiseaseModel(mob, distributions, ranker)"
   ]
  },
  {
   "cell_type": "markdown",
   "id": "concrete-korean",
   "metadata": {},
   "source": [
    "Debug mode:"
   ]
  },
  {
   "cell_type": "code",
   "execution_count": null,
   "id": "tracked-coffee",
   "metadata": {},
   "outputs": [],
   "source": [
    "#with ProcessPoolExecutor(cpu_count) as ex:\n",
    "    #    res = ex.map(pp_launch, repeat_ids, mob_setting_list, distributions_list, ranker_list, params_list,\n",
    "    #                 initial_seeds_list, testing_params_list, measure_list_list, max_time_list,\n",
    "    #                 thresholds_roc_list, store_mob_list, store_measure_bernoullis_list)\n",
    "\n",
    "    # # DEBUG mode (to see errors printed properly)\n",
    "    res = []\n",
    "    for r in repeat_ids:\n",
    "        res.append(pp_launch(r, mob_setting_list[r], distributions_list[r], ranker_list[r], params_list[r],\n",
    "                    initial_seeds_list[r], testing_params_list[r], measure_list_list[r], \n",
    "                    max_time_list[r], thresholds_roc_list[r], store_mob_list[r], store_measure_bernoullis_list[r]))"
   ]
  }
 ],
 "metadata": {
  "kernelspec": {
   "display_name": "Python 3",
   "language": "python",
   "name": "python3"
  },
  "language_info": {
   "codemirror_mode": {
    "name": "ipython",
    "version": 3
   },
   "file_extension": ".py",
   "mimetype": "text/x-python",
   "name": "python",
   "nbconvert_exporter": "python",
   "pygments_lexer": "ipython3",
   "version": "3.7.9"
  }
 },
 "nbformat": 4,
 "nbformat_minor": 5
}
